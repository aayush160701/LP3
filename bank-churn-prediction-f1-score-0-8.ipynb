{
 "cells": [
  {
   "cell_type": "code",
   "execution_count": 1,
   "id": "62f38d6b",
   "metadata": {
    "execution": {
     "iopub.execute_input": "2022-11-07T10:54:10.728898Z",
     "iopub.status.busy": "2022-11-07T10:54:10.728446Z",
     "iopub.status.idle": "2022-11-07T10:54:16.965917Z",
     "shell.execute_reply": "2022-11-07T10:54:16.964717Z"
    },
    "papermill": {
     "duration": 6.252379,
     "end_time": "2022-11-07T10:54:16.968848",
     "exception": false,
     "start_time": "2022-11-07T10:54:10.716469",
     "status": "completed"
    },
    "tags": []
   },
   "outputs": [],
   "source": [
    "import pandas as pd\n",
    "import numpy as np\n",
    "import tensorflow as tf\n",
    "from tensorflow import keras\n",
    "import matplotlib.pyplot as plt\n",
    "import seaborn as sns\n",
    "from sklearn.metrics import confusion_matrix, classification_report\n",
    "import os\n",
    "%matplotlib inline"
   ]
  },
  {
   "cell_type": "code",
   "execution_count": null,
   "id": "d011f6d4",
   "metadata": {
    "execution": {
     "iopub.execute_input": "2022-11-07T10:54:16.987969Z",
     "iopub.status.busy": "2022-11-07T10:54:16.987280Z",
     "iopub.status.idle": "2022-11-07T10:54:17.041450Z",
     "shell.execute_reply": "2022-11-07T10:54:17.040630Z"
    },
    "papermill": {
     "duration": 0.067228,
     "end_time": "2022-11-07T10:54:17.045010",
     "exception": false,
     "start_time": "2022-11-07T10:54:16.977782",
     "status": "completed"
    },
    "tags": []
   },
   "outputs": [
    {
     "name": "stdout",
     "output_type": "stream",
     "text": [
      "['Churn_Modelling.csv']\n"
     ]
    }
   ],
   "source": [
    "print(os.listdir('../input/bank-customer-churn-modeling'))\n",
    "df= pd.read_csv('../input/bank-customer-churn-modeling/Churn_Modelling.csv')"
   ]
  },
  {
   "cell_type": "code",
   "execution_count": null,
   "id": "00a3de62",
   "metadata": {
    "execution": {
     "iopub.execute_input": "2022-11-07T10:54:17.065216Z",
     "iopub.status.busy": "2022-11-07T10:54:17.064480Z",
     "iopub.status.idle": "2022-11-07T10:54:17.072382Z",
     "shell.execute_reply": "2022-11-07T10:54:17.071623Z"
    },
    "papermill": {
     "duration": 0.019814,
     "end_time": "2022-11-07T10:54:17.074416",
     "exception": false,
     "start_time": "2022-11-07T10:54:17.054602",
     "status": "completed"
    },
    "tags": []
   },
   "outputs": [
    {
     "data": {
      "text/plain": [
       "(10000, 14)"
      ]
     },
     "execution_count": 3,
     "metadata": {},
     "output_type": "execute_result"
    }
   ],
   "source": [
    "df.shape"
   ]
  },
  {
   "cell_type": "code",
   "execution_count": null,
   "id": "2b9ed202",
   "metadata": {
    "execution": {
     "iopub.execute_input": "2022-11-07T10:54:17.093364Z",
     "iopub.status.busy": "2022-11-07T10:54:17.092598Z",
     "iopub.status.idle": "2022-11-07T10:54:17.117006Z",
     "shell.execute_reply": "2022-11-07T10:54:17.115872Z"
    },
    "papermill": {
     "duration": 0.036487,
     "end_time": "2022-11-07T10:54:17.119305",
     "exception": false,
     "start_time": "2022-11-07T10:54:17.082818",
     "status": "completed"
    },
    "tags": []
   },
   "outputs": [
    {
     "data": {
      "text/html": [
       "<div>\n",
       "<style scoped>\n",
       "    .dataframe tbody tr th:only-of-type {\n",
       "        vertical-align: middle;\n",
       "    }\n",
       "\n",
       "    .dataframe tbody tr th {\n",
       "        vertical-align: top;\n",
       "    }\n",
       "\n",
       "    .dataframe thead th {\n",
       "        text-align: right;\n",
       "    }\n",
       "</style>\n",
       "<table border=\"1\" class=\"dataframe\">\n",
       "  <thead>\n",
       "    <tr style=\"text-align: right;\">\n",
       "      <th></th>\n",
       "      <th>RowNumber</th>\n",
       "      <th>CustomerId</th>\n",
       "      <th>Surname</th>\n",
       "      <th>CreditScore</th>\n",
       "      <th>Geography</th>\n",
       "      <th>Gender</th>\n",
       "      <th>Age</th>\n",
       "      <th>Tenure</th>\n",
       "      <th>Balance</th>\n",
       "      <th>NumOfProducts</th>\n",
       "      <th>HasCrCard</th>\n",
       "      <th>IsActiveMember</th>\n",
       "      <th>EstimatedSalary</th>\n",
       "      <th>Exited</th>\n",
       "    </tr>\n",
       "  </thead>\n",
       "  <tbody>\n",
       "    <tr>\n",
       "      <th>7917</th>\n",
       "      <td>7918</td>\n",
       "      <td>15590094</td>\n",
       "      <td>Nwachukwu</td>\n",
       "      <td>613</td>\n",
       "      <td>Germany</td>\n",
       "      <td>Male</td>\n",
       "      <td>38</td>\n",
       "      <td>9</td>\n",
       "      <td>126265.88</td>\n",
       "      <td>2</td>\n",
       "      <td>0</td>\n",
       "      <td>0</td>\n",
       "      <td>15859.95</td>\n",
       "      <td>0</td>\n",
       "    </tr>\n",
       "    <tr>\n",
       "      <th>5790</th>\n",
       "      <td>5791</td>\n",
       "      <td>15646351</td>\n",
       "      <td>Somerville</td>\n",
       "      <td>486</td>\n",
       "      <td>Spain</td>\n",
       "      <td>Male</td>\n",
       "      <td>27</td>\n",
       "      <td>7</td>\n",
       "      <td>0.00</td>\n",
       "      <td>2</td>\n",
       "      <td>1</td>\n",
       "      <td>0</td>\n",
       "      <td>28823.04</td>\n",
       "      <td>0</td>\n",
       "    </tr>\n",
       "    <tr>\n",
       "      <th>6933</th>\n",
       "      <td>6934</td>\n",
       "      <td>15679961</td>\n",
       "      <td>Davidson</td>\n",
       "      <td>708</td>\n",
       "      <td>Spain</td>\n",
       "      <td>Male</td>\n",
       "      <td>46</td>\n",
       "      <td>7</td>\n",
       "      <td>68799.72</td>\n",
       "      <td>1</td>\n",
       "      <td>1</td>\n",
       "      <td>1</td>\n",
       "      <td>39704.14</td>\n",
       "      <td>0</td>\n",
       "    </tr>\n",
       "    <tr>\n",
       "      <th>7401</th>\n",
       "      <td>7402</td>\n",
       "      <td>15677395</td>\n",
       "      <td>Nwabugwu</td>\n",
       "      <td>633</td>\n",
       "      <td>France</td>\n",
       "      <td>Female</td>\n",
       "      <td>39</td>\n",
       "      <td>9</td>\n",
       "      <td>129189.15</td>\n",
       "      <td>2</td>\n",
       "      <td>0</td>\n",
       "      <td>0</td>\n",
       "      <td>170998.83</td>\n",
       "      <td>0</td>\n",
       "    </tr>\n",
       "    <tr>\n",
       "      <th>1874</th>\n",
       "      <td>1875</td>\n",
       "      <td>15590268</td>\n",
       "      <td>Chu</td>\n",
       "      <td>529</td>\n",
       "      <td>Spain</td>\n",
       "      <td>Male</td>\n",
       "      <td>35</td>\n",
       "      <td>5</td>\n",
       "      <td>95772.97</td>\n",
       "      <td>1</td>\n",
       "      <td>1</td>\n",
       "      <td>1</td>\n",
       "      <td>112781.50</td>\n",
       "      <td>0</td>\n",
       "    </tr>\n",
       "  </tbody>\n",
       "</table>\n",
       "</div>"
      ],
      "text/plain": [
       "      RowNumber  CustomerId     Surname  CreditScore Geography  Gender  Age  \\\n",
       "7917       7918    15590094   Nwachukwu          613   Germany    Male   38   \n",
       "5790       5791    15646351  Somerville          486     Spain    Male   27   \n",
       "6933       6934    15679961    Davidson          708     Spain    Male   46   \n",
       "7401       7402    15677395    Nwabugwu          633    France  Female   39   \n",
       "1874       1875    15590268         Chu          529     Spain    Male   35   \n",
       "\n",
       "      Tenure    Balance  NumOfProducts  HasCrCard  IsActiveMember  \\\n",
       "7917       9  126265.88              2          0               0   \n",
       "5790       7       0.00              2          1               0   \n",
       "6933       7   68799.72              1          1               1   \n",
       "7401       9  129189.15              2          0               0   \n",
       "1874       5   95772.97              1          1               1   \n",
       "\n",
       "      EstimatedSalary  Exited  \n",
       "7917         15859.95       0  \n",
       "5790         28823.04       0  \n",
       "6933         39704.14       0  \n",
       "7401        170998.83       0  \n",
       "1874        112781.50       0  "
      ]
     },
     "execution_count": 4,
     "metadata": {},
     "output_type": "execute_result"
    }
   ],
   "source": [
    "df.sample(5)"
   ]
  },
  {
   "cell_type": "code",
   "execution_count": null,
   "id": "706c9c96",
   "metadata": {
    "execution": {
     "iopub.execute_input": "2022-11-07T10:54:17.138583Z",
     "iopub.status.busy": "2022-11-07T10:54:17.138184Z",
     "iopub.status.idle": "2022-11-07T10:54:17.164657Z",
     "shell.execute_reply": "2022-11-07T10:54:17.163410Z"
    },
    "papermill": {
     "duration": 0.039532,
     "end_time": "2022-11-07T10:54:17.167739",
     "exception": false,
     "start_time": "2022-11-07T10:54:17.128207",
     "status": "completed"
    },
    "tags": []
   },
   "outputs": [
    {
     "name": "stdout",
     "output_type": "stream",
     "text": [
      "<class 'pandas.core.frame.DataFrame'>\n",
      "RangeIndex: 10000 entries, 0 to 9999\n",
      "Data columns (total 14 columns):\n",
      " #   Column           Non-Null Count  Dtype  \n",
      "---  ------           --------------  -----  \n",
      " 0   RowNumber        10000 non-null  int64  \n",
      " 1   CustomerId       10000 non-null  int64  \n",
      " 2   Surname          10000 non-null  object \n",
      " 3   CreditScore      10000 non-null  int64  \n",
      " 4   Geography        10000 non-null  object \n",
      " 5   Gender           10000 non-null  object \n",
      " 6   Age              10000 non-null  int64  \n",
      " 7   Tenure           10000 non-null  int64  \n",
      " 8   Balance          10000 non-null  float64\n",
      " 9   NumOfProducts    10000 non-null  int64  \n",
      " 10  HasCrCard        10000 non-null  int64  \n",
      " 11  IsActiveMember   10000 non-null  int64  \n",
      " 12  EstimatedSalary  10000 non-null  float64\n",
      " 13  Exited           10000 non-null  int64  \n",
      "dtypes: float64(2), int64(9), object(3)\n",
      "memory usage: 1.1+ MB\n"
     ]
    }
   ],
   "source": [
    "df.info()"
   ]
  },
  {
   "cell_type": "code",
   "execution_count": null,
   "id": "7ca5b10a",
   "metadata": {
    "execution": {
     "iopub.execute_input": "2022-11-07T10:54:17.189065Z",
     "iopub.status.busy": "2022-11-07T10:54:17.188632Z",
     "iopub.status.idle": "2022-11-07T10:54:17.196098Z",
     "shell.execute_reply": "2022-11-07T10:54:17.195002Z"
    },
    "papermill": {
     "duration": 0.019658,
     "end_time": "2022-11-07T10:54:17.198350",
     "exception": false,
     "start_time": "2022-11-07T10:54:17.178692",
     "status": "completed"
    },
    "tags": []
   },
   "outputs": [],
   "source": [
    "df.drop(['RowNumber','CustomerId','Surname'],axis=1,inplace=True)"
   ]
  },
  {
   "cell_type": "code",
   "execution_count": null,
   "id": "4af8e524",
   "metadata": {
    "execution": {
     "iopub.execute_input": "2022-11-07T10:54:17.217874Z",
     "iopub.status.busy": "2022-11-07T10:54:17.217453Z",
     "iopub.status.idle": "2022-11-07T10:54:17.225629Z",
     "shell.execute_reply": "2022-11-07T10:54:17.224563Z"
    },
    "papermill": {
     "duration": 0.020706,
     "end_time": "2022-11-07T10:54:17.227948",
     "exception": false,
     "start_time": "2022-11-07T10:54:17.207242",
     "status": "completed"
    },
    "tags": []
   },
   "outputs": [
    {
     "data": {
      "text/plain": [
       "CreditScore          int64\n",
       "Geography           object\n",
       "Gender              object\n",
       "Age                  int64\n",
       "Tenure               int64\n",
       "Balance            float64\n",
       "NumOfProducts        int64\n",
       "HasCrCard            int64\n",
       "IsActiveMember       int64\n",
       "EstimatedSalary    float64\n",
       "Exited               int64\n",
       "dtype: object"
      ]
     },
     "execution_count": 7,
     "metadata": {},
     "output_type": "execute_result"
    }
   ],
   "source": [
    "df.dtypes"
   ]
  },
  {
   "cell_type": "code",
   "execution_count": null,
   "id": "beaca7ad",
   "metadata": {
    "execution": {
     "iopub.execute_input": "2022-11-07T10:54:17.247899Z",
     "iopub.status.busy": "2022-11-07T10:54:17.247530Z",
     "iopub.status.idle": "2022-11-07T10:54:17.255796Z",
     "shell.execute_reply": "2022-11-07T10:54:17.254532Z"
    },
    "papermill": {
     "duration": 0.021116,
     "end_time": "2022-11-07T10:54:17.258154",
     "exception": false,
     "start_time": "2022-11-07T10:54:17.237038",
     "status": "completed"
    },
    "tags": []
   },
   "outputs": [
    {
     "data": {
      "text/plain": [
       "0    7963\n",
       "1    2037\n",
       "Name: Exited, dtype: int64"
      ]
     },
     "execution_count": 8,
     "metadata": {},
     "output_type": "execute_result"
    }
   ],
   "source": [
    "df.Exited.value_counts()"
   ]
  },
  {
   "cell_type": "code",
   "execution_count": null,
   "id": "8f4e5659",
   "metadata": {
    "execution": {
     "iopub.execute_input": "2022-11-07T10:54:17.278499Z",
     "iopub.status.busy": "2022-11-07T10:54:17.278109Z",
     "iopub.status.idle": "2022-11-07T10:54:17.288458Z",
     "shell.execute_reply": "2022-11-07T10:54:17.287703Z"
    },
    "papermill": {
     "duration": 0.023016,
     "end_time": "2022-11-07T10:54:17.290386",
     "exception": false,
     "start_time": "2022-11-07T10:54:17.267370",
     "status": "completed"
    },
    "tags": []
   },
   "outputs": [
    {
     "data": {
      "text/plain": [
       "CreditScore        0\n",
       "Geography          0\n",
       "Gender             0\n",
       "Age                0\n",
       "Tenure             0\n",
       "Balance            0\n",
       "NumOfProducts      0\n",
       "HasCrCard          0\n",
       "IsActiveMember     0\n",
       "EstimatedSalary    0\n",
       "Exited             0\n",
       "dtype: int64"
      ]
     },
     "execution_count": 9,
     "metadata": {},
     "output_type": "execute_result"
    }
   ],
   "source": [
    "df.isna().sum()"
   ]
  },
  {
   "cell_type": "code",
   "execution_count": null,
   "id": "cf656503",
   "metadata": {
    "execution": {
     "iopub.execute_input": "2022-11-07T10:54:17.310196Z",
     "iopub.status.busy": "2022-11-07T10:54:17.309843Z",
     "iopub.status.idle": "2022-11-07T10:54:17.315048Z",
     "shell.execute_reply": "2022-11-07T10:54:17.313921Z"
    },
    "papermill": {
     "duration": 0.017643,
     "end_time": "2022-11-07T10:54:17.317123",
     "exception": false,
     "start_time": "2022-11-07T10:54:17.299480",
     "status": "completed"
    },
    "tags": []
   },
   "outputs": [],
   "source": [
    "cat_cols=['Geography','Gender']\n",
    "num_cols=[col for col in df.columns if col not in cat_cols]"
   ]
  },
  {
   "cell_type": "code",
   "execution_count": null,
   "id": "aefe532b",
   "metadata": {
    "execution": {
     "iopub.execute_input": "2022-11-07T10:54:17.337077Z",
     "iopub.status.busy": "2022-11-07T10:54:17.336634Z",
     "iopub.status.idle": "2022-11-07T10:54:17.344869Z",
     "shell.execute_reply": "2022-11-07T10:54:17.343432Z"
    },
    "papermill": {
     "duration": 0.021596,
     "end_time": "2022-11-07T10:54:17.347765",
     "exception": false,
     "start_time": "2022-11-07T10:54:17.326169",
     "status": "completed"
    },
    "tags": []
   },
   "outputs": [
    {
     "name": "stdout",
     "output_type": "stream",
     "text": [
      "Geography : ['France' 'Spain' 'Germany']\n",
      "Gender : ['Female' 'Male']\n"
     ]
    }
   ],
   "source": [
    "for col in cat_cols:\n",
    "    print(f'{col} : {df[col].unique()}')"
   ]
  },
  {
   "cell_type": "code",
   "execution_count": null,
   "id": "5c4095a3",
   "metadata": {
    "execution": {
     "iopub.execute_input": "2022-11-07T10:54:17.369384Z",
     "iopub.status.busy": "2022-11-07T10:54:17.368997Z",
     "iopub.status.idle": "2022-11-07T10:54:17.379107Z",
     "shell.execute_reply": "2022-11-07T10:54:17.378024Z"
    },
    "papermill": {
     "duration": 0.023177,
     "end_time": "2022-11-07T10:54:17.381304",
     "exception": false,
     "start_time": "2022-11-07T10:54:17.358127",
     "status": "completed"
    },
    "tags": []
   },
   "outputs": [],
   "source": [
    "df['Gender'].replace({'Female':1,'Male':0},inplace=True)"
   ]
  },
  {
   "cell_type": "code",
   "execution_count": null,
   "id": "4d280f41",
   "metadata": {
    "execution": {
     "iopub.execute_input": "2022-11-07T10:54:17.401578Z",
     "iopub.status.busy": "2022-11-07T10:54:17.401228Z",
     "iopub.status.idle": "2022-11-07T10:54:17.411962Z",
     "shell.execute_reply": "2022-11-07T10:54:17.411073Z"
    },
    "papermill": {
     "duration": 0.023869,
     "end_time": "2022-11-07T10:54:17.414435",
     "exception": false,
     "start_time": "2022-11-07T10:54:17.390566",
     "status": "completed"
    },
    "tags": []
   },
   "outputs": [],
   "source": [
    "df=pd.get_dummies(data=df, columns=['Geography'])"
   ]
  },
  {
   "cell_type": "code",
   "execution_count": null,
   "id": "c61b9846",
   "metadata": {
    "execution": {
     "iopub.execute_input": "2022-11-07T10:54:17.434607Z",
     "iopub.status.busy": "2022-11-07T10:54:17.434215Z",
     "iopub.status.idle": "2022-11-07T10:54:17.720616Z",
     "shell.execute_reply": "2022-11-07T10:54:17.719551Z"
    },
    "papermill": {
     "duration": 0.299513,
     "end_time": "2022-11-07T10:54:17.723184",
     "exception": false,
     "start_time": "2022-11-07T10:54:17.423671",
     "status": "completed"
    },
    "tags": []
   },
   "outputs": [
    {
     "data": {
      "text/plain": [
       "<matplotlib.legend.Legend at 0x7f5728b638d0>"
      ]
     },
     "execution_count": 14,
     "metadata": {},
     "output_type": "execute_result"
    },
    {
     "data": {
      "image/png": "[encoded data removed]",
      "text/plain": [
       "<Figure size 720x576 with 1 Axes>"
      ]
     },
     "metadata": {
      "needs_background": "light"
     },
     "output_type": "display_data"
    }
   ],
   "source": [
    "tenure_exited_0=df[df.Exited==0].Tenure\n",
    "tenure_exited_1=df[df.Exited==1].Tenure\n",
    "\n",
    "plt.figure(figsize=(10,8))\n",
    "plt.xlabel('T enure')\n",
    "plt.ylabel('Number of Customers Exited')\n",
    "plt.title('Bank Customer Churn prediction visualization')\n",
    "plt.hist([tenure_exited_1,tenure_exited_0], color=['green','red'], label=['Exited-yes','Exited-No'])\n",
    "plt.legend()"
   ]
  },
  {
   "cell_type": "code",
   "execution_count": null,
   "id": "10ae1eaa",
   "metadata": {
    "execution": {
     "iopub.execute_input": "2022-11-07T10:54:17.744416Z",
     "iopub.status.busy": "2022-11-07T10:54:17.744034Z",
     "iopub.status.idle": "2022-11-07T10:54:17.989990Z",
     "shell.execute_reply": "2022-11-07T10:54:17.988932Z"
    },
    "papermill": {
     "duration": 0.259155,
     "end_time": "2022-11-07T10:54:17.992226",
     "exception": false,
     "start_time": "2022-11-07T10:54:17.733071",
     "status": "completed"
    },
    "tags": []
   },
   "outputs": [
    {
     "data": {
      "text/plain": [
       "<matplotlib.legend.Legend at 0x7f572821ed50>"
      ]
     },
     "execution_count": 15,
     "metadata": {},
     "output_type": "execute_result"
    },
    {
     "data": {
      "image/png": "[encoded data removed]",
      "text/plain": [
       "<Figure size 720x576 with 1 Axes>"
      ]
     },
     "metadata": {
      "needs_background": "light"
     },
     "output_type": "display_data"
    }
   ],
   "source": [
    "creditscore_exited_0=df[df.Exited==0].CreditScore\n",
    "creditscore_exited_1=df[df.Exited==1].CreditScore\n",
    "\n",
    "plt.figure(figsize=(10,8))\n",
    "plt.xlabel('Credit Score')\n",
    "plt.ylabel('Number of Customers Exited')\n",
    "plt.title('Bank Customer Churn prediction visualization')\n",
    "plt.hist([creditscore_exited_1,creditscore_exited_0], color=['green','red'], label=['Exited-yes','Exited-No'])\n",
    "plt.legend()"
   ]
  },
  {
   "cell_type": "code",
   "execution_count": null,
   "id": "bc30b57e",
   "metadata": {
    "execution": {
     "iopub.execute_input": "2022-11-07T10:54:18.014306Z",
     "iopub.status.busy": "2022-11-07T10:54:18.013900Z",
     "iopub.status.idle": "2022-11-07T10:54:18.272507Z",
     "shell.execute_reply": "2022-11-07T10:54:18.271415Z"
    },
    "papermill": {
     "duration": 0.272516,
     "end_time": "2022-11-07T10:54:18.274936",
     "exception": false,
     "start_time": "2022-11-07T10:54:18.002420",
     "status": "completed"
    },
    "tags": []
   },
   "outputs": [
    {
     "data": {
      "text/plain": [
       "<matplotlib.legend.Legend at 0x7f572816e190>"
      ]
     },
     "execution_count": 16,
     "metadata": {},
     "output_type": "execute_result"
    },
    {
     "data": {
      "image/png": "[encoded data removed]",
      "text/plain": [
       "<Figure size 720x576 with 1 Axes>"
      ]
     },
     "metadata": {
      "needs_background": "light"
     },
     "output_type": "display_data"
    }
   ],
   "source": [
    "NumOfProducts_exited_0=df[df.Exited==0].NumOfProducts\n",
    "NumOfProducts_exited_1=df[df.Exited==1].NumOfProducts\n",
    "\n",
    "plt.figure(figsize=(10,8))\n",
    "plt.xlabel('NumOfProducts')\n",
    "plt.ylabel('Number of Customers Exited')\n",
    "plt.title('Bank Customer Churn prediction visualization')\n",
    "plt.hist([NumOfProducts_exited_1,NumOfProducts_exited_0], color=['green','red'], label=['Exited-yes','Exited-No'])\n",
    "plt.legend()"
   ]
  },
  {
   "cell_type": "code",
   "execution_count": null,
   "id": "bb384f31",
   "metadata": {
    "execution": {
     "iopub.execute_input": "2022-11-07T10:54:18.297710Z",
     "iopub.status.busy": "2022-11-07T10:54:18.297300Z",
     "iopub.status.idle": "2022-11-07T10:54:18.554683Z",
     "shell.execute_reply": "2022-11-07T10:54:18.553649Z"
    },
    "papermill": {
     "duration": 0.271589,
     "end_time": "2022-11-07T10:54:18.557222",
     "exception": false,
     "start_time": "2022-11-07T10:54:18.285633",
     "status": "completed"
    },
    "tags": []
   },
   "outputs": [
    {
     "data": {
      "text/plain": [
       "<matplotlib.legend.Legend at 0x7f57280b7a10>"
      ]
     },
     "execution_count": 17,
     "metadata": {},
     "output_type": "execute_result"
    },
    {
     "data": {
      "image/png": "[encoded data removed]",
      "text/plain": [
       "<Figure size 720x576 with 1 Axes>"
      ]
     },
     "metadata": {
      "needs_background": "light"
     },
     "output_type": "display_data"
    }
   ],
   "source": [
    "Age_exited_0=df[df.Exited==0].Age\n",
    "Age_exited_1=df[df.Exited==1].Age\n",
    "\n",
    "plt.figure(figsize=(10,8))\n",
    "plt.xlabel('Age')\n",
    "plt.ylabel('Number of Customers Exited')\n",
    "plt.title('Bank Customer Churn prediction visualization')\n",
    "plt.hist([Age_exited_1,Age_exited_0], color=['green','red'], label=['Exited-yes','Exited-No'])\n",
    "plt.legend()"
   ]
  },
  {
   "cell_type": "code",
   "execution_count": null,
   "id": "4eb61728",
   "metadata": {
    "execution": {
     "iopub.execute_input": "2022-11-07T10:54:18.581188Z",
     "iopub.status.busy": "2022-11-07T10:54:18.580824Z",
     "iopub.status.idle": "2022-11-07T10:54:18.594150Z",
     "shell.execute_reply": "2022-11-07T10:54:18.592474Z"
    },
    "papermill": {
     "duration": 0.028327,
     "end_time": "2022-11-07T10:54:18.596666",
     "exception": false,
     "start_time": "2022-11-07T10:54:18.568339",
     "status": "completed"
    },
    "tags": []
   },
   "outputs": [
    {
     "name": "stdout",
     "output_type": "stream",
     "text": [
      "<class 'pandas.core.frame.DataFrame'>\n",
      "RangeIndex: 10000 entries, 0 to 9999\n",
      "Data columns (total 13 columns):\n",
      " #   Column             Non-Null Count  Dtype  \n",
      "---  ------             --------------  -----  \n",
      " 0   CreditScore        10000 non-null  int64  \n",
      " 1   Gender             10000 non-null  int64  \n",
      " 2   Age                10000 non-null  int64  \n",
      " 3   Tenure             10000 non-null  int64  \n",
      " 4   Balance            10000 non-null  float64\n",
      " 5   NumOfProducts      10000 non-null  int64  \n",
      " 6   HasCrCard          10000 non-null  int64  \n",
      " 7   IsActiveMember     10000 non-null  int64  \n",
      " 8   EstimatedSalary    10000 non-null  float64\n",
      " 9   Exited             10000 non-null  int64  \n",
      " 10  Geography_France   10000 non-null  uint8  \n",
      " 11  Geography_Germany  10000 non-null  uint8  \n",
      " 12  Geography_Spain    10000 non-null  uint8  \n",
      "dtypes: float64(2), int64(8), uint8(3)\n",
      "memory usage: 810.7 KB\n"
     ]
    }
   ],
   "source": [
    "df.info()"
   ]
  },
  {
   "cell_type": "code",
   "execution_count": null,
   "id": "5f225446",
   "metadata": {
    "execution": {
     "iopub.execute_input": "2022-11-07T10:54:18.620581Z",
     "iopub.status.busy": "2022-11-07T10:54:18.620206Z",
     "iopub.status.idle": "2022-11-07T10:54:18.632355Z",
     "shell.execute_reply": "2022-11-07T10:54:18.631411Z"
    },
    "papermill": {
     "duration": 0.026914,
     "end_time": "2022-11-07T10:54:18.634729",
     "exception": false,
     "start_time": "2022-11-07T10:54:18.607815",
     "status": "completed"
    },
    "tags": []
   },
   "outputs": [],
   "source": [
    "# Scaling\n",
    "cols_to_scale=['CreditScore','Tenure','Balance','NumOfProducts','EstimatedSalary','Age']\n",
    "\n",
    "from sklearn.preprocessing import MinMaxScaler\n",
    "scaler=MinMaxScaler()\n",
    "\n",
    "df[cols_to_scale]=scaler.fit_transform(df[cols_to_scale])"
   ]
  },
  {
   "cell_type": "code",
   "execution_count": null,
   "id": "41bc5588",
   "metadata": {
    "execution": {
     "iopub.execute_input": "2022-11-07T10:54:18.658318Z",
     "iopub.status.busy": "2022-11-07T10:54:18.657960Z",
     "iopub.status.idle": "2022-11-07T10:54:18.682992Z",
     "shell.execute_reply": "2022-11-07T10:54:18.682055Z"
    },
    "papermill": {
     "duration": 0.039746,
     "end_time": "2022-11-07T10:54:18.685472",
     "exception": false,
     "start_time": "2022-11-07T10:54:18.645726",
     "status": "completed"
    },
    "tags": []
   },
   "outputs": [],
   "source": [
    "# Training\n",
    "x=df.drop('Exited',axis=1)\n",
    "y=df.Exited\n",
    "\n",
    "from sklearn.model_selection import train_test_split\n",
    "\n",
    "xtrain,xtest,ytrain,ytest=train_test_split(x,y,test_size=0.25,random_state=15,stratify=y)"
   ]
  },
  {
   "cell_type": "code",
   "execution_count": null,
   "id": "83f131d6",
   "metadata": {
    "execution": {
     "iopub.execute_input": "2022-11-07T10:54:18.709309Z",
     "iopub.status.busy": "2022-11-07T10:54:18.708906Z",
     "iopub.status.idle": "2022-11-07T10:54:18.717242Z",
     "shell.execute_reply": "2022-11-07T10:54:18.716328Z"
    },
    "papermill": {
     "duration": 0.023202,
     "end_time": "2022-11-07T10:54:18.719834",
     "exception": false,
     "start_time": "2022-11-07T10:54:18.696632",
     "status": "completed"
    },
    "tags": []
   },
   "outputs": [],
   "source": [
    "def ANN(xtrain,xtest,ytrain,ytest,loss,weight):\n",
    "    model=keras.Sequential([\n",
    "    keras.layers.Dense(20,input_shape=(12,),activation='relu'),\n",
    "    keras.layers.Dense(1,activation='sigmoid')\n",
    "    ])\n",
    "\n",
    "    model.compile(optimizer='adam',\n",
    "                 loss=loss,\n",
    "                 metrics=['accuracy'])\n",
    "    \n",
    "    if weight==-1:\n",
    "        model.fit(xtrain,ytrain,epochs=100)\n",
    "    else:\n",
    "        model.fit(xtrain,ytrain,epochs=100,class_weight=weight)\n",
    "    print()\n",
    "    print(model.evaluate(xtest,ytest))\n",
    "    print()\n",
    "    ypred= model.predict(xtest)\n",
    "    ypred=np.round(ypred)\n",
    "    print()\n",
    "    print(classification_report(ytest,ypred))\n",
    "        \n",
    "    return ypred"
   ]
  },
  {
   "cell_type": "code",
   "execution_count": null,
   "id": "3e8b04a9",
   "metadata": {
    "execution": {
     "iopub.execute_input": "2022-11-07T10:54:18.744223Z",
     "iopub.status.busy": "2022-11-07T10:54:18.743577Z",
     "iopub.status.idle": "2022-11-07T10:55:02.002315Z",
     "shell.execute_reply": "2022-11-07T10:55:02.000853Z"
    },
    "papermill": {
     "duration": 43.273929,
     "end_time": "2022-11-07T10:55:02.005000",
     "exception": false,
     "start_time": "2022-11-07T10:54:18.731071",
     "status": "completed"
    },
    "tags": []
   },
   "outputs": [
    {
     "name": "stderr",
     "output_type": "stream",
     "text": [
      "2022-11-07 10:54:19.770100: I tensorflow/core/common_runtime/process_util.cc:146] Creating new thread pool with default inter op setting: 2. Tune using inter_op_parallelism_threads for best performance.\n",
      "2022-11-07 10:54:19.922639: I tensorflow/compiler/mlir/mlir_graph_optimization_pass.cc:185] None of the MLIR Optimization Passes are enabled (registered 2)\n"
     ]
    },
    {
     "name": "stdout",
     "output_type": "stream",
     "text": [
      "Epoch 1/100\n",
      "235/235 [==============================] - 1s 1ms/step - loss: 0.5220 - accuracy: 0.7684\n",
      "Epoch 2/100\n",
      "235/235 [==============================] - 0s 1ms/step - loss: 0.4641 - accuracy: 0.8021\n",
      "Epoch 3/100\n",
      "235/235 [==============================] - 0s 1ms/step - loss: 0.4544 - accuracy: 0.8051\n",
      "Epoch 4/100\n",
      "235/235 [==============================] - 0s 1ms/step - loss: 0.4460 - accuracy: 0.8084\n",
      "Epoch 5/100\n",
      "235/235 [==============================] - 0s 1ms/step - loss: 0.4378 - accuracy: 0.8123\n",
      "Epoch 6/100\n",
      "235/235 [==============================] - 0s 1ms/step - loss: 0.4327 - accuracy: 0.8153\n",
      "Epoch 7/100\n",
      "235/235 [==============================] - 0s 1ms/step - loss: 0.4272 - accuracy: 0.8173\n",
      "Epoch 8/100\n",
      "235/235 [==============================] - 0s 1ms/step - loss: 0.4238 - accuracy: 0.8177\n",
      "Epoch 9/100\n",
      "235/235 [==============================] - 0s 1ms/step - loss: 0.4210 - accuracy: 0.8181\n",
      "Epoch 10/100\n",
      "235/235 [==============================] - 0s 1ms/step - loss: 0.4186 - accuracy: 0.8195\n",
      "Epoch 11/100\n",
      "235/235 [==============================] - 0s 1ms/step - loss: 0.4162 - accuracy: 0.8199\n",
      "Epoch 12/100\n",
      "235/235 [==============================] - 0s 1ms/step - loss: 0.4141 - accuracy: 0.8227\n",
      "Epoch 13/100\n",
      "235/235 [==============================] - 0s 1ms/step - loss: 0.4114 - accuracy: 0.8248\n",
      "Epoch 14/100\n",
      "235/235 [==============================] - 0s 1ms/step - loss: 0.4094 - accuracy: 0.8217\n",
      "Epoch 15/100\n",
      "235/235 [==============================] - 0s 1ms/step - loss: 0.4069 - accuracy: 0.8269\n",
      "Epoch 16/100\n",
      "235/235 [==============================] - 0s 2ms/step - loss: 0.4049 - accuracy: 0.8249\n",
      "Epoch 17/100\n",
      "235/235 [==============================] - 0s 1ms/step - loss: 0.4034 - accuracy: 0.8281\n",
      "Epoch 18/100\n",
      "235/235 [==============================] - 0s 1ms/step - loss: 0.4003 - accuracy: 0.8285\n",
      "Epoch 19/100\n",
      "235/235 [==============================] - 0s 1ms/step - loss: 0.3980 - accuracy: 0.8301\n",
      "Epoch 20/100\n",
      "235/235 [==============================] - 0s 1ms/step - loss: 0.3952 - accuracy: 0.8304\n",
      "Epoch 21/100\n",
      "235/235 [==============================] - 0s 1ms/step - loss: 0.3927 - accuracy: 0.8316\n",
      "Epoch 22/100\n",
      "235/235 [==============================] - 0s 1ms/step - loss: 0.3904 - accuracy: 0.8352\n",
      "Epoch 23/100\n",
      "235/235 [==============================] - 0s 1ms/step - loss: 0.3880 - accuracy: 0.8359\n",
      "Epoch 24/100\n",
      "235/235 [==============================] - 0s 1ms/step - loss: 0.3855 - accuracy: 0.8363\n",
      "Epoch 25/100\n",
      "235/235 [==============================] - 0s 1ms/step - loss: 0.3829 - accuracy: 0.8375\n",
      "Epoch 26/100\n",
      "235/235 [==============================] - 0s 1ms/step - loss: 0.3819 - accuracy: 0.8381\n",
      "Epoch 27/100\n",
      "235/235 [==============================] - 0s 1ms/step - loss: 0.3790 - accuracy: 0.8401\n",
      "Epoch 28/100\n",
      "235/235 [==============================] - 0s 1ms/step - loss: 0.3781 - accuracy: 0.8416\n",
      "Epoch 29/100\n",
      "235/235 [==============================] - 0s 1ms/step - loss: 0.3745 - accuracy: 0.8408\n",
      "Epoch 30/100\n",
      "235/235 [==============================] - 0s 1ms/step - loss: 0.3738 - accuracy: 0.8412\n",
      "Epoch 31/100\n",
      "235/235 [==============================] - 0s 1ms/step - loss: 0.3716 - accuracy: 0.8433\n",
      "Epoch 32/100\n",
      "235/235 [==============================] - 0s 1ms/step - loss: 0.3704 - accuracy: 0.8425\n",
      "Epoch 33/100\n",
      "235/235 [==============================] - 0s 1ms/step - loss: 0.3687 - accuracy: 0.8460\n",
      "Epoch 34/100\n",
      "235/235 [==============================] - 0s 1ms/step - loss: 0.3681 - accuracy: 0.8440\n",
      "Epoch 35/100\n",
      "235/235 [==============================] - 0s 1ms/step - loss: 0.3668 - accuracy: 0.8445\n",
      "Epoch 36/100\n",
      "235/235 [==============================] - 0s 1ms/step - loss: 0.3649 - accuracy: 0.8476\n",
      "Epoch 37/100\n",
      "235/235 [==============================] - 0s 1ms/step - loss: 0.3645 - accuracy: 0.8489\n",
      "Epoch 38/100\n",
      "235/235 [==============================] - 0s 1ms/step - loss: 0.3636 - accuracy: 0.8481\n",
      "Epoch 39/100\n",
      "235/235 [==============================] - 0s 1ms/step - loss: 0.3623 - accuracy: 0.8507\n",
      "Epoch 40/100\n",
      "235/235 [==============================] - 0s 1ms/step - loss: 0.3619 - accuracy: 0.8504\n",
      "Epoch 41/100\n",
      "235/235 [==============================] - 0s 1ms/step - loss: 0.3608 - accuracy: 0.8483\n",
      "Epoch 42/100\n",
      "235/235 [==============================] - 0s 1ms/step - loss: 0.3596 - accuracy: 0.8512\n",
      "Epoch 43/100\n",
      "235/235 [==============================] - 0s 1ms/step - loss: 0.3596 - accuracy: 0.8512\n",
      "Epoch 44/100\n",
      "235/235 [==============================] - 0s 1ms/step - loss: 0.3590 - accuracy: 0.8529\n",
      "Epoch 45/100\n",
      "235/235 [==============================] - 0s 1ms/step - loss: 0.3583 - accuracy: 0.8531\n",
      "Epoch 46/100\n",
      "235/235 [==============================] - 0s 1ms/step - loss: 0.3573 - accuracy: 0.8533\n",
      "Epoch 47/100\n",
      "235/235 [==============================] - 0s 1ms/step - loss: 0.3570 - accuracy: 0.8532\n",
      "Epoch 48/100\n",
      "235/235 [==============================] - 0s 1ms/step - loss: 0.3552 - accuracy: 0.8527\n",
      "Epoch 49/100\n",
      "235/235 [==============================] - 0s 1ms/step - loss: 0.3558 - accuracy: 0.8540\n",
      "Epoch 50/100\n",
      "235/235 [==============================] - 0s 1ms/step - loss: 0.3545 - accuracy: 0.8523\n",
      "Epoch 51/100\n",
      "235/235 [==============================] - 0s 1ms/step - loss: 0.3546 - accuracy: 0.8528\n",
      "Epoch 52/100\n",
      "235/235 [==============================] - 0s 1ms/step - loss: 0.3542 - accuracy: 0.8540\n",
      "Epoch 53/100\n",
      "235/235 [==============================] - 0s 1ms/step - loss: 0.3533 - accuracy: 0.8535\n",
      "Epoch 54/100\n",
      "235/235 [==============================] - 0s 1ms/step - loss: 0.3534 - accuracy: 0.8545\n",
      "Epoch 55/100\n",
      "235/235 [==============================] - 0s 1ms/step - loss: 0.3528 - accuracy: 0.8544\n",
      "Epoch 56/100\n",
      "235/235 [==============================] - 0s 1ms/step - loss: 0.3521 - accuracy: 0.8549\n",
      "Epoch 57/100\n",
      "235/235 [==============================] - 0s 1ms/step - loss: 0.3522 - accuracy: 0.8540\n",
      "Epoch 58/100\n",
      "235/235 [==============================] - 0s 1ms/step - loss: 0.3519 - accuracy: 0.8553\n",
      "Epoch 59/100\n",
      "235/235 [==============================] - 0s 1ms/step - loss: 0.3517 - accuracy: 0.8559\n",
      "Epoch 60/100\n",
      "235/235 [==============================] - 0s 1ms/step - loss: 0.3520 - accuracy: 0.8553\n",
      "Epoch 61/100\n",
      "235/235 [==============================] - 0s 1ms/step - loss: 0.3508 - accuracy: 0.8541\n",
      "Epoch 62/100\n",
      "235/235 [==============================] - 0s 1ms/step - loss: 0.3501 - accuracy: 0.8547\n",
      "Epoch 63/100\n",
      "235/235 [==============================] - 0s 1ms/step - loss: 0.3506 - accuracy: 0.8563\n",
      "Epoch 64/100\n",
      "235/235 [==============================] - 0s 1ms/step - loss: 0.3501 - accuracy: 0.8556\n",
      "Epoch 65/100\n",
      "235/235 [==============================] - 0s 1ms/step - loss: 0.3503 - accuracy: 0.8541\n",
      "Epoch 66/100\n",
      "235/235 [==============================] - 0s 1ms/step - loss: 0.3497 - accuracy: 0.8537\n",
      "Epoch 67/100\n",
      "235/235 [==============================] - 0s 1ms/step - loss: 0.3495 - accuracy: 0.8567\n",
      "Epoch 68/100\n",
      "235/235 [==============================] - 0s 1ms/step - loss: 0.3497 - accuracy: 0.8537\n",
      "Epoch 69/100\n",
      "235/235 [==============================] - 0s 1ms/step - loss: 0.3492 - accuracy: 0.8544\n",
      "Epoch 70/100\n",
      "235/235 [==============================] - 0s 1ms/step - loss: 0.3494 - accuracy: 0.8563\n",
      "Epoch 71/100\n",
      "235/235 [==============================] - 0s 1ms/step - loss: 0.3486 - accuracy: 0.8541\n",
      "Epoch 72/100\n",
      "235/235 [==============================] - 0s 1ms/step - loss: 0.3485 - accuracy: 0.8571\n",
      "Epoch 73/100\n",
      "235/235 [==============================] - 0s 1ms/step - loss: 0.3481 - accuracy: 0.8559\n",
      "Epoch 74/100\n",
      "235/235 [==============================] - 0s 1ms/step - loss: 0.3489 - accuracy: 0.8533\n",
      "Epoch 75/100\n",
      "235/235 [==============================] - 0s 1ms/step - loss: 0.3481 - accuracy: 0.8548\n",
      "Epoch 76/100\n",
      "235/235 [==============================] - 0s 1ms/step - loss: 0.3481 - accuracy: 0.8553\n",
      "Epoch 77/100\n",
      "235/235 [==============================] - 0s 1ms/step - loss: 0.3483 - accuracy: 0.8540\n",
      "Epoch 78/100\n",
      "235/235 [==============================] - 0s 1ms/step - loss: 0.3482 - accuracy: 0.8560\n",
      "Epoch 79/100\n",
      "235/235 [==============================] - 0s 1ms/step - loss: 0.3489 - accuracy: 0.8541\n",
      "Epoch 80/100\n",
      "235/235 [==============================] - 0s 1ms/step - loss: 0.3477 - accuracy: 0.8552\n",
      "Epoch 81/100\n",
      "235/235 [==============================] - 0s 1ms/step - loss: 0.3479 - accuracy: 0.8569\n",
      "Epoch 82/100\n",
      "235/235 [==============================] - 0s 1ms/step - loss: 0.3495 - accuracy: 0.8543\n",
      "Epoch 83/100\n",
      "235/235 [==============================] - 0s 1ms/step - loss: 0.3474 - accuracy: 0.8547\n",
      "Epoch 84/100\n",
      "235/235 [==============================] - 0s 1ms/step - loss: 0.3478 - accuracy: 0.8537\n",
      "Epoch 85/100\n",
      "235/235 [==============================] - 0s 1ms/step - loss: 0.3474 - accuracy: 0.8529\n",
      "Epoch 86/100\n",
      "235/235 [==============================] - 0s 1ms/step - loss: 0.3471 - accuracy: 0.8556\n",
      "Epoch 87/100\n",
      "235/235 [==============================] - 0s 1ms/step - loss: 0.3469 - accuracy: 0.8556\n",
      "Epoch 88/100\n",
      "235/235 [==============================] - 0s 1ms/step - loss: 0.3465 - accuracy: 0.8553\n",
      "Epoch 89/100\n",
      "235/235 [==============================] - 0s 1ms/step - loss: 0.3468 - accuracy: 0.8556\n",
      "Epoch 90/100\n",
      "235/235 [==============================] - 0s 1ms/step - loss: 0.3467 - accuracy: 0.8549\n",
      "Epoch 91/100\n",
      "235/235 [==============================] - 0s 1ms/step - loss: 0.3468 - accuracy: 0.8555\n",
      "Epoch 92/100\n",
      "235/235 [==============================] - 0s 1ms/step - loss: 0.3468 - accuracy: 0.8543\n",
      "Epoch 93/100\n",
      "235/235 [==============================] - 0s 1ms/step - loss: 0.3465 - accuracy: 0.8565\n",
      "Epoch 94/100\n",
      "235/235 [==============================] - 0s 1ms/step - loss: 0.3464 - accuracy: 0.8564\n",
      "Epoch 95/100\n",
      "235/235 [==============================] - 0s 1ms/step - loss: 0.3460 - accuracy: 0.8552\n",
      "Epoch 96/100\n",
      "235/235 [==============================] - 0s 1ms/step - loss: 0.3465 - accuracy: 0.8551\n",
      "Epoch 97/100\n",
      "235/235 [==============================] - 0s 1ms/step - loss: 0.3459 - accuracy: 0.8552\n",
      "Epoch 98/100\n",
      "235/235 [==============================] - 0s 1ms/step - loss: 0.3468 - accuracy: 0.8556\n",
      "Epoch 99/100\n",
      "235/235 [==============================] - 0s 1ms/step - loss: 0.3458 - accuracy: 0.8565\n",
      "Epoch 100/100\n",
      "235/235 [==============================] - 0s 1ms/step - loss: 0.3462 - accuracy: 0.8552\n",
      "\n",
      "79/79 [==============================] - 0s 1ms/step - loss: 0.3398 - accuracy: 0.8604\n",
      "[0.3398212194442749, 0.8604000210762024]\n",
      "\n",
      "\n",
      "              precision    recall  f1-score   support\n",
      "\n",
      "           0       0.87      0.97      0.92      1991\n",
      "           1       0.79      0.43      0.56       509\n",
      "\n",
      "    accuracy                           0.86      2500\n",
      "   macro avg       0.83      0.70      0.74      2500\n",
      "weighted avg       0.85      0.86      0.84      2500\n",
      "\n"
     ]
    }
   ],
   "source": [
    "ypred=ANN(xtrain,xtest,ytrain,ytest,'binary_crossentropy',-1)"
   ]
  },
  {
   "cell_type": "code",
   "execution_count": null,
   "id": "074332ee",
   "metadata": {
    "execution": {
     "iopub.execute_input": "2022-11-07T10:55:02.114629Z",
     "iopub.status.busy": "2022-11-07T10:55:02.114179Z",
     "iopub.status.idle": "2022-11-07T10:55:02.349923Z",
     "shell.execute_reply": "2022-11-07T10:55:02.348711Z"
    },
    "papermill": {
     "duration": 0.293617,
     "end_time": "2022-11-07T10:55:02.352526",
     "exception": false,
     "start_time": "2022-11-07T10:55:02.058909",
     "status": "completed"
    },
    "tags": []
   },
   "outputs": [
    {
     "data": {
      "text/plain": [
       "Text(69.0, 0.5, 'Truth')"
      ]
     },
     "execution_count": 23,
     "metadata": {},
     "output_type": "execute_result"
    },
    {
     "data": {
      "image/png": "[encoded data removed]",
      "text/plain": [
       "<Figure size 720x504 with 2 Axes>"
      ]
     },
     "metadata": {
      "needs_background": "light"
     },
     "output_type": "display_data"
    }
   ],
   "source": [
    "cm=tf.math.confusion_matrix(labels=ytest,predictions=ypred)\n",
    "plt.figure(figsize=(10,7))\n",
    "sns.heatmap(cm,annot=True,fmt='d')\n",
    "plt.xlabel('predicted')\n",
    "plt.ylabel('Truth')"
   ]
  },
  {
   "cell_type": "markdown",
   "id": "b2825cc4",
   "metadata": {
    "papermill": {
     "duration": 0.054049,
     "end_time": "2022-11-07T10:55:02.461375",
     "exception": false,
     "start_time": "2022-11-07T10:55:02.407326",
     "status": "completed"
    },
    "tags": []
   },
   "source": [
    "# Handling Imbalanced Data\n",
    "## 1. Under Sampling majority class"
   ]
  },
  {
   "cell_type": "code",
   "execution_count": null,
   "id": "57f2d765",
   "metadata": {
    "execution": {
     "iopub.execute_input": "2022-11-07T10:55:02.571516Z",
     "iopub.status.busy": "2022-11-07T10:55:02.571137Z",
     "iopub.status.idle": "2022-11-07T10:55:02.576813Z",
     "shell.execute_reply": "2022-11-07T10:55:02.575961Z"
    },
    "papermill": {
     "duration": 0.063081,
     "end_time": "2022-11-07T10:55:02.578881",
     "exception": false,
     "start_time": "2022-11-07T10:55:02.515800",
     "status": "completed"
    },
    "tags": []
   },
   "outputs": [],
   "source": [
    "count_class_0, count_class_1 = df.Exited.value_counts()"
   ]
  },
  {
   "cell_type": "code",
   "execution_count": null,
   "id": "553529d5",
   "metadata": {
    "execution": {
     "iopub.execute_input": "2022-11-07T10:55:02.692297Z",
     "iopub.status.busy": "2022-11-07T10:55:02.691701Z",
     "iopub.status.idle": "2022-11-07T10:55:02.698478Z",
     "shell.execute_reply": "2022-11-07T10:55:02.697618Z"
    },
    "papermill": {
     "duration": 0.066212,
     "end_time": "2022-11-07T10:55:02.700706",
     "exception": false,
     "start_time": "2022-11-07T10:55:02.634494",
     "status": "completed"
    },
    "tags": []
   },
   "outputs": [],
   "source": [
    "df_class_0= df[df.Exited==0]\n",
    "df_class_1= df[df.Exited==1]"
   ]
  },
  {
   "cell_type": "code",
   "execution_count": null,
   "id": "1fb90037",
   "metadata": {
    "execution": {
     "iopub.execute_input": "2022-11-07T10:55:02.811350Z",
     "iopub.status.busy": "2022-11-07T10:55:02.810762Z",
     "iopub.status.idle": "2022-11-07T10:55:02.819458Z",
     "shell.execute_reply": "2022-11-07T10:55:02.818712Z"
    },
    "papermill": {
     "duration": 0.06652,
     "end_time": "2022-11-07T10:55:02.821465",
     "exception": false,
     "start_time": "2022-11-07T10:55:02.754945",
     "status": "completed"
    },
    "tags": []
   },
   "outputs": [
    {
     "data": {
      "text/plain": [
       "(4074, 13)"
      ]
     },
     "execution_count": 26,
     "metadata": {},
     "output_type": "execute_result"
    }
   ],
   "source": [
    "df_class_0_under=df_class_0.sample(count_class_1)\n",
    "\n",
    "df_test_under=pd.concat([df_class_0_under,df_class_1])\n",
    "\n",
    "df_test_under.shape"
   ]
  },
  {
   "cell_type": "code",
   "execution_count": null,
   "id": "5963250e",
   "metadata": {
    "execution": {
     "iopub.execute_input": "2022-11-07T10:55:02.931409Z",
     "iopub.status.busy": "2022-11-07T10:55:02.930803Z",
     "iopub.status.idle": "2022-11-07T10:55:02.941424Z",
     "shell.execute_reply": "2022-11-07T10:55:02.940580Z"
    },
    "papermill": {
     "duration": 0.068718,
     "end_time": "2022-11-07T10:55:02.944129",
     "exception": false,
     "start_time": "2022-11-07T10:55:02.875411",
     "status": "completed"
    },
    "tags": []
   },
   "outputs": [],
   "source": [
    "# Training\n",
    "x=df_test_under.drop('Exited',axis=1)\n",
    "y=df_test_under.Exited\n",
    "\n",
    "from sklearn.model_selection import train_test_split\n",
    "\n",
    "xtrain,xtest,ytrain,ytest=train_test_split(x,y,test_size=0.25,random_state=15,stratify=y)"
   ]
  },
  {
   "cell_type": "code",
   "execution_count": null,
   "id": "9b04248f",
   "metadata": {
    "execution": {
     "iopub.execute_input": "2022-11-07T10:55:03.054631Z",
     "iopub.status.busy": "2022-11-07T10:55:03.054207Z",
     "iopub.status.idle": "2022-11-07T10:55:15.888261Z",
     "shell.execute_reply": "2022-11-07T10:55:15.886670Z"
    },
    "papermill": {
     "duration": 12.892459,
     "end_time": "2022-11-07T10:55:15.890688",
     "exception": false,
     "start_time": "2022-11-07T10:55:02.998229",
     "status": "completed"
    },
    "tags": []
   },
   "outputs": [
    {
     "name": "stdout",
     "output_type": "stream",
     "text": [
      "Epoch 1/100\n",
      "96/96 [==============================] - 1s 1ms/step - loss: 0.6656 - accuracy: 0.5921\n",
      "Epoch 2/100\n",
      "96/96 [==============================] - 0s 1ms/step - loss: 0.6439 - accuracy: 0.6298\n",
      "Epoch 3/100\n",
      "96/96 [==============================] - 0s 1ms/step - loss: 0.6320 - accuracy: 0.6465\n",
      "Epoch 4/100\n",
      "96/96 [==============================] - 0s 1ms/step - loss: 0.6228 - accuracy: 0.6570\n",
      "Epoch 5/100\n",
      "96/96 [==============================] - 0s 1ms/step - loss: 0.6156 - accuracy: 0.6622\n",
      "Epoch 6/100\n",
      "96/96 [==============================] - 0s 1ms/step - loss: 0.6079 - accuracy: 0.6789\n",
      "Epoch 7/100\n",
      "96/96 [==============================] - 0s 1ms/step - loss: 0.6010 - accuracy: 0.6750\n",
      "Epoch 8/100\n",
      "96/96 [==============================] - 0s 1ms/step - loss: 0.5948 - accuracy: 0.6838\n",
      "Epoch 9/100\n",
      "96/96 [==============================] - 0s 1ms/step - loss: 0.5896 - accuracy: 0.6894\n",
      "Epoch 10/100\n",
      "96/96 [==============================] - 0s 1ms/step - loss: 0.5844 - accuracy: 0.6959\n",
      "Epoch 11/100\n",
      "96/96 [==============================] - 0s 1ms/step - loss: 0.5787 - accuracy: 0.7028\n",
      "Epoch 12/100\n",
      "96/96 [==============================] - 0s 1ms/step - loss: 0.5739 - accuracy: 0.7051\n",
      "Epoch 13/100\n",
      "96/96 [==============================] - 0s 1ms/step - loss: 0.5714 - accuracy: 0.7083\n",
      "Epoch 14/100\n",
      "96/96 [==============================] - 0s 1ms/step - loss: 0.5672 - accuracy: 0.7074\n",
      "Epoch 15/100\n",
      "96/96 [==============================] - 0s 1ms/step - loss: 0.5636 - accuracy: 0.7178\n",
      "Epoch 16/100\n",
      "96/96 [==============================] - 0s 1ms/step - loss: 0.5609 - accuracy: 0.7162\n",
      "Epoch 17/100\n",
      "96/96 [==============================] - 0s 1ms/step - loss: 0.5572 - accuracy: 0.7149\n",
      "Epoch 18/100\n",
      "96/96 [==============================] - 0s 1ms/step - loss: 0.5539 - accuracy: 0.7208\n",
      "Epoch 19/100\n",
      "96/96 [==============================] - 0s 1ms/step - loss: 0.5512 - accuracy: 0.7267\n",
      "Epoch 20/100\n",
      "96/96 [==============================] - 0s 1ms/step - loss: 0.5478 - accuracy: 0.7326\n",
      "Epoch 21/100\n",
      "96/96 [==============================] - 0s 1ms/step - loss: 0.5461 - accuracy: 0.7303\n",
      "Epoch 22/100\n",
      "96/96 [==============================] - 0s 1ms/step - loss: 0.5425 - accuracy: 0.7322\n",
      "Epoch 23/100\n",
      "96/96 [==============================] - 0s 1ms/step - loss: 0.5400 - accuracy: 0.7372\n",
      "Epoch 24/100\n",
      "96/96 [==============================] - 0s 1ms/step - loss: 0.5369 - accuracy: 0.7345\n",
      "Epoch 25/100\n",
      "96/96 [==============================] - 0s 1ms/step - loss: 0.5338 - accuracy: 0.7414\n",
      "Epoch 26/100\n",
      "96/96 [==============================] - 0s 1ms/step - loss: 0.5310 - accuracy: 0.7476\n",
      "Epoch 27/100\n",
      "96/96 [==============================] - 0s 1ms/step - loss: 0.5296 - accuracy: 0.7421\n",
      "Epoch 28/100\n",
      "96/96 [==============================] - 0s 1ms/step - loss: 0.5263 - accuracy: 0.7457\n",
      "Epoch 29/100\n",
      "96/96 [==============================] - 0s 1ms/step - loss: 0.5234 - accuracy: 0.7489\n",
      "Epoch 30/100\n",
      "96/96 [==============================] - 0s 1ms/step - loss: 0.5216 - accuracy: 0.7496\n",
      "Epoch 31/100\n",
      "96/96 [==============================] - 0s 1ms/step - loss: 0.5190 - accuracy: 0.7473\n",
      "Epoch 32/100\n",
      "96/96 [==============================] - 0s 1ms/step - loss: 0.5171 - accuracy: 0.7529\n",
      "Epoch 33/100\n",
      "96/96 [==============================] - 0s 1ms/step - loss: 0.5151 - accuracy: 0.7496\n",
      "Epoch 34/100\n",
      "96/96 [==============================] - 0s 1ms/step - loss: 0.5127 - accuracy: 0.7535\n",
      "Epoch 35/100\n",
      "96/96 [==============================] - 0s 1ms/step - loss: 0.5118 - accuracy: 0.7571\n",
      "Epoch 36/100\n",
      "96/96 [==============================] - 0s 1ms/step - loss: 0.5096 - accuracy: 0.7532\n",
      "Epoch 37/100\n",
      "96/96 [==============================] - 0s 1ms/step - loss: 0.5076 - accuracy: 0.7548\n",
      "Epoch 38/100\n",
      "96/96 [==============================] - 0s 1ms/step - loss: 0.5063 - accuracy: 0.7588\n",
      "Epoch 39/100\n",
      "96/96 [==============================] - 0s 1ms/step - loss: 0.5053 - accuracy: 0.7581\n",
      "Epoch 40/100\n",
      "96/96 [==============================] - 0s 1ms/step - loss: 0.5027 - accuracy: 0.7565\n",
      "Epoch 41/100\n",
      "96/96 [==============================] - 0s 1ms/step - loss: 0.5016 - accuracy: 0.7581\n",
      "Epoch 42/100\n",
      "96/96 [==============================] - 0s 1ms/step - loss: 0.5008 - accuracy: 0.7578\n",
      "Epoch 43/100\n",
      "96/96 [==============================] - 0s 2ms/step - loss: 0.5003 - accuracy: 0.7588\n",
      "Epoch 44/100\n",
      "96/96 [==============================] - 0s 1ms/step - loss: 0.4984 - accuracy: 0.7607\n",
      "Epoch 45/100\n",
      "96/96 [==============================] - 0s 1ms/step - loss: 0.4973 - accuracy: 0.7624\n",
      "Epoch 46/100\n",
      "96/96 [==============================] - 0s 1ms/step - loss: 0.4968 - accuracy: 0.7594\n",
      "Epoch 47/100\n",
      "96/96 [==============================] - 0s 1ms/step - loss: 0.4943 - accuracy: 0.7653\n",
      "Epoch 48/100\n",
      "96/96 [==============================] - 0s 1ms/step - loss: 0.4949 - accuracy: 0.7633\n",
      "Epoch 49/100\n",
      "96/96 [==============================] - 0s 1ms/step - loss: 0.4939 - accuracy: 0.7607\n",
      "Epoch 50/100\n",
      "96/96 [==============================] - 0s 1ms/step - loss: 0.4924 - accuracy: 0.7624\n",
      "Epoch 51/100\n",
      "96/96 [==============================] - 0s 1ms/step - loss: 0.4921 - accuracy: 0.7637\n",
      "Epoch 52/100\n",
      "96/96 [==============================] - 0s 1ms/step - loss: 0.4911 - accuracy: 0.7617\n",
      "Epoch 53/100\n",
      "96/96 [==============================] - 0s 1ms/step - loss: 0.4913 - accuracy: 0.7604\n",
      "Epoch 54/100\n",
      "96/96 [==============================] - 0s 1ms/step - loss: 0.4908 - accuracy: 0.7617\n",
      "Epoch 55/100\n",
      "96/96 [==============================] - 0s 1ms/step - loss: 0.4893 - accuracy: 0.7627\n",
      "Epoch 56/100\n",
      "96/96 [==============================] - 0s 1ms/step - loss: 0.4885 - accuracy: 0.7643\n",
      "Epoch 57/100\n",
      "96/96 [==============================] - 0s 1ms/step - loss: 0.4882 - accuracy: 0.7646\n",
      "Epoch 58/100\n",
      "96/96 [==============================] - 0s 1ms/step - loss: 0.4879 - accuracy: 0.7643\n",
      "Epoch 59/100\n",
      "96/96 [==============================] - 0s 1ms/step - loss: 0.4869 - accuracy: 0.7673\n",
      "Epoch 60/100\n",
      "96/96 [==============================] - 0s 1ms/step - loss: 0.4865 - accuracy: 0.7643\n",
      "Epoch 61/100\n",
      "96/96 [==============================] - 0s 1ms/step - loss: 0.4860 - accuracy: 0.7617\n",
      "Epoch 62/100\n",
      "96/96 [==============================] - 0s 1ms/step - loss: 0.4851 - accuracy: 0.7610\n",
      "Epoch 63/100\n",
      "96/96 [==============================] - 0s 1ms/step - loss: 0.4843 - accuracy: 0.7633\n",
      "Epoch 64/100\n",
      "96/96 [==============================] - 0s 1ms/step - loss: 0.4840 - accuracy: 0.7630\n",
      "Epoch 65/100\n",
      "96/96 [==============================] - 0s 1ms/step - loss: 0.4835 - accuracy: 0.7669\n",
      "Epoch 66/100\n",
      "96/96 [==============================] - 0s 1ms/step - loss: 0.4833 - accuracy: 0.7666\n",
      "Epoch 67/100\n",
      "96/96 [==============================] - 0s 1ms/step - loss: 0.4843 - accuracy: 0.7614\n",
      "Epoch 68/100\n",
      "96/96 [==============================] - 0s 1ms/step - loss: 0.4826 - accuracy: 0.7617\n",
      "Epoch 69/100\n",
      "96/96 [==============================] - 0s 1ms/step - loss: 0.4820 - accuracy: 0.7646\n",
      "Epoch 70/100\n",
      "96/96 [==============================] - 0s 1ms/step - loss: 0.4823 - accuracy: 0.7660\n",
      "Epoch 71/100\n",
      "96/96 [==============================] - 0s 1ms/step - loss: 0.4816 - accuracy: 0.7660\n",
      "Epoch 72/100\n",
      "96/96 [==============================] - 0s 1ms/step - loss: 0.4813 - accuracy: 0.7650\n",
      "Epoch 73/100\n",
      "96/96 [==============================] - 0s 1ms/step - loss: 0.4814 - accuracy: 0.7656\n",
      "Epoch 74/100\n",
      "96/96 [==============================] - 0s 1ms/step - loss: 0.4811 - accuracy: 0.7643\n",
      "Epoch 75/100\n",
      "96/96 [==============================] - 0s 1ms/step - loss: 0.4799 - accuracy: 0.7656\n",
      "Epoch 76/100\n",
      "96/96 [==============================] - 0s 1ms/step - loss: 0.4796 - accuracy: 0.7656\n",
      "Epoch 77/100\n",
      "96/96 [==============================] - 0s 1ms/step - loss: 0.4785 - accuracy: 0.7679\n",
      "Epoch 78/100\n",
      "96/96 [==============================] - 0s 1ms/step - loss: 0.4783 - accuracy: 0.7646\n",
      "Epoch 79/100\n",
      "96/96 [==============================] - 0s 1ms/step - loss: 0.4788 - accuracy: 0.7689\n",
      "Epoch 80/100\n",
      "96/96 [==============================] - 0s 1ms/step - loss: 0.4796 - accuracy: 0.7663\n",
      "Epoch 81/100\n",
      "96/96 [==============================] - 0s 1ms/step - loss: 0.4789 - accuracy: 0.7699\n",
      "Epoch 82/100\n",
      "96/96 [==============================] - 0s 1ms/step - loss: 0.4784 - accuracy: 0.7676\n",
      "Epoch 83/100\n",
      "96/96 [==============================] - 0s 1ms/step - loss: 0.4783 - accuracy: 0.7633\n",
      "Epoch 84/100\n",
      "96/96 [==============================] - 0s 1ms/step - loss: 0.4781 - accuracy: 0.7663\n",
      "Epoch 85/100\n",
      "96/96 [==============================] - 0s 1ms/step - loss: 0.4766 - accuracy: 0.7682\n",
      "Epoch 86/100\n",
      "96/96 [==============================] - 0s 1ms/step - loss: 0.4792 - accuracy: 0.7620\n",
      "Epoch 87/100\n",
      "96/96 [==============================] - 0s 1ms/step - loss: 0.4768 - accuracy: 0.7669\n",
      "Epoch 88/100\n",
      "96/96 [==============================] - 0s 1ms/step - loss: 0.4765 - accuracy: 0.7673\n",
      "Epoch 89/100\n",
      "96/96 [==============================] - 0s 1ms/step - loss: 0.4761 - accuracy: 0.7650\n",
      "Epoch 90/100\n",
      "96/96 [==============================] - 0s 1ms/step - loss: 0.4759 - accuracy: 0.7705\n",
      "Epoch 91/100\n",
      "96/96 [==============================] - 0s 1ms/step - loss: 0.4757 - accuracy: 0.7689\n",
      "Epoch 92/100\n",
      "96/96 [==============================] - 0s 1ms/step - loss: 0.4752 - accuracy: 0.7689\n",
      "Epoch 93/100\n",
      "96/96 [==============================] - 0s 1ms/step - loss: 0.4756 - accuracy: 0.7705\n",
      "Epoch 94/100\n",
      "96/96 [==============================] - 0s 1ms/step - loss: 0.4749 - accuracy: 0.7666\n",
      "Epoch 95/100\n",
      "96/96 [==============================] - 0s 1ms/step - loss: 0.4749 - accuracy: 0.7689\n",
      "Epoch 96/100\n",
      "96/96 [==============================] - 0s 1ms/step - loss: 0.4744 - accuracy: 0.7709\n",
      "Epoch 97/100\n",
      "96/96 [==============================] - 0s 1ms/step - loss: 0.4752 - accuracy: 0.7669\n",
      "Epoch 98/100\n",
      "96/96 [==============================] - 0s 1ms/step - loss: 0.4739 - accuracy: 0.7696\n",
      "Epoch 99/100\n",
      "96/96 [==============================] - 0s 1ms/step - loss: 0.4741 - accuracy: 0.7715\n",
      "Epoch 100/100\n",
      "96/96 [==============================] - 0s 1ms/step - loss: 0.4736 - accuracy: 0.7692\n",
      "\n",
      "32/32 [==============================] - 0s 1ms/step - loss: 0.4695 - accuracy: 0.7704\n",
      "[0.4694688022136688, 0.7703630924224854]\n",
      "\n",
      "\n",
      "              precision    recall  f1-score   support\n",
      "\n",
      "           0       0.76      0.79      0.78       510\n",
      "           1       0.78      0.75      0.76       509\n",
      "\n",
      "    accuracy                           0.77      1019\n",
      "   macro avg       0.77      0.77      0.77      1019\n",
      "weighted avg       0.77      0.77      0.77      1019\n",
      "\n"
     ]
    }
   ],
   "source": [
    "ypred=ANN(xtrain,xtest,ytrain,ytest,'binary_crossentropy',-1)"
   ]
  },
  {
   "cell_type": "markdown",
   "id": "0aba2f26",
   "metadata": {
    "papermill": {
     "duration": 0.078095,
     "end_time": "2022-11-07T10:55:16.048628",
     "exception": false,
     "start_time": "2022-11-07T10:55:15.970533",
     "status": "completed"
    },
    "tags": []
   },
   "source": [
    "## Over sampling"
   ]
  },
  {
   "cell_type": "code",
   "execution_count": null,
   "id": "11d6a666",
   "metadata": {
    "execution": {
     "iopub.execute_input": "2022-11-07T10:55:16.205960Z",
     "iopub.status.busy": "2022-11-07T10:55:16.205107Z",
     "iopub.status.idle": "2022-11-07T10:55:16.218281Z",
     "shell.execute_reply": "2022-11-07T10:55:16.217201Z"
    },
    "papermill": {
     "duration": 0.094508,
     "end_time": "2022-11-07T10:55:16.220786",
     "exception": false,
     "start_time": "2022-11-07T10:55:16.126278",
     "status": "completed"
    },
    "tags": []
   },
   "outputs": [
    {
     "data": {
      "text/plain": [
       "(15926, 13)"
      ]
     },
     "execution_count": 29,
     "metadata": {},
     "output_type": "execute_result"
    }
   ],
   "source": [
    "df_class_1_over= df_class_1.sample(count_class_0,replace=True)\n",
    "\n",
    "df_test_over=pd.concat([df_class_0,df_class_1_over],axis=0)\n",
    "\n",
    "df_test_over.shape"
   ]
  },
  {
   "cell_type": "code",
   "execution_count": null,
   "id": "6af1f95e",
   "metadata": {
    "execution": {
     "iopub.execute_input": "2022-11-07T10:55:16.383309Z",
     "iopub.status.busy": "2022-11-07T10:55:16.381578Z",
     "iopub.status.idle": "2022-11-07T10:56:03.619581Z",
     "shell.execute_reply": "2022-11-07T10:56:03.618665Z"
    },
    "papermill": {
     "duration": 47.32067,
     "end_time": "2022-11-07T10:56:03.621963",
     "exception": false,
     "start_time": "2022-11-07T10:55:16.301293",
     "status": "completed"
    },
    "tags": []
   },
   "outputs": [
    {
     "name": "stdout",
     "output_type": "stream",
     "text": [
      "Epoch 1/100\n",
      "374/374 [==============================] - 1s 1ms/step - loss: 0.6394 - accuracy: 0.6419\n",
      "Epoch 2/100\n",
      "374/374 [==============================] - 0s 1ms/step - loss: 0.5965 - accuracy: 0.6900\n",
      "Epoch 3/100\n",
      "374/374 [==============================] - 0s 1ms/step - loss: 0.5796 - accuracy: 0.6998\n",
      "Epoch 4/100\n",
      "374/374 [==============================] - 0s 1ms/step - loss: 0.5698 - accuracy: 0.7070\n",
      "Epoch 5/100\n",
      "374/374 [==============================] - 0s 1ms/step - loss: 0.5607 - accuracy: 0.7143\n",
      "Epoch 6/100\n",
      "374/374 [==============================] - 0s 1ms/step - loss: 0.5508 - accuracy: 0.7251\n",
      "Epoch 7/100\n",
      "374/374 [==============================] - 1s 1ms/step - loss: 0.5380 - accuracy: 0.7351\n",
      "Epoch 8/100\n",
      "374/374 [==============================] - 0s 1ms/step - loss: 0.5268 - accuracy: 0.7432\n",
      "Epoch 9/100\n",
      "374/374 [==============================] - 0s 1ms/step - loss: 0.5162 - accuracy: 0.7504\n",
      "Epoch 10/100\n",
      "374/374 [==============================] - 0s 1ms/step - loss: 0.5076 - accuracy: 0.7549\n",
      "Epoch 11/100\n",
      "374/374 [==============================] - 0s 1ms/step - loss: 0.5003 - accuracy: 0.7607\n",
      "Epoch 12/100\n",
      "374/374 [==============================] - 0s 1ms/step - loss: 0.4941 - accuracy: 0.7615\n",
      "Epoch 13/100\n",
      "374/374 [==============================] - 0s 1ms/step - loss: 0.4885 - accuracy: 0.7666\n",
      "Epoch 14/100\n",
      "374/374 [==============================] - 0s 1ms/step - loss: 0.4832 - accuracy: 0.7678\n",
      "Epoch 15/100\n",
      "374/374 [==============================] - 0s 1ms/step - loss: 0.4787 - accuracy: 0.7728\n",
      "Epoch 16/100\n",
      "374/374 [==============================] - 0s 1ms/step - loss: 0.4754 - accuracy: 0.7715\n",
      "Epoch 17/100\n",
      "374/374 [==============================] - 0s 1ms/step - loss: 0.4726 - accuracy: 0.7739\n",
      "Epoch 18/100\n",
      "374/374 [==============================] - 0s 1ms/step - loss: 0.4699 - accuracy: 0.7730\n",
      "Epoch 19/100\n",
      "374/374 [==============================] - 0s 1ms/step - loss: 0.4672 - accuracy: 0.7741\n",
      "Epoch 20/100\n",
      "374/374 [==============================] - 0s 1ms/step - loss: 0.4657 - accuracy: 0.7775\n",
      "Epoch 21/100\n",
      "374/374 [==============================] - 0s 1ms/step - loss: 0.4645 - accuracy: 0.7774\n",
      "Epoch 22/100\n",
      "374/374 [==============================] - 0s 1ms/step - loss: 0.4631 - accuracy: 0.7762\n",
      "Epoch 23/100\n",
      "374/374 [==============================] - 1s 1ms/step - loss: 0.4616 - accuracy: 0.7768\n",
      "Epoch 24/100\n",
      "374/374 [==============================] - 1s 2ms/step - loss: 0.4599 - accuracy: 0.7808\n",
      "Epoch 25/100\n",
      "374/374 [==============================] - 0s 1ms/step - loss: 0.4596 - accuracy: 0.7804\n",
      "Epoch 26/100\n",
      "374/374 [==============================] - 0s 1ms/step - loss: 0.4583 - accuracy: 0.7809\n",
      "Epoch 27/100\n",
      "374/374 [==============================] - 0s 1ms/step - loss: 0.4583 - accuracy: 0.7810\n",
      "Epoch 28/100\n",
      "374/374 [==============================] - 0s 1ms/step - loss: 0.4561 - accuracy: 0.7803\n",
      "Epoch 29/100\n",
      "374/374 [==============================] - 0s 1ms/step - loss: 0.4561 - accuracy: 0.7832\n",
      "Epoch 30/100\n",
      "374/374 [==============================] - 1s 1ms/step - loss: 0.4554 - accuracy: 0.7808\n",
      "Epoch 31/100\n",
      "374/374 [==============================] - 0s 1ms/step - loss: 0.4546 - accuracy: 0.7822\n",
      "Epoch 32/100\n",
      "374/374 [==============================] - 0s 1ms/step - loss: 0.4539 - accuracy: 0.7844\n",
      "Epoch 33/100\n",
      "374/374 [==============================] - 0s 1ms/step - loss: 0.4535 - accuracy: 0.7811\n",
      "Epoch 34/100\n",
      "374/374 [==============================] - 0s 1ms/step - loss: 0.4538 - accuracy: 0.7834\n",
      "Epoch 35/100\n",
      "374/374 [==============================] - 0s 1ms/step - loss: 0.4524 - accuracy: 0.7837\n",
      "Epoch 36/100\n",
      "374/374 [==============================] - 0s 1ms/step - loss: 0.4520 - accuracy: 0.7848\n",
      "Epoch 37/100\n",
      "374/374 [==============================] - 0s 1ms/step - loss: 0.4514 - accuracy: 0.7834\n",
      "Epoch 38/100\n",
      "374/374 [==============================] - 0s 1ms/step - loss: 0.4514 - accuracy: 0.7829\n",
      "Epoch 39/100\n",
      "374/374 [==============================] - 0s 1ms/step - loss: 0.4512 - accuracy: 0.7821\n",
      "Epoch 40/100\n",
      "374/374 [==============================] - 0s 1ms/step - loss: 0.4508 - accuracy: 0.7840\n",
      "Epoch 41/100\n",
      "374/374 [==============================] - 0s 1ms/step - loss: 0.4503 - accuracy: 0.7850\n",
      "Epoch 42/100\n",
      "374/374 [==============================] - 0s 1ms/step - loss: 0.4503 - accuracy: 0.7824\n",
      "Epoch 43/100\n",
      "374/374 [==============================] - 0s 1ms/step - loss: 0.4489 - accuracy: 0.7842\n",
      "Epoch 44/100\n",
      "374/374 [==============================] - 0s 1ms/step - loss: 0.4491 - accuracy: 0.7852\n",
      "Epoch 45/100\n",
      "374/374 [==============================] - 0s 1ms/step - loss: 0.4485 - accuracy: 0.7869\n",
      "Epoch 46/100\n",
      "374/374 [==============================] - 0s 1ms/step - loss: 0.4483 - accuracy: 0.7843\n",
      "Epoch 47/100\n",
      "374/374 [==============================] - 0s 1ms/step - loss: 0.4486 - accuracy: 0.7872\n",
      "Epoch 48/100\n",
      "374/374 [==============================] - 0s 1ms/step - loss: 0.4479 - accuracy: 0.7878\n",
      "Epoch 49/100\n",
      "374/374 [==============================] - 0s 1ms/step - loss: 0.4474 - accuracy: 0.7878\n",
      "Epoch 50/100\n",
      "374/374 [==============================] - 0s 1ms/step - loss: 0.4478 - accuracy: 0.7868\n",
      "Epoch 51/100\n",
      "374/374 [==============================] - 0s 1ms/step - loss: 0.4472 - accuracy: 0.7870\n",
      "Epoch 52/100\n",
      "374/374 [==============================] - 0s 1ms/step - loss: 0.4464 - accuracy: 0.7886\n",
      "Epoch 53/100\n",
      "374/374 [==============================] - 0s 1ms/step - loss: 0.4468 - accuracy: 0.7864\n",
      "Epoch 54/100\n",
      "374/374 [==============================] - 0s 1ms/step - loss: 0.4454 - accuracy: 0.7886\n",
      "Epoch 55/100\n",
      "374/374 [==============================] - 1s 1ms/step - loss: 0.4451 - accuracy: 0.7902\n",
      "Epoch 56/100\n",
      "374/374 [==============================] - 0s 1ms/step - loss: 0.4454 - accuracy: 0.7878\n",
      "Epoch 57/100\n",
      "374/374 [==============================] - 0s 1ms/step - loss: 0.4449 - accuracy: 0.7896\n",
      "Epoch 58/100\n",
      "374/374 [==============================] - 0s 1ms/step - loss: 0.4446 - accuracy: 0.7892\n",
      "Epoch 59/100\n",
      "374/374 [==============================] - 0s 1ms/step - loss: 0.4450 - accuracy: 0.7894\n",
      "Epoch 60/100\n",
      "374/374 [==============================] - 0s 1ms/step - loss: 0.4451 - accuracy: 0.7891\n",
      "Epoch 61/100\n",
      "374/374 [==============================] - 0s 1ms/step - loss: 0.4444 - accuracy: 0.7892\n",
      "Epoch 62/100\n",
      "374/374 [==============================] - 0s 1ms/step - loss: 0.4443 - accuracy: 0.7890\n",
      "Epoch 63/100\n",
      "374/374 [==============================] - 0s 1ms/step - loss: 0.4434 - accuracy: 0.7897\n",
      "Epoch 64/100\n",
      "374/374 [==============================] - 0s 1ms/step - loss: 0.4435 - accuracy: 0.7900\n",
      "Epoch 65/100\n",
      "374/374 [==============================] - 0s 1ms/step - loss: 0.4436 - accuracy: 0.7923\n",
      "Epoch 66/100\n",
      "374/374 [==============================] - 0s 1ms/step - loss: 0.4434 - accuracy: 0.7889\n",
      "Epoch 67/100\n",
      "374/374 [==============================] - 0s 1ms/step - loss: 0.4428 - accuracy: 0.7901\n",
      "Epoch 68/100\n",
      "374/374 [==============================] - 0s 1ms/step - loss: 0.4426 - accuracy: 0.7925\n",
      "Epoch 69/100\n",
      "374/374 [==============================] - 0s 1ms/step - loss: 0.4426 - accuracy: 0.7909\n",
      "Epoch 70/100\n",
      "374/374 [==============================] - 0s 1ms/step - loss: 0.4421 - accuracy: 0.7895\n",
      "Epoch 71/100\n",
      "374/374 [==============================] - 0s 1ms/step - loss: 0.4422 - accuracy: 0.7909\n",
      "Epoch 72/100\n",
      "374/374 [==============================] - 0s 1ms/step - loss: 0.4423 - accuracy: 0.7917\n",
      "Epoch 73/100\n",
      "374/374 [==============================] - 0s 1ms/step - loss: 0.4416 - accuracy: 0.7909\n",
      "Epoch 74/100\n",
      "374/374 [==============================] - 0s 1ms/step - loss: 0.4421 - accuracy: 0.7913\n",
      "Epoch 75/100\n",
      "374/374 [==============================] - 0s 1ms/step - loss: 0.4418 - accuracy: 0.7910\n",
      "Epoch 76/100\n",
      "374/374 [==============================] - 0s 1ms/step - loss: 0.4409 - accuracy: 0.7914\n",
      "Epoch 77/100\n",
      "374/374 [==============================] - 0s 1ms/step - loss: 0.4424 - accuracy: 0.7909\n",
      "Epoch 78/100\n",
      "374/374 [==============================] - 1s 1ms/step - loss: 0.4415 - accuracy: 0.7916\n",
      "Epoch 79/100\n",
      "374/374 [==============================] - 0s 1ms/step - loss: 0.4402 - accuracy: 0.7930\n",
      "Epoch 80/100\n",
      "374/374 [==============================] - 0s 1ms/step - loss: 0.4409 - accuracy: 0.7910\n",
      "Epoch 81/100\n",
      "374/374 [==============================] - 0s 1ms/step - loss: 0.4408 - accuracy: 0.7899\n",
      "Epoch 82/100\n",
      "374/374 [==============================] - 0s 1ms/step - loss: 0.4404 - accuracy: 0.7924\n",
      "Epoch 83/100\n",
      "374/374 [==============================] - 0s 1ms/step - loss: 0.4403 - accuracy: 0.7933\n",
      "Epoch 84/100\n",
      "374/374 [==============================] - 0s 1ms/step - loss: 0.4408 - accuracy: 0.7904\n",
      "Epoch 85/100\n",
      "374/374 [==============================] - 0s 1ms/step - loss: 0.4401 - accuracy: 0.7948\n",
      "Epoch 86/100\n",
      "374/374 [==============================] - 0s 1ms/step - loss: 0.4406 - accuracy: 0.7917\n",
      "Epoch 87/100\n",
      "374/374 [==============================] - 0s 1ms/step - loss: 0.4390 - accuracy: 0.7918\n",
      "Epoch 88/100\n",
      "374/374 [==============================] - 0s 1ms/step - loss: 0.4400 - accuracy: 0.7931\n",
      "Epoch 89/100\n",
      "374/374 [==============================] - 0s 1ms/step - loss: 0.4402 - accuracy: 0.7904\n",
      "Epoch 90/100\n",
      "374/374 [==============================] - 0s 1ms/step - loss: 0.4402 - accuracy: 0.7915\n",
      "Epoch 91/100\n",
      "374/374 [==============================] - 1s 2ms/step - loss: 0.4393 - accuracy: 0.7942\n",
      "Epoch 92/100\n",
      "374/374 [==============================] - 1s 2ms/step - loss: 0.4388 - accuracy: 0.7955\n",
      "Epoch 93/100\n",
      "374/374 [==============================] - 1s 1ms/step - loss: 0.4391 - accuracy: 0.7935\n",
      "Epoch 94/100\n",
      "374/374 [==============================] - 0s 1ms/step - loss: 0.4385 - accuracy: 0.7953\n",
      "Epoch 95/100\n",
      "374/374 [==============================] - 0s 1ms/step - loss: 0.4398 - accuracy: 0.7912\n",
      "Epoch 96/100\n",
      "374/374 [==============================] - 0s 1ms/step - loss: 0.4392 - accuracy: 0.7953\n",
      "Epoch 97/100\n",
      "374/374 [==============================] - 0s 1ms/step - loss: 0.4385 - accuracy: 0.7925\n",
      "Epoch 98/100\n",
      "374/374 [==============================] - 0s 1ms/step - loss: 0.4389 - accuracy: 0.7932\n",
      "Epoch 99/100\n",
      "374/374 [==============================] - 0s 1ms/step - loss: 0.4385 - accuracy: 0.7939\n",
      "Epoch 100/100\n",
      "374/374 [==============================] - 0s 1ms/step - loss: 0.4386 - accuracy: 0.7930\n",
      "\n",
      "125/125 [==============================] - 0s 972us/step - loss: 0.4495 - accuracy: 0.7820\n",
      "[0.4495407044887543, 0.7820190787315369]\n",
      "\n",
      "\n",
      "              precision    recall  f1-score   support\n",
      "\n",
      "           0       0.77      0.80      0.79      1991\n",
      "           1       0.79      0.77      0.78      1991\n",
      "\n",
      "    accuracy                           0.78      3982\n",
      "   macro avg       0.78      0.78      0.78      3982\n",
      "weighted avg       0.78      0.78      0.78      3982\n",
      "\n"
     ]
    }
   ],
   "source": [
    "# Training\n",
    "x=df_test_over.drop('Exited',axis=1)\n",
    "y=df_test_over.Exited\n",
    "\n",
    "\n",
    "xtrain,xtest,ytrain,ytest=train_test_split(x,y,test_size=0.25,random_state=15,stratify=y)\n",
    "\n",
    "ypred=ANN(xtrain,xtest,ytrain,ytest,'binary_crossentropy',-1)"
   ]
  },
  {
   "cell_type": "markdown",
   "id": "0b4f4d47",
   "metadata": {
    "papermill": {
     "duration": 0.14308,
     "end_time": "2022-11-07T10:56:03.941509",
     "exception": false,
     "start_time": "2022-11-07T10:56:03.798429",
     "status": "completed"
    },
    "tags": []
   },
   "source": [
    "## SMOTE"
   ]
  },
  {
   "cell_type": "code",
   "execution_count": null,
   "id": "85921e83",
   "metadata": {
    "execution": {
     "iopub.execute_input": "2022-11-07T10:56:04.299957Z",
     "iopub.status.busy": "2022-11-07T10:56:04.299168Z",
     "iopub.status.idle": "2022-11-07T10:56:04.680863Z",
     "shell.execute_reply": "2022-11-07T10:56:04.679818Z"
    },
    "papermill": {
     "duration": 0.598928,
     "end_time": "2022-11-07T10:56:04.683370",
     "exception": false,
     "start_time": "2022-11-07T10:56:04.084442",
     "status": "completed"
    },
    "tags": []
   },
   "outputs": [
    {
     "data": {
      "text/plain": [
       "1    7963\n",
       "0    7963\n",
       "Name: Exited, dtype: int64"
      ]
     },
     "execution_count": 31,
     "metadata": {},
     "output_type": "execute_result"
    }
   ],
   "source": [
    "x=df.drop('Exited',axis=1)\n",
    "y=df.Exited\n",
    "\n",
    "from imblearn.over_sampling import SMOTE\n",
    "\n",
    "smote= SMOTE(sampling_strategy='minority')\n",
    "\n",
    "x_sm,y_sm=smote.fit_resample(x,y)\n",
    "\n",
    "y_sm.value_counts()"
   ]
  },
  {
   "cell_type": "code",
   "execution_count": null,
   "id": "8f90b719",
   "metadata": {
    "execution": {
     "iopub.execute_input": "2022-11-07T10:56:04.971538Z",
     "iopub.status.busy": "2022-11-07T10:56:04.970939Z",
     "iopub.status.idle": "2022-11-07T10:56:51.986774Z",
     "shell.execute_reply": "2022-11-07T10:56:51.985387Z"
    },
    "papermill": {
     "duration": 47.161752,
     "end_time": "2022-11-07T10:56:51.989117",
     "exception": false,
     "start_time": "2022-11-07T10:56:04.827365",
     "status": "completed"
    },
    "tags": []
   },
   "outputs": [
    {
     "name": "stdout",
     "output_type": "stream",
     "text": [
      "Epoch 1/100\n",
      "374/374 [==============================] - 1s 1ms/step - loss: 0.6536 - accuracy: 0.6232\n",
      "Epoch 2/100\n",
      "374/374 [==============================] - 0s 1ms/step - loss: 0.6170 - accuracy: 0.6638\n",
      "Epoch 3/100\n",
      "374/374 [==============================] - 0s 1ms/step - loss: 0.5931 - accuracy: 0.6875\n",
      "Epoch 4/100\n",
      "374/374 [==============================] - 0s 1ms/step - loss: 0.5738 - accuracy: 0.7086\n",
      "Epoch 5/100\n",
      "374/374 [==============================] - 0s 1ms/step - loss: 0.5585 - accuracy: 0.7131\n",
      "Epoch 6/100\n",
      "374/374 [==============================] - 0s 1ms/step - loss: 0.5439 - accuracy: 0.7313\n",
      "Epoch 7/100\n",
      "374/374 [==============================] - 0s 1ms/step - loss: 0.5318 - accuracy: 0.7375\n",
      "Epoch 8/100\n",
      "374/374 [==============================] - 0s 1ms/step - loss: 0.5200 - accuracy: 0.7461\n",
      "Epoch 9/100\n",
      "374/374 [==============================] - 0s 1ms/step - loss: 0.5088 - accuracy: 0.7517\n",
      "Epoch 10/100\n",
      "374/374 [==============================] - 0s 1ms/step - loss: 0.4991 - accuracy: 0.7583\n",
      "Epoch 11/100\n",
      "374/374 [==============================] - 0s 1ms/step - loss: 0.4918 - accuracy: 0.7620\n",
      "Epoch 12/100\n",
      "374/374 [==============================] - 0s 1ms/step - loss: 0.4834 - accuracy: 0.7672\n",
      "Epoch 13/100\n",
      "374/374 [==============================] - 0s 1ms/step - loss: 0.4778 - accuracy: 0.7677\n",
      "Epoch 14/100\n",
      "374/374 [==============================] - 0s 1ms/step - loss: 0.4728 - accuracy: 0.7706\n",
      "Epoch 15/100\n",
      "374/374 [==============================] - 0s 1ms/step - loss: 0.4695 - accuracy: 0.7714\n",
      "Epoch 16/100\n",
      "374/374 [==============================] - 0s 1ms/step - loss: 0.4671 - accuracy: 0.7719\n",
      "Epoch 17/100\n",
      "374/374 [==============================] - 0s 1ms/step - loss: 0.4635 - accuracy: 0.7760\n",
      "Epoch 18/100\n",
      "374/374 [==============================] - 0s 1ms/step - loss: 0.4616 - accuracy: 0.7772\n",
      "Epoch 19/100\n",
      "374/374 [==============================] - 0s 1ms/step - loss: 0.4597 - accuracy: 0.7744\n",
      "Epoch 20/100\n",
      "374/374 [==============================] - 1s 1ms/step - loss: 0.4579 - accuracy: 0.7781\n",
      "Epoch 21/100\n",
      "374/374 [==============================] - 0s 1ms/step - loss: 0.4563 - accuracy: 0.7787\n",
      "Epoch 22/100\n",
      "374/374 [==============================] - 0s 1ms/step - loss: 0.4545 - accuracy: 0.7778\n",
      "Epoch 23/100\n",
      "374/374 [==============================] - 0s 1ms/step - loss: 0.4539 - accuracy: 0.7797\n",
      "Epoch 24/100\n",
      "374/374 [==============================] - 0s 1ms/step - loss: 0.4522 - accuracy: 0.7787\n",
      "Epoch 25/100\n",
      "374/374 [==============================] - 0s 1ms/step - loss: 0.4509 - accuracy: 0.7799\n",
      "Epoch 26/100\n",
      "374/374 [==============================] - 0s 1ms/step - loss: 0.4502 - accuracy: 0.7820\n",
      "Epoch 27/100\n",
      "374/374 [==============================] - 0s 1ms/step - loss: 0.4493 - accuracy: 0.7817\n",
      "Epoch 28/100\n",
      "374/374 [==============================] - 0s 1ms/step - loss: 0.4492 - accuracy: 0.7808\n",
      "Epoch 29/100\n",
      "374/374 [==============================] - 0s 1ms/step - loss: 0.4472 - accuracy: 0.7816\n",
      "Epoch 30/100\n",
      "374/374 [==============================] - 0s 1ms/step - loss: 0.4460 - accuracy: 0.7827\n",
      "Epoch 31/100\n",
      "374/374 [==============================] - 0s 1ms/step - loss: 0.4454 - accuracy: 0.7834\n",
      "Epoch 32/100\n",
      "374/374 [==============================] - 0s 1ms/step - loss: 0.4450 - accuracy: 0.7850\n",
      "Epoch 33/100\n",
      "374/374 [==============================] - 0s 1ms/step - loss: 0.4443 - accuracy: 0.7837\n",
      "Epoch 34/100\n",
      "374/374 [==============================] - 0s 1ms/step - loss: 0.4426 - accuracy: 0.7866\n",
      "Epoch 35/100\n",
      "374/374 [==============================] - 0s 1ms/step - loss: 0.4426 - accuracy: 0.7863\n",
      "Epoch 36/100\n",
      "374/374 [==============================] - 0s 1ms/step - loss: 0.4424 - accuracy: 0.7851\n",
      "Epoch 37/100\n",
      "374/374 [==============================] - 0s 1ms/step - loss: 0.4413 - accuracy: 0.7861\n",
      "Epoch 38/100\n",
      "374/374 [==============================] - 0s 1ms/step - loss: 0.4405 - accuracy: 0.7862\n",
      "Epoch 39/100\n",
      "374/374 [==============================] - 0s 1ms/step - loss: 0.4412 - accuracy: 0.7853\n",
      "Epoch 40/100\n",
      "374/374 [==============================] - 0s 1ms/step - loss: 0.4405 - accuracy: 0.7877\n",
      "Epoch 41/100\n",
      "374/374 [==============================] - 0s 1ms/step - loss: 0.4395 - accuracy: 0.7845\n",
      "Epoch 42/100\n",
      "374/374 [==============================] - 0s 1ms/step - loss: 0.4398 - accuracy: 0.7848\n",
      "Epoch 43/100\n",
      "374/374 [==============================] - 0s 1ms/step - loss: 0.4387 - accuracy: 0.7878\n",
      "Epoch 44/100\n",
      "374/374 [==============================] - 1s 1ms/step - loss: 0.4386 - accuracy: 0.7862\n",
      "Epoch 45/100\n",
      "374/374 [==============================] - 0s 1ms/step - loss: 0.4386 - accuracy: 0.7879\n",
      "Epoch 46/100\n",
      "374/374 [==============================] - 0s 1ms/step - loss: 0.4376 - accuracy: 0.7868\n",
      "Epoch 47/100\n",
      "374/374 [==============================] - 0s 1ms/step - loss: 0.4376 - accuracy: 0.7883\n",
      "Epoch 48/100\n",
      "374/374 [==============================] - 0s 1ms/step - loss: 0.4371 - accuracy: 0.7875\n",
      "Epoch 49/100\n",
      "374/374 [==============================] - 0s 1ms/step - loss: 0.4375 - accuracy: 0.7870\n",
      "Epoch 50/100\n",
      "374/374 [==============================] - 0s 1ms/step - loss: 0.4372 - accuracy: 0.7885\n",
      "Epoch 51/100\n",
      "374/374 [==============================] - 0s 1ms/step - loss: 0.4367 - accuracy: 0.7894\n",
      "Epoch 52/100\n",
      "374/374 [==============================] - 0s 1ms/step - loss: 0.4359 - accuracy: 0.7897\n",
      "Epoch 53/100\n",
      "374/374 [==============================] - 0s 1ms/step - loss: 0.4360 - accuracy: 0.7901\n",
      "Epoch 54/100\n",
      "374/374 [==============================] - 1s 2ms/step - loss: 0.4361 - accuracy: 0.7905\n",
      "Epoch 55/100\n",
      "374/374 [==============================] - 1s 2ms/step - loss: 0.4357 - accuracy: 0.7905\n",
      "Epoch 56/100\n",
      "374/374 [==============================] - 0s 1ms/step - loss: 0.4352 - accuracy: 0.7888\n",
      "Epoch 57/100\n",
      "374/374 [==============================] - 0s 1ms/step - loss: 0.4351 - accuracy: 0.7891\n",
      "Epoch 58/100\n",
      "374/374 [==============================] - 0s 1ms/step - loss: 0.4343 - accuracy: 0.7913\n",
      "Epoch 59/100\n",
      "374/374 [==============================] - 0s 1ms/step - loss: 0.4346 - accuracy: 0.7910\n",
      "Epoch 60/100\n",
      "374/374 [==============================] - 0s 1ms/step - loss: 0.4342 - accuracy: 0.7909\n",
      "Epoch 61/100\n",
      "374/374 [==============================] - 0s 1ms/step - loss: 0.4342 - accuracy: 0.7908\n",
      "Epoch 62/100\n",
      "374/374 [==============================] - 0s 1ms/step - loss: 0.4339 - accuracy: 0.7907\n",
      "Epoch 63/100\n",
      "374/374 [==============================] - 0s 1ms/step - loss: 0.4337 - accuracy: 0.7918\n",
      "Epoch 64/100\n",
      "374/374 [==============================] - 0s 1ms/step - loss: 0.4334 - accuracy: 0.7923\n",
      "Epoch 65/100\n",
      "374/374 [==============================] - 0s 1ms/step - loss: 0.4332 - accuracy: 0.7929\n",
      "Epoch 66/100\n",
      "374/374 [==============================] - 0s 1ms/step - loss: 0.4327 - accuracy: 0.7932\n",
      "Epoch 67/100\n",
      "374/374 [==============================] - 0s 1ms/step - loss: 0.4321 - accuracy: 0.7934\n",
      "Epoch 68/100\n",
      "374/374 [==============================] - 1s 1ms/step - loss: 0.4319 - accuracy: 0.7938\n",
      "Epoch 69/100\n",
      "374/374 [==============================] - 0s 1ms/step - loss: 0.4317 - accuracy: 0.7931\n",
      "Epoch 70/100\n",
      "374/374 [==============================] - 0s 1ms/step - loss: 0.4324 - accuracy: 0.7913\n",
      "Epoch 71/100\n",
      "374/374 [==============================] - 0s 1ms/step - loss: 0.4317 - accuracy: 0.7948\n",
      "Epoch 72/100\n",
      "374/374 [==============================] - 0s 1ms/step - loss: 0.4321 - accuracy: 0.7916\n",
      "Epoch 73/100\n",
      "374/374 [==============================] - 0s 1ms/step - loss: 0.4308 - accuracy: 0.7962\n",
      "Epoch 74/100\n",
      "374/374 [==============================] - 0s 1ms/step - loss: 0.4318 - accuracy: 0.7931\n",
      "Epoch 75/100\n",
      "374/374 [==============================] - 0s 1ms/step - loss: 0.4305 - accuracy: 0.7960\n",
      "Epoch 76/100\n",
      "374/374 [==============================] - 0s 1ms/step - loss: 0.4310 - accuracy: 0.7935\n",
      "Epoch 77/100\n",
      "374/374 [==============================] - 0s 1ms/step - loss: 0.4307 - accuracy: 0.7939\n",
      "Epoch 78/100\n",
      "374/374 [==============================] - 0s 1ms/step - loss: 0.4307 - accuracy: 0.7945\n",
      "Epoch 79/100\n",
      "374/374 [==============================] - 0s 1ms/step - loss: 0.4302 - accuracy: 0.7933\n",
      "Epoch 80/100\n",
      "374/374 [==============================] - 0s 1ms/step - loss: 0.4301 - accuracy: 0.7981\n",
      "Epoch 81/100\n",
      "374/374 [==============================] - 0s 1ms/step - loss: 0.4305 - accuracy: 0.7936\n",
      "Epoch 82/100\n",
      "374/374 [==============================] - 0s 1ms/step - loss: 0.4298 - accuracy: 0.7958\n",
      "Epoch 83/100\n",
      "374/374 [==============================] - 0s 1ms/step - loss: 0.4294 - accuracy: 0.7945\n",
      "Epoch 84/100\n",
      "374/374 [==============================] - 0s 1ms/step - loss: 0.4301 - accuracy: 0.7950\n",
      "Epoch 85/100\n",
      "374/374 [==============================] - 0s 1ms/step - loss: 0.4293 - accuracy: 0.7979\n",
      "Epoch 86/100\n",
      "374/374 [==============================] - 0s 1ms/step - loss: 0.4295 - accuracy: 0.7962\n",
      "Epoch 87/100\n",
      "374/374 [==============================] - 0s 1ms/step - loss: 0.4297 - accuracy: 0.7940\n",
      "Epoch 88/100\n",
      "374/374 [==============================] - 0s 1ms/step - loss: 0.4292 - accuracy: 0.7984\n",
      "Epoch 89/100\n",
      "374/374 [==============================] - 0s 1ms/step - loss: 0.4290 - accuracy: 0.7967\n",
      "Epoch 90/100\n",
      "374/374 [==============================] - 0s 1ms/step - loss: 0.4288 - accuracy: 0.7968\n",
      "Epoch 91/100\n",
      "374/374 [==============================] - 0s 1ms/step - loss: 0.4293 - accuracy: 0.7957\n",
      "Epoch 92/100\n",
      "374/374 [==============================] - 1s 1ms/step - loss: 0.4287 - accuracy: 0.7981\n",
      "Epoch 93/100\n",
      "374/374 [==============================] - 0s 1ms/step - loss: 0.4292 - accuracy: 0.7960\n",
      "Epoch 94/100\n",
      "374/374 [==============================] - 0s 1ms/step - loss: 0.4286 - accuracy: 0.7968\n",
      "Epoch 95/100\n",
      "374/374 [==============================] - 0s 1ms/step - loss: 0.4287 - accuracy: 0.7961\n",
      "Epoch 96/100\n",
      "374/374 [==============================] - 0s 1ms/step - loss: 0.4284 - accuracy: 0.7947\n",
      "Epoch 97/100\n",
      "374/374 [==============================] - 0s 1ms/step - loss: 0.4284 - accuracy: 0.7971\n",
      "Epoch 98/100\n",
      "374/374 [==============================] - 0s 1ms/step - loss: 0.4287 - accuracy: 0.7955\n",
      "Epoch 99/100\n",
      "374/374 [==============================] - 0s 1ms/step - loss: 0.4283 - accuracy: 0.7966\n",
      "Epoch 100/100\n",
      "374/374 [==============================] - 0s 1ms/step - loss: 0.4277 - accuracy: 0.7975\n",
      "\n",
      "125/125 [==============================] - 0s 978us/step - loss: 0.4439 - accuracy: 0.7936\n",
      "[0.44386574625968933, 0.7935710549354553]\n",
      "\n",
      "\n",
      "              precision    recall  f1-score   support\n",
      "\n",
      "           0       0.78      0.82      0.80      1991\n",
      "           1       0.81      0.76      0.79      1991\n",
      "\n",
      "    accuracy                           0.79      3982\n",
      "   macro avg       0.79      0.79      0.79      3982\n",
      "weighted avg       0.79      0.79      0.79      3982\n",
      "\n"
     ]
    }
   ],
   "source": [
    "xtrain,xtest,ytrain,ytest=train_test_split(x_sm,y_sm,test_size=0.25,random_state=15,stratify=y_sm)\n",
    "\n",
    "ypred=ANN(xtrain,xtest,ytrain,ytest,'binary_crossentropy',-1)"
   ]
  },
  {
   "cell_type": "code",
   "execution_count": null,
   "id": "bbc334b1",
   "metadata": {
    "papermill": {
     "duration": 0.207701,
     "end_time": "2022-11-07T10:56:52.405550",
     "exception": false,
     "start_time": "2022-11-07T10:56:52.197849",
     "status": "completed"
    },
    "tags": []
   },
   "outputs": [],
   "source": []
  }
 ],
 "metadata": {
  "kernelspec": {
   "display_name": "Python 3.10.4 64-bit",
   "language": "python",
   "name": "python3"
  },
  "language_info": {
   "codemirror_mode": {
    "name": "ipython",
    "version": 3
   },
   "file_extension": ".py",
   "mimetype": "text/x-python",
   "name": "python",
   "nbconvert_exporter": "python",
   "pygments_lexer": "ipython3",
   "version": "3.10.4"
  },
  "papermill": {
   "default_parameters": {},
   "duration": 173.24742,
   "end_time": "2022-11-07T10:56:55.734126",
   "environment_variables": {},
   "exception": null,
   "input_path": "__notebook__.ipynb",
   "output_path": "__notebook__.ipynb",
   "parameters": {},
   "start_time": "2022-11-07T10:54:02.486706",
   "version": "2.3.4"
  },
  "vscode": {
   "interpreter": {
    "hash": "26de051ba29f2982a8de78e945f0abaf191376122a1563185a90213a26c5da77"
   }
  }
 },
 "nbformat": 4,
 "nbformat_minor": 5
}
