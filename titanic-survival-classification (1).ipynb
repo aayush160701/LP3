{
 "cells": [
  {
   "cell_type": "code",
   "execution_count": 1,
   "id": "5196de2f",
   "metadata": {
    "_cell_guid": "b1076dfc-b9ad-4769-8c92-a6c4dae69d19",
    "_uuid": "8f2839f25d086af736a60e9eeb907d3b93b6e0e5",
    "execution": {
     "iopub.execute_input": "2022-11-10T05:00:52.644885Z",
     "iopub.status.busy": "2022-11-10T05:00:52.643864Z",
     "iopub.status.idle": "2022-11-10T05:00:54.013015Z",
     "shell.execute_reply": "2022-11-10T05:00:54.011930Z"
    },
    "papermill": {
     "duration": 1.390336,
     "end_time": "2022-11-10T05:00:54.015857",
     "exception": false,
     "start_time": "2022-11-10T05:00:52.625521",
     "status": "completed"
    },
    "tags": []
   },
   "outputs": [],
   "source": [
    "# Import the necessary libraries\n",
    "\n",
    "import numpy as np \n",
    "import pandas as pd \n",
    "import matplotlib.pyplot as plt\n",
    "import seaborn as sns\n",
    "sns.set_style('darkgrid')\n",
    "\n",
    "from sklearn.preprocessing import MinMaxScaler\n",
    "from sklearn.model_selection import train_test_split\n",
    "from sklearn.ensemble import RandomForestClassifier \n",
    "from sklearn.tree import DecisionTreeClassifier \n",
    "from sklearn.ensemble import GradientBoostingClassifier\n",
    "from sklearn.metrics import accuracy_score\n",
    "from sklearn.metrics import *\n",
    "from sklearn.metrics import confusion_matrix"
   ]
  },
  {
   "cell_type": "markdown",
   "id": "a3f57bb1",
   "metadata": {
    "papermill": {
     "duration": 0.016144,
     "end_time": "2022-11-10T05:00:54.046739",
     "exception": false,
     "start_time": "2022-11-10T05:00:54.030595",
     "status": "completed"
    },
    "tags": []
   },
   "source": [
    "There are two datasets available for the Titanic challenge, the \"train.csv\" and \"test.csv\", both containing passenger information. Below we will load both of them and print the first few observations."
   ]
  },
  {
   "cell_type": "markdown",
   "id": "28ef6704",
   "metadata": {
    "papermill": {
     "duration": 0.014219,
     "end_time": "2022-11-10T05:00:54.075398",
     "exception": false,
     "start_time": "2022-11-10T05:00:54.061179",
     "status": "completed"
    },
    "tags": []
   },
   "source": [
    "## 1. Load Data"
   ]
  },
  {
   "cell_type": "code",
   "execution_count": 2,
   "id": "f4ca9802",
   "metadata": {
    "execution": {
     "iopub.execute_input": "2022-11-10T05:00:54.117211Z",
     "iopub.status.busy": "2022-11-10T05:00:54.116473Z",
     "iopub.status.idle": "2022-11-10T05:00:54.168923Z",
     "shell.execute_reply": "2022-11-10T05:00:54.167498Z"
    },
    "papermill": {
     "duration": 0.080869,
     "end_time": "2022-11-10T05:00:54.172280",
     "exception": false,
     "start_time": "2022-11-10T05:00:54.091411",
     "status": "completed"
    },
    "tags": []
   },
   "outputs": [
    {
     "name": "stdout",
     "output_type": "stream",
     "text": [
      "(891, 12)\n"
     ]
    },
    {
     "data": {
      "text/html": [
       "<div>\n",
       "<style scoped>\n",
       "    .dataframe tbody tr th:only-of-type {\n",
       "        vertical-align: middle;\n",
       "    }\n",
       "\n",
       "    .dataframe tbody tr th {\n",
       "        vertical-align: top;\n",
       "    }\n",
       "\n",
       "    .dataframe thead th {\n",
       "        text-align: right;\n",
       "    }\n",
       "</style>\n",
       "<table border=\"1\" class=\"dataframe\">\n",
       "  <thead>\n",
       "    <tr style=\"text-align: right;\">\n",
       "      <th></th>\n",
       "      <th>PassengerId</th>\n",
       "      <th>Survived</th>\n",
       "      <th>Pclass</th>\n",
       "      <th>Name</th>\n",
       "      <th>Sex</th>\n",
       "      <th>Age</th>\n",
       "      <th>SibSp</th>\n",
       "      <th>Parch</th>\n",
       "      <th>Ticket</th>\n",
       "      <th>Fare</th>\n",
       "      <th>Cabin</th>\n",
       "      <th>Embarked</th>\n",
       "    </tr>\n",
       "  </thead>\n",
       "  <tbody>\n",
       "    <tr>\n",
       "      <th>0</th>\n",
       "      <td>1</td>\n",
       "      <td>0</td>\n",
       "      <td>3</td>\n",
       "      <td>Braund, Mr. Owen Harris</td>\n",
       "      <td>male</td>\n",
       "      <td>22.0</td>\n",
       "      <td>1</td>\n",
       "      <td>0</td>\n",
       "      <td>A/5 21171</td>\n",
       "      <td>7.2500</td>\n",
       "      <td>NaN</td>\n",
       "      <td>S</td>\n",
       "    </tr>\n",
       "    <tr>\n",
       "      <th>1</th>\n",
       "      <td>2</td>\n",
       "      <td>1</td>\n",
       "      <td>1</td>\n",
       "      <td>Cumings, Mrs. John Bradley (Florence Briggs Th...</td>\n",
       "      <td>female</td>\n",
       "      <td>38.0</td>\n",
       "      <td>1</td>\n",
       "      <td>0</td>\n",
       "      <td>PC 17599</td>\n",
       "      <td>71.2833</td>\n",
       "      <td>C85</td>\n",
       "      <td>C</td>\n",
       "    </tr>\n",
       "    <tr>\n",
       "      <th>2</th>\n",
       "      <td>3</td>\n",
       "      <td>1</td>\n",
       "      <td>3</td>\n",
       "      <td>Heikkinen, Miss. Laina</td>\n",
       "      <td>female</td>\n",
       "      <td>26.0</td>\n",
       "      <td>0</td>\n",
       "      <td>0</td>\n",
       "      <td>STON/O2. 3101282</td>\n",
       "      <td>7.9250</td>\n",
       "      <td>NaN</td>\n",
       "      <td>S</td>\n",
       "    </tr>\n",
       "  </tbody>\n",
       "</table>\n",
       "</div>"
      ],
      "text/plain": [
       "   PassengerId  Survived  Pclass  \\\n",
       "0            1         0       3   \n",
       "1            2         1       1   \n",
       "2            3         1       3   \n",
       "\n",
       "                                                Name     Sex   Age  SibSp  \\\n",
       "0                            Braund, Mr. Owen Harris    male  22.0      1   \n",
       "1  Cumings, Mrs. John Bradley (Florence Briggs Th...  female  38.0      1   \n",
       "2                             Heikkinen, Miss. Laina  female  26.0      0   \n",
       "\n",
       "   Parch            Ticket     Fare Cabin Embarked  \n",
       "0      0         A/5 21171   7.2500   NaN        S  \n",
       "1      0          PC 17599  71.2833   C85        C  \n",
       "2      0  STON/O2. 3101282   7.9250   NaN        S  "
      ]
     },
     "execution_count": 2,
     "metadata": {},
     "output_type": "execute_result"
    }
   ],
   "source": [
    "# Load train file\n",
    "train = pd.read_csv(\"../input/titanic/train.csv\")\n",
    "print(train.shape)\n",
    "train.head(3)"
   ]
  },
  {
   "cell_type": "code",
   "execution_count": 3,
   "id": "e0e20689",
   "metadata": {
    "execution": {
     "iopub.execute_input": "2022-11-10T05:00:54.207119Z",
     "iopub.status.busy": "2022-11-10T05:00:54.206261Z",
     "iopub.status.idle": "2022-11-10T05:00:54.233816Z",
     "shell.execute_reply": "2022-11-10T05:00:54.232397Z"
    },
    "papermill": {
     "duration": 0.047189,
     "end_time": "2022-11-10T05:00:54.236401",
     "exception": false,
     "start_time": "2022-11-10T05:00:54.189212",
     "status": "completed"
    },
    "tags": []
   },
   "outputs": [
    {
     "name": "stdout",
     "output_type": "stream",
     "text": [
      "(418, 11)\n"
     ]
    },
    {
     "data": {
      "text/html": [
       "<div>\n",
       "<style scoped>\n",
       "    .dataframe tbody tr th:only-of-type {\n",
       "        vertical-align: middle;\n",
       "    }\n",
       "\n",
       "    .dataframe tbody tr th {\n",
       "        vertical-align: top;\n",
       "    }\n",
       "\n",
       "    .dataframe thead th {\n",
       "        text-align: right;\n",
       "    }\n",
       "</style>\n",
       "<table border=\"1\" class=\"dataframe\">\n",
       "  <thead>\n",
       "    <tr style=\"text-align: right;\">\n",
       "      <th></th>\n",
       "      <th>PassengerId</th>\n",
       "      <th>Pclass</th>\n",
       "      <th>Name</th>\n",
       "      <th>Sex</th>\n",
       "      <th>Age</th>\n",
       "      <th>SibSp</th>\n",
       "      <th>Parch</th>\n",
       "      <th>Ticket</th>\n",
       "      <th>Fare</th>\n",
       "      <th>Cabin</th>\n",
       "      <th>Embarked</th>\n",
       "    </tr>\n",
       "  </thead>\n",
       "  <tbody>\n",
       "    <tr>\n",
       "      <th>0</th>\n",
       "      <td>892</td>\n",
       "      <td>3</td>\n",
       "      <td>Kelly, Mr. James</td>\n",
       "      <td>male</td>\n",
       "      <td>34.5</td>\n",
       "      <td>0</td>\n",
       "      <td>0</td>\n",
       "      <td>330911</td>\n",
       "      <td>7.8292</td>\n",
       "      <td>NaN</td>\n",
       "      <td>Q</td>\n",
       "    </tr>\n",
       "    <tr>\n",
       "      <th>1</th>\n",
       "      <td>893</td>\n",
       "      <td>3</td>\n",
       "      <td>Wilkes, Mrs. James (Ellen Needs)</td>\n",
       "      <td>female</td>\n",
       "      <td>47.0</td>\n",
       "      <td>1</td>\n",
       "      <td>0</td>\n",
       "      <td>363272</td>\n",
       "      <td>7.0000</td>\n",
       "      <td>NaN</td>\n",
       "      <td>S</td>\n",
       "    </tr>\n",
       "    <tr>\n",
       "      <th>2</th>\n",
       "      <td>894</td>\n",
       "      <td>2</td>\n",
       "      <td>Myles, Mr. Thomas Francis</td>\n",
       "      <td>male</td>\n",
       "      <td>62.0</td>\n",
       "      <td>0</td>\n",
       "      <td>0</td>\n",
       "      <td>240276</td>\n",
       "      <td>9.6875</td>\n",
       "      <td>NaN</td>\n",
       "      <td>Q</td>\n",
       "    </tr>\n",
       "  </tbody>\n",
       "</table>\n",
       "</div>"
      ],
      "text/plain": [
       "   PassengerId  Pclass                              Name     Sex   Age  SibSp  \\\n",
       "0          892       3                  Kelly, Mr. James    male  34.5      0   \n",
       "1          893       3  Wilkes, Mrs. James (Ellen Needs)  female  47.0      1   \n",
       "2          894       2         Myles, Mr. Thomas Francis    male  62.0      0   \n",
       "\n",
       "   Parch  Ticket    Fare Cabin Embarked  \n",
       "0      0  330911  7.8292   NaN        Q  \n",
       "1      0  363272  7.0000   NaN        S  \n",
       "2      0  240276  9.6875   NaN        Q  "
      ]
     },
     "execution_count": 3,
     "metadata": {},
     "output_type": "execute_result"
    }
   ],
   "source": [
    "# Load test file\n",
    "test = pd.read_csv(\"../input/titanic/test.csv\")\n",
    "print(test.shape)\n",
    "test.head(3)"
   ]
  },
  {
   "cell_type": "markdown",
   "id": "2b0321f2",
   "metadata": {
    "papermill": {
     "duration": 0.01576,
     "end_time": "2022-11-10T05:00:54.268066",
     "exception": false,
     "start_time": "2022-11-10T05:00:54.252306",
     "status": "completed"
    },
    "tags": []
   },
   "source": [
    "The train dataset contains 891 observations and 12 variables, including the target \"Survived\". The test dataset contains 418 observations and 11 variables.\n",
    "\n",
    "Next we will look at the variable types in the train dataset and check if there are any missing values."
   ]
  },
  {
   "cell_type": "code",
   "execution_count": 4,
   "id": "ab9d84a4",
   "metadata": {
    "execution": {
     "iopub.execute_input": "2022-11-10T05:00:54.301222Z",
     "iopub.status.busy": "2022-11-10T05:00:54.300363Z",
     "iopub.status.idle": "2022-11-10T05:00:54.326834Z",
     "shell.execute_reply": "2022-11-10T05:00:54.325147Z"
    },
    "papermill": {
     "duration": 0.045881,
     "end_time": "2022-11-10T05:00:54.329398",
     "exception": false,
     "start_time": "2022-11-10T05:00:54.283517",
     "status": "completed"
    },
    "tags": []
   },
   "outputs": [
    {
     "name": "stdout",
     "output_type": "stream",
     "text": [
      "<class 'pandas.core.frame.DataFrame'>\n",
      "RangeIndex: 891 entries, 0 to 890\n",
      "Data columns (total 12 columns):\n",
      " #   Column       Non-Null Count  Dtype  \n",
      "---  ------       --------------  -----  \n",
      " 0   PassengerId  891 non-null    int64  \n",
      " 1   Survived     891 non-null    int64  \n",
      " 2   Pclass       891 non-null    int64  \n",
      " 3   Name         891 non-null    object \n",
      " 4   Sex          891 non-null    object \n",
      " 5   Age          714 non-null    float64\n",
      " 6   SibSp        891 non-null    int64  \n",
      " 7   Parch        891 non-null    int64  \n",
      " 8   Ticket       891 non-null    object \n",
      " 9   Fare         891 non-null    float64\n",
      " 10  Cabin        204 non-null    object \n",
      " 11  Embarked     889 non-null    object \n",
      "dtypes: float64(2), int64(5), object(5)\n",
      "memory usage: 83.7+ KB\n"
     ]
    }
   ],
   "source": [
    "train.info()"
   ]
  },
  {
   "cell_type": "markdown",
   "id": "4fd11020",
   "metadata": {
    "papermill": {
     "duration": 0.015266,
     "end_time": "2022-11-10T05:00:54.361186",
     "exception": false,
     "start_time": "2022-11-10T05:00:54.345920",
     "status": "completed"
    },
    "tags": []
   },
   "source": [
    "Most of the variables are of type integer or float, just a few are categorical: Name, Sex, Ticket, Cabin and Embarket. The variables Age, Cabin and Embarked have missing values.\n",
    "\n",
    "Next are displayed the statistics on numerical variables for the train dataset."
   ]
  },
  {
   "cell_type": "code",
   "execution_count": 5,
   "id": "55a23fb0",
   "metadata": {
    "execution": {
     "iopub.execute_input": "2022-11-10T05:00:54.393772Z",
     "iopub.status.busy": "2022-11-10T05:00:54.393360Z",
     "iopub.status.idle": "2022-11-10T05:00:54.428393Z",
     "shell.execute_reply": "2022-11-10T05:00:54.427450Z"
    },
    "papermill": {
     "duration": 0.054368,
     "end_time": "2022-11-10T05:00:54.430904",
     "exception": false,
     "start_time": "2022-11-10T05:00:54.376536",
     "status": "completed"
    },
    "tags": []
   },
   "outputs": [
    {
     "data": {
      "text/html": [
       "<div>\n",
       "<style scoped>\n",
       "    .dataframe tbody tr th:only-of-type {\n",
       "        vertical-align: middle;\n",
       "    }\n",
       "\n",
       "    .dataframe tbody tr th {\n",
       "        vertical-align: top;\n",
       "    }\n",
       "\n",
       "    .dataframe thead th {\n",
       "        text-align: right;\n",
       "    }\n",
       "</style>\n",
       "<table border=\"1\" class=\"dataframe\">\n",
       "  <thead>\n",
       "    <tr style=\"text-align: right;\">\n",
       "      <th></th>\n",
       "      <th>PassengerId</th>\n",
       "      <th>Survived</th>\n",
       "      <th>Pclass</th>\n",
       "      <th>Age</th>\n",
       "      <th>SibSp</th>\n",
       "      <th>Parch</th>\n",
       "      <th>Fare</th>\n",
       "    </tr>\n",
       "  </thead>\n",
       "  <tbody>\n",
       "    <tr>\n",
       "      <th>count</th>\n",
       "      <td>891.000000</td>\n",
       "      <td>891.000000</td>\n",
       "      <td>891.000000</td>\n",
       "      <td>714.000000</td>\n",
       "      <td>891.000000</td>\n",
       "      <td>891.000000</td>\n",
       "      <td>891.000000</td>\n",
       "    </tr>\n",
       "    <tr>\n",
       "      <th>mean</th>\n",
       "      <td>446.000000</td>\n",
       "      <td>0.383838</td>\n",
       "      <td>2.308642</td>\n",
       "      <td>29.699118</td>\n",
       "      <td>0.523008</td>\n",
       "      <td>0.381594</td>\n",
       "      <td>32.204208</td>\n",
       "    </tr>\n",
       "    <tr>\n",
       "      <th>std</th>\n",
       "      <td>257.353842</td>\n",
       "      <td>0.486592</td>\n",
       "      <td>0.836071</td>\n",
       "      <td>14.526497</td>\n",
       "      <td>1.102743</td>\n",
       "      <td>0.806057</td>\n",
       "      <td>49.693429</td>\n",
       "    </tr>\n",
       "    <tr>\n",
       "      <th>min</th>\n",
       "      <td>1.000000</td>\n",
       "      <td>0.000000</td>\n",
       "      <td>1.000000</td>\n",
       "      <td>0.420000</td>\n",
       "      <td>0.000000</td>\n",
       "      <td>0.000000</td>\n",
       "      <td>0.000000</td>\n",
       "    </tr>\n",
       "    <tr>\n",
       "      <th>25%</th>\n",
       "      <td>223.500000</td>\n",
       "      <td>0.000000</td>\n",
       "      <td>2.000000</td>\n",
       "      <td>20.125000</td>\n",
       "      <td>0.000000</td>\n",
       "      <td>0.000000</td>\n",
       "      <td>7.910400</td>\n",
       "    </tr>\n",
       "    <tr>\n",
       "      <th>50%</th>\n",
       "      <td>446.000000</td>\n",
       "      <td>0.000000</td>\n",
       "      <td>3.000000</td>\n",
       "      <td>28.000000</td>\n",
       "      <td>0.000000</td>\n",
       "      <td>0.000000</td>\n",
       "      <td>14.454200</td>\n",
       "    </tr>\n",
       "    <tr>\n",
       "      <th>75%</th>\n",
       "      <td>668.500000</td>\n",
       "      <td>1.000000</td>\n",
       "      <td>3.000000</td>\n",
       "      <td>38.000000</td>\n",
       "      <td>1.000000</td>\n",
       "      <td>0.000000</td>\n",
       "      <td>31.000000</td>\n",
       "    </tr>\n",
       "    <tr>\n",
       "      <th>max</th>\n",
       "      <td>891.000000</td>\n",
       "      <td>1.000000</td>\n",
       "      <td>3.000000</td>\n",
       "      <td>80.000000</td>\n",
       "      <td>8.000000</td>\n",
       "      <td>6.000000</td>\n",
       "      <td>512.329200</td>\n",
       "    </tr>\n",
       "  </tbody>\n",
       "</table>\n",
       "</div>"
      ],
      "text/plain": [
       "       PassengerId    Survived      Pclass         Age       SibSp  \\\n",
       "count   891.000000  891.000000  891.000000  714.000000  891.000000   \n",
       "mean    446.000000    0.383838    2.308642   29.699118    0.523008   \n",
       "std     257.353842    0.486592    0.836071   14.526497    1.102743   \n",
       "min       1.000000    0.000000    1.000000    0.420000    0.000000   \n",
       "25%     223.500000    0.000000    2.000000   20.125000    0.000000   \n",
       "50%     446.000000    0.000000    3.000000   28.000000    0.000000   \n",
       "75%     668.500000    1.000000    3.000000   38.000000    1.000000   \n",
       "max     891.000000    1.000000    3.000000   80.000000    8.000000   \n",
       "\n",
       "            Parch        Fare  \n",
       "count  891.000000  891.000000  \n",
       "mean     0.381594   32.204208  \n",
       "std      0.806057   49.693429  \n",
       "min      0.000000    0.000000  \n",
       "25%      0.000000    7.910400  \n",
       "50%      0.000000   14.454200  \n",
       "75%      0.000000   31.000000  \n",
       "max      6.000000  512.329200  "
      ]
     },
     "execution_count": 5,
     "metadata": {},
     "output_type": "execute_result"
    }
   ],
   "source": [
    "train.describe()"
   ]
  },
  {
   "cell_type": "markdown",
   "id": "ab3dd0df",
   "metadata": {
    "papermill": {
     "duration": 0.016338,
     "end_time": "2022-11-10T05:00:54.463615",
     "exception": false,
     "start_time": "2022-11-10T05:00:54.447277",
     "status": "completed"
    },
    "tags": []
   },
   "source": [
    "The mean value for Age is 29.7, and the maximum is 80 years old. The mean and median values for age are slightly different which is a sign of skewed distribution.\n",
    "\n",
    "SibSp is the number of siblings and spouses for a passenger. The average value is 0.52, so almost half of the passengers traveled without siblings or spouses.\n",
    "\n",
    "Parch is the number of parents and children traveling with a passenger. The mean value is 0.38, so almost 75% of the passengers did not travel with a parent and/or a child.\n",
    "\n",
    "For Fare, the average price paid for a ticket was £32.20 and the maximum price was £512. The quartiles are shown, and it can be noted that the value for the upper interquartile range (IQR) is £31.00, which is much higher than the lower IQR of £7.91. This indicates a highly skewed distribution for Fare. Also, it can be noted that 75% of the passengers paid less than £31.00 for a ticket."
   ]
  },
  {
   "cell_type": "markdown",
   "id": "4d2a6701",
   "metadata": {
    "papermill": {
     "duration": 0.019147,
     "end_time": "2022-11-10T05:00:54.499210",
     "exception": false,
     "start_time": "2022-11-10T05:00:54.480063",
     "status": "completed"
    },
    "tags": []
   },
   "source": [
    "## 2. Exploratory Data Analysis\n",
    "\n",
    "Using visualizations we will try to find relationships between the independent variables and the target."
   ]
  },
  {
   "cell_type": "markdown",
   "id": "446b133c",
   "metadata": {
    "papermill": {
     "duration": 0.01883,
     "end_time": "2022-11-10T05:00:54.536446",
     "exception": false,
     "start_time": "2022-11-10T05:00:54.517616",
     "status": "completed"
    },
    "tags": []
   },
   "source": [
    "### 2.1 Survived\n",
    "\n",
    "The target \"Survived\" contains Boolean values corresponding to people who survived (1) and people who did not survive (0). The plot below shows the counts of observations in each categorical bin."
   ]
  },
  {
   "cell_type": "code",
   "execution_count": 6,
   "id": "36a37714",
   "metadata": {
    "execution": {
     "iopub.execute_input": "2022-11-10T05:00:54.572520Z",
     "iopub.status.busy": "2022-11-10T05:00:54.572070Z",
     "iopub.status.idle": "2022-11-10T05:00:54.821199Z",
     "shell.execute_reply": "2022-11-10T05:00:54.820006Z"
    },
    "papermill": {
     "duration": 0.269717,
     "end_time": "2022-11-10T05:00:54.823759",
     "exception": false,
     "start_time": "2022-11-10T05:00:54.554042",
     "status": "completed"
    },
    "tags": []
   },
   "outputs": [
    {
     "data": {
      "text/plain": [
       "<AxesSubplot:xlabel='Survived', ylabel='count'>"
      ]
     },
     "execution_count": 6,
     "metadata": {},
     "output_type": "execute_result"
    },
    {
     "data": {
      "image/png": "[encoded data removed]",
      "text/plain": [
       "<Figure size 432x288 with 1 Axes>"
      ]
     },
     "metadata": {},
     "output_type": "display_data"
    }
   ],
   "source": [
    "# Countplot of Survived\n",
    "sns.countplot(x=train[\"Survived\"], palette=\"Set2\")"
   ]
  },
  {
   "cell_type": "markdown",
   "id": "1f613ffc",
   "metadata": {
    "papermill": {
     "duration": 0.015876,
     "end_time": "2022-11-10T05:00:54.855356",
     "exception": false,
     "start_time": "2022-11-10T05:00:54.839480",
     "status": "completed"
    },
    "tags": []
   },
   "source": [
    "It can be noted that the number of people which survived the Titanic is only a little over 300, comparing with more than 500 who died."
   ]
  },
  {
   "cell_type": "markdown",
   "id": "b7c9d652",
   "metadata": {
    "papermill": {
     "duration": 0.015311,
     "end_time": "2022-11-10T05:00:54.886419",
     "exception": false,
     "start_time": "2022-11-10T05:00:54.871108",
     "status": "completed"
    },
    "tags": []
   },
   "source": [
    "### 2.2 Survival rate by Sex\n",
    "\n",
    "Below are displayed the count of survivors and the survival rate by variable Sex."
   ]
  },
  {
   "cell_type": "code",
   "execution_count": 7,
   "id": "a4e5686d",
   "metadata": {
    "execution": {
     "iopub.execute_input": "2022-11-10T05:00:54.919940Z",
     "iopub.status.busy": "2022-11-10T05:00:54.919238Z",
     "iopub.status.idle": "2022-11-10T05:00:55.158736Z",
     "shell.execute_reply": "2022-11-10T05:00:55.157665Z"
    },
    "papermill": {
     "duration": 0.259521,
     "end_time": "2022-11-10T05:00:55.161557",
     "exception": false,
     "start_time": "2022-11-10T05:00:54.902036",
     "status": "completed"
    },
    "tags": []
   },
   "outputs": [
    {
     "data": {
      "text/plain": [
       "<AxesSubplot:xlabel='Sex', ylabel='count'>"
      ]
     },
     "execution_count": 7,
     "metadata": {},
     "output_type": "execute_result"
    },
    {
     "data": {
      "image/png": "[encoded data removed]",
      "text/plain": [
       "<Figure size 432x288 with 1 Axes>"
      ]
     },
     "metadata": {},
     "output_type": "display_data"
    }
   ],
   "source": [
    "# Barplot of Survived by Sex\n",
    "sns.countplot(data=train, x=\"Sex\", hue=\"Survived\", palette=\"Set2\")"
   ]
  },
  {
   "cell_type": "markdown",
   "id": "86cc55bb",
   "metadata": {
    "papermill": {
     "duration": 0.016966,
     "end_time": "2022-11-10T05:00:55.196669",
     "exception": false,
     "start_time": "2022-11-10T05:00:55.179703",
     "status": "completed"
    },
    "tags": []
   },
   "source": [
    "We can see that women were more likely to survive than men. More than 400 men did not survive. "
   ]
  },
  {
   "cell_type": "code",
   "execution_count": 8,
   "id": "1635546a",
   "metadata": {
    "execution": {
     "iopub.execute_input": "2022-11-10T05:00:55.233076Z",
     "iopub.status.busy": "2022-11-10T05:00:55.231943Z",
     "iopub.status.idle": "2022-11-10T05:00:55.250497Z",
     "shell.execute_reply": "2022-11-10T05:00:55.249154Z"
    },
    "papermill": {
     "duration": 0.039339,
     "end_time": "2022-11-10T05:00:55.253109",
     "exception": false,
     "start_time": "2022-11-10T05:00:55.213770",
     "status": "completed"
    },
    "tags": []
   },
   "outputs": [
    {
     "data": {
      "text/html": [
       "<div>\n",
       "<style scoped>\n",
       "    .dataframe tbody tr th:only-of-type {\n",
       "        vertical-align: middle;\n",
       "    }\n",
       "\n",
       "    .dataframe tbody tr th {\n",
       "        vertical-align: top;\n",
       "    }\n",
       "\n",
       "    .dataframe thead th {\n",
       "        text-align: right;\n",
       "    }\n",
       "</style>\n",
       "<table border=\"1\" class=\"dataframe\">\n",
       "  <thead>\n",
       "    <tr style=\"text-align: right;\">\n",
       "      <th></th>\n",
       "      <th>Survived</th>\n",
       "    </tr>\n",
       "    <tr>\n",
       "      <th>Sex</th>\n",
       "      <th></th>\n",
       "    </tr>\n",
       "  </thead>\n",
       "  <tbody>\n",
       "    <tr>\n",
       "      <th>female</th>\n",
       "      <td>0.742038</td>\n",
       "    </tr>\n",
       "    <tr>\n",
       "      <th>male</th>\n",
       "      <td>0.188908</td>\n",
       "    </tr>\n",
       "  </tbody>\n",
       "</table>\n",
       "</div>"
      ],
      "text/plain": [
       "        Survived\n",
       "Sex             \n",
       "female  0.742038\n",
       "male    0.188908"
      ]
     },
     "execution_count": 8,
     "metadata": {},
     "output_type": "execute_result"
    }
   ],
   "source": [
    "# Survival rate by Sex\n",
    "train.groupby(\"Sex\")[[\"Survived\"]].mean()"
   ]
  },
  {
   "cell_type": "markdown",
   "id": "292d7987",
   "metadata": {
    "papermill": {
     "duration": 0.016797,
     "end_time": "2022-11-10T05:00:55.286621",
     "exception": false,
     "start_time": "2022-11-10T05:00:55.269824",
     "status": "completed"
    },
    "tags": []
   },
   "source": [
    "The survival rate by sex shows a rate of 74% for women, comparing with only 18.9% survival rate for men."
   ]
  },
  {
   "cell_type": "markdown",
   "id": "3b65bd57",
   "metadata": {
    "papermill": {
     "duration": 0.016322,
     "end_time": "2022-11-10T05:00:55.319576",
     "exception": false,
     "start_time": "2022-11-10T05:00:55.303254",
     "status": "completed"
    },
    "tags": []
   },
   "source": [
    "### 2.3 Survival rate by Pclass\n",
    "\n",
    "There were three classes on Titanic. The plot below displayes the survival rate for each of them."
   ]
  },
  {
   "cell_type": "code",
   "execution_count": 9,
   "id": "55b6790f",
   "metadata": {
    "execution": {
     "iopub.execute_input": "2022-11-10T05:00:55.355619Z",
     "iopub.status.busy": "2022-11-10T05:00:55.355186Z",
     "iopub.status.idle": "2022-11-10T05:00:55.675311Z",
     "shell.execute_reply": "2022-11-10T05:00:55.674082Z"
    },
    "papermill": {
     "duration": 0.342001,
     "end_time": "2022-11-10T05:00:55.678211",
     "exception": false,
     "start_time": "2022-11-10T05:00:55.336210",
     "status": "completed"
    },
    "tags": []
   },
   "outputs": [
    {
     "data": {
      "text/plain": [
       "<AxesSubplot:xlabel='Pclass', ylabel='Survived'>"
      ]
     },
     "execution_count": 9,
     "metadata": {},
     "output_type": "execute_result"
    },
    {
     "data": {
      "image/png": "[encoded data removed]",
      "text/plain": [
       "<Figure size 432x288 with 1 Axes>"
      ]
     },
     "metadata": {},
     "output_type": "display_data"
    }
   ],
   "source": [
    "# Plot the survival rate of each class\n",
    "sns.barplot(data=train, x=\"Pclass\", y=\"Survived\", palette=\"Set2\")"
   ]
  },
  {
   "cell_type": "markdown",
   "id": "111d30be",
   "metadata": {
    "papermill": {
     "duration": 0.016393,
     "end_time": "2022-11-10T05:00:55.712862",
     "exception": false,
     "start_time": "2022-11-10T05:00:55.696469",
     "status": "completed"
    },
    "tags": []
   },
   "source": [
    "For passengers in the first class the survival rate was more than 60%, while for passengers in the third class was less than 30%. Second class passangers have a more balanced survival rate. The survival rate for the third class, was the lowest from all classes."
   ]
  },
  {
   "cell_type": "markdown",
   "id": "7fc59ef7",
   "metadata": {
    "papermill": {
     "duration": 0.016317,
     "end_time": "2022-11-10T05:00:55.746281",
     "exception": false,
     "start_time": "2022-11-10T05:00:55.729964",
     "status": "completed"
    },
    "tags": []
   },
   "source": [
    "### 2.4 Survival rate by Sex and Pclass\n",
    "\n",
    "Below it is displayed the pivot table of survival rate by sex and class."
   ]
  },
  {
   "cell_type": "code",
   "execution_count": 10,
   "id": "66ba2b32",
   "metadata": {
    "execution": {
     "iopub.execute_input": "2022-11-10T05:00:55.781586Z",
     "iopub.status.busy": "2022-11-10T05:00:55.781117Z",
     "iopub.status.idle": "2022-11-10T05:00:55.807221Z",
     "shell.execute_reply": "2022-11-10T05:00:55.806224Z"
    },
    "papermill": {
     "duration": 0.046785,
     "end_time": "2022-11-10T05:00:55.809765",
     "exception": false,
     "start_time": "2022-11-10T05:00:55.762980",
     "status": "completed"
    },
    "tags": []
   },
   "outputs": [
    {
     "data": {
      "text/html": [
       "<div>\n",
       "<style scoped>\n",
       "    .dataframe tbody tr th:only-of-type {\n",
       "        vertical-align: middle;\n",
       "    }\n",
       "\n",
       "    .dataframe tbody tr th {\n",
       "        vertical-align: top;\n",
       "    }\n",
       "\n",
       "    .dataframe thead th {\n",
       "        text-align: right;\n",
       "    }\n",
       "</style>\n",
       "<table border=\"1\" class=\"dataframe\">\n",
       "  <thead>\n",
       "    <tr style=\"text-align: right;\">\n",
       "      <th>Pclass</th>\n",
       "      <th>1</th>\n",
       "      <th>2</th>\n",
       "      <th>3</th>\n",
       "    </tr>\n",
       "    <tr>\n",
       "      <th>Sex</th>\n",
       "      <th></th>\n",
       "      <th></th>\n",
       "      <th></th>\n",
       "    </tr>\n",
       "  </thead>\n",
       "  <tbody>\n",
       "    <tr>\n",
       "      <th>female</th>\n",
       "      <td>0.968085</td>\n",
       "      <td>0.921053</td>\n",
       "      <td>0.500000</td>\n",
       "    </tr>\n",
       "    <tr>\n",
       "      <th>male</th>\n",
       "      <td>0.368852</td>\n",
       "      <td>0.157407</td>\n",
       "      <td>0.135447</td>\n",
       "    </tr>\n",
       "  </tbody>\n",
       "</table>\n",
       "</div>"
      ],
      "text/plain": [
       "Pclass         1         2         3\n",
       "Sex                                 \n",
       "female  0.968085  0.921053  0.500000\n",
       "male    0.368852  0.157407  0.135447"
      ]
     },
     "execution_count": 10,
     "metadata": {},
     "output_type": "execute_result"
    }
   ],
   "source": [
    "# Survival rate by sex and class\n",
    "train.pivot_table(\"Survived\", index=\"Sex\", columns=\"Pclass\")"
   ]
  },
  {
   "cell_type": "markdown",
   "id": "a0042b1c",
   "metadata": {
    "papermill": {
     "duration": 0.01636,
     "end_time": "2022-11-10T05:00:55.843140",
     "exception": false,
     "start_time": "2022-11-10T05:00:55.826780",
     "status": "completed"
    },
    "tags": []
   },
   "source": [
    "We can observe that women have a higher survival rate for all classes comparing with men. Also, women in first class have a 96.8 survival rate, the highest of all. In general, the first class has the highest survival rate for both women and men. Men’s highest survival rate of 36.8 is still lower than the lowest survival rate for women, which is 50.0 for the third class. Men in third class have a 13.5 survival rate, the lowest of all. In general, the survival chances for men are very low on Titanic."
   ]
  },
  {
   "cell_type": "markdown",
   "id": "986b4832",
   "metadata": {
    "papermill": {
     "duration": 0.016211,
     "end_time": "2022-11-10T05:00:55.876051",
     "exception": false,
     "start_time": "2022-11-10T05:00:55.859840",
     "status": "completed"
    },
    "tags": []
   },
   "source": [
    "### 2.5 Survival rate by SibSp, Parch and Embarked\n",
    "\n",
    "Next we visualize the count of survivors by variables SibSp, Parch and Embarked."
   ]
  },
  {
   "cell_type": "code",
   "execution_count": 11,
   "id": "13b93c39",
   "metadata": {
    "execution": {
     "iopub.execute_input": "2022-11-10T05:00:55.913108Z",
     "iopub.status.busy": "2022-11-10T05:00:55.912220Z",
     "iopub.status.idle": "2022-11-10T05:00:56.618068Z",
     "shell.execute_reply": "2022-11-10T05:00:56.616765Z"
    },
    "papermill": {
     "duration": 0.728214,
     "end_time": "2022-11-10T05:00:56.620881",
     "exception": false,
     "start_time": "2022-11-10T05:00:55.892667",
     "status": "completed"
    },
    "tags": []
   },
   "outputs": [
    {
     "data": {
      "image/png": "[encoded data removed]",
      "text/plain": [
       "<Figure size 1008x288 with 3 Axes>"
      ]
     },
     "metadata": {},
     "output_type": "display_data"
    }
   ],
   "source": [
    "# Plot the survival rate by SibSp, Parch and Embarked\n",
    "\n",
    "# Make a list of columns\n",
    "cols = [\"SibSp\", \"Parch\", \"Embarked\"]\n",
    "\n",
    "fig = plt.figure(figsize=(14,4))\n",
    "n_rows = 1\n",
    "n_cols = 3\n",
    "for i in range (len(cols)):\n",
    "    column = cols[i]\n",
    "    sub = fig.add_subplot(n_rows, n_cols, i+1)\n",
    "    chart = sns.countplot(data=train, x=column, hue=\"Survived\", palette=\"Set2\")"
   ]
  },
  {
   "cell_type": "markdown",
   "id": "38043ebe",
   "metadata": {
    "papermill": {
     "duration": 0.017996,
     "end_time": "2022-11-10T05:00:56.658483",
     "exception": false,
     "start_time": "2022-11-10T05:00:56.640487",
     "status": "completed"
    },
    "tags": []
   },
   "source": [
    "It can be noted that passengers that came alone, with no siblings or spouses were not likely to survive - about 400 passengers. Similar, we can see from the second plot that more than 400 passengers who did not have a parent or a child with them did not survive the Titanic. The third plot shows that passengers embarked from Southampton (S) were less likely to survive, while over half of the passengers departing from Queeenstown (Q) survived the accident."
   ]
  },
  {
   "cell_type": "markdown",
   "id": "5176a337",
   "metadata": {
    "papermill": {
     "duration": 0.018053,
     "end_time": "2022-11-10T05:00:56.695045",
     "exception": false,
     "start_time": "2022-11-10T05:00:56.676992",
     "status": "completed"
    },
    "tags": []
   },
   "source": [
    "### 2.6 Survived by Fare and Pclass\n",
    "\n",
    "The plot below shows the prices paid for each class."
   ]
  },
  {
   "cell_type": "code",
   "execution_count": 12,
   "id": "d28d1706",
   "metadata": {
    "execution": {
     "iopub.execute_input": "2022-11-10T05:00:56.734684Z",
     "iopub.status.busy": "2022-11-10T05:00:56.733879Z",
     "iopub.status.idle": "2022-11-10T05:00:56.988384Z",
     "shell.execute_reply": "2022-11-10T05:00:56.987426Z"
    },
    "papermill": {
     "duration": 0.277176,
     "end_time": "2022-11-10T05:00:56.990912",
     "exception": false,
     "start_time": "2022-11-10T05:00:56.713736",
     "status": "completed"
    },
    "tags": []
   },
   "outputs": [
    {
     "data": {
      "image/png": "[encoded data removed]",
      "text/plain": [
       "<Figure size 432x288 with 1 Axes>"
      ]
     },
     "metadata": {},
     "output_type": "display_data"
    }
   ],
   "source": [
    "# Plot the prices paid for each class\n",
    "plt.scatter(train[\"Fare\"], train[\"Pclass\"], color=\"green\", label=\"Passanger paid\")\n",
    "plt.ylabel(\"Pclass\")\n",
    "plt.xlabel(\"Price/Fare\")\n",
    "plt.title(\"Price of each class\")\n",
    "plt.legend()\n",
    "plt.show()"
   ]
  },
  {
   "cell_type": "markdown",
   "id": "cd95d18c",
   "metadata": {
    "papermill": {
     "duration": 0.019592,
     "end_time": "2022-11-10T05:00:57.030268",
     "exception": false,
     "start_time": "2022-11-10T05:00:57.010676",
     "status": "completed"
    },
    "tags": []
   },
   "source": [
    "We can see that most passengers paid less than £100 for traveling with the Titanic. There were passengers who paid more than £500 for the first class, but there were also some that paid little for their ticket. In general, anybody who paid £100, or more was in the first class.\n",
    "\n",
    "The plot below shows the Survived by Fare."
   ]
  },
  {
   "cell_type": "code",
   "execution_count": 13,
   "id": "65225213",
   "metadata": {
    "execution": {
     "iopub.execute_input": "2022-11-10T05:00:57.073195Z",
     "iopub.status.busy": "2022-11-10T05:00:57.072395Z",
     "iopub.status.idle": "2022-11-10T05:00:57.347148Z",
     "shell.execute_reply": "2022-11-10T05:00:57.346238Z"
    },
    "papermill": {
     "duration": 0.29936,
     "end_time": "2022-11-10T05:00:57.349863",
     "exception": false,
     "start_time": "2022-11-10T05:00:57.050503",
     "status": "completed"
    },
    "tags": []
   },
   "outputs": [
    {
     "data": {
      "text/plain": [
       "<AxesSubplot:xlabel='Survived', ylabel='Fare'>"
      ]
     },
     "execution_count": 13,
     "metadata": {},
     "output_type": "execute_result"
    },
    {
     "data": {
      "image/png": "[encoded data removed]",
      "text/plain": [
       "<Figure size 432x288 with 1 Axes>"
      ]
     },
     "metadata": {},
     "output_type": "display_data"
    }
   ],
   "source": [
    "# Plot Survived by Fare\n",
    "sns.boxplot(data=train, x=\"Survived\", y=\"Fare\", hue=\"Survived\", palette=\"Set2\") "
   ]
  },
  {
   "cell_type": "markdown",
   "id": "fdfe760d",
   "metadata": {
    "papermill": {
     "duration": 0.018697,
     "end_time": "2022-11-10T05:00:57.388006",
     "exception": false,
     "start_time": "2022-11-10T05:00:57.369309",
     "status": "completed"
    },
    "tags": []
   },
   "source": [
    "It can be noted that passengers who paid less than £50 were less likely to survive. Those who paid more, had a higher chance of surviving."
   ]
  },
  {
   "cell_type": "markdown",
   "id": "d5ea85fa",
   "metadata": {
    "papermill": {
     "duration": 0.018689,
     "end_time": "2022-11-10T05:00:57.425892",
     "exception": false,
     "start_time": "2022-11-10T05:00:57.407203",
     "status": "completed"
    },
    "tags": []
   },
   "source": [
    "### 2.7 Survived by Age, Sex and Pclass\n",
    "\n",
    "Below it is displayed a pivot table for the survival rate by Age, Sex and Pclass. For the variable Age are created bins between 0 and 80, the minimum and maximum age values recorded on Titanic.  "
   ]
  },
  {
   "cell_type": "code",
   "execution_count": 14,
   "id": "69f7ac6b",
   "metadata": {
    "execution": {
     "iopub.execute_input": "2022-11-10T05:00:57.466038Z",
     "iopub.status.busy": "2022-11-10T05:00:57.464994Z",
     "iopub.status.idle": "2022-11-10T05:00:57.502890Z",
     "shell.execute_reply": "2022-11-10T05:00:57.501951Z"
    },
    "papermill": {
     "duration": 0.060323,
     "end_time": "2022-11-10T05:00:57.505285",
     "exception": false,
     "start_time": "2022-11-10T05:00:57.444962",
     "status": "completed"
    },
    "tags": []
   },
   "outputs": [
    {
     "data": {
      "text/html": [
       "<div>\n",
       "<style scoped>\n",
       "    .dataframe tbody tr th:only-of-type {\n",
       "        vertical-align: middle;\n",
       "    }\n",
       "\n",
       "    .dataframe tbody tr th {\n",
       "        vertical-align: top;\n",
       "    }\n",
       "\n",
       "    .dataframe thead th {\n",
       "        text-align: right;\n",
       "    }\n",
       "</style>\n",
       "<table border=\"1\" class=\"dataframe\">\n",
       "  <thead>\n",
       "    <tr style=\"text-align: right;\">\n",
       "      <th></th>\n",
       "      <th>Pclass</th>\n",
       "      <th>1</th>\n",
       "      <th>2</th>\n",
       "      <th>3</th>\n",
       "    </tr>\n",
       "    <tr>\n",
       "      <th>Sex</th>\n",
       "      <th>Age</th>\n",
       "      <th></th>\n",
       "      <th></th>\n",
       "      <th></th>\n",
       "    </tr>\n",
       "  </thead>\n",
       "  <tbody>\n",
       "    <tr>\n",
       "      <th rowspan=\"2\" valign=\"top\">female</th>\n",
       "      <th>(0, 18]</th>\n",
       "      <td>0.909091</td>\n",
       "      <td>1.000000</td>\n",
       "      <td>0.511628</td>\n",
       "    </tr>\n",
       "    <tr>\n",
       "      <th>(18, 80]</th>\n",
       "      <td>0.972973</td>\n",
       "      <td>0.900000</td>\n",
       "      <td>0.423729</td>\n",
       "    </tr>\n",
       "    <tr>\n",
       "      <th rowspan=\"2\" valign=\"top\">male</th>\n",
       "      <th>(0, 18]</th>\n",
       "      <td>0.800000</td>\n",
       "      <td>0.600000</td>\n",
       "      <td>0.215686</td>\n",
       "    </tr>\n",
       "    <tr>\n",
       "      <th>(18, 80]</th>\n",
       "      <td>0.375000</td>\n",
       "      <td>0.071429</td>\n",
       "      <td>0.133663</td>\n",
       "    </tr>\n",
       "  </tbody>\n",
       "</table>\n",
       "</div>"
      ],
      "text/plain": [
       "Pclass                  1         2         3\n",
       "Sex    Age                                   \n",
       "female (0, 18]   0.909091  1.000000  0.511628\n",
       "       (18, 80]  0.972973  0.900000  0.423729\n",
       "male   (0, 18]   0.800000  0.600000  0.215686\n",
       "       (18, 80]  0.375000  0.071429  0.133663"
      ]
     },
     "execution_count": 14,
     "metadata": {},
     "output_type": "execute_result"
    }
   ],
   "source": [
    "# Survival rate by age, sex and class\n",
    "age = pd.cut(train[\"Age\"], [0, 18, 80])     \n",
    "train.pivot_table(\"Survived\", [\"Sex\", age], \"Pclass\")"
   ]
  },
  {
   "cell_type": "markdown",
   "id": "ffdc8043",
   "metadata": {
    "papermill": {
     "duration": 0.018955,
     "end_time": "2022-11-10T05:00:57.543010",
     "exception": false,
     "start_time": "2022-11-10T05:00:57.524055",
     "status": "completed"
    },
    "tags": []
   },
   "source": [
    "The best survival rate of 97% had women over 18 years old comparing with anyone else. In contrast, the worst survival rate had men over 18 in the second class with a survival rate of 7.14%. First class men had a survival rate of 80%, the highest for men from all classes. Men under 18, had better chances of survival for all three classes. In general, we can say that the best survival rate was for the first class and young people, both women and men."
   ]
  },
  {
   "cell_type": "markdown",
   "id": "28dd3c39",
   "metadata": {
    "papermill": {
     "duration": 0.018551,
     "end_time": "2022-11-10T05:00:57.580404",
     "exception": false,
     "start_time": "2022-11-10T05:00:57.561853",
     "status": "completed"
    },
    "tags": []
   },
   "source": [
    "## 3. Data Cleaning\n",
    "\n",
    "The Exploratory Data Analysis highlighted relationships between the independent variables and the target. Next, the data is prepared before building the classification models. Cleaning the data includes imputing missing values, binning, replacing categories with numeric and scaling the data.\n",
    "\n",
    "In the train dataset the variables Age, Cabin and Embarked have missing values. Below it is displayed the count for both train and test datasets."
   ]
  },
  {
   "cell_type": "code",
   "execution_count": 15,
   "id": "dc3ce591",
   "metadata": {
    "execution": {
     "iopub.execute_input": "2022-11-10T05:00:57.620220Z",
     "iopub.status.busy": "2022-11-10T05:00:57.619705Z",
     "iopub.status.idle": "2022-11-10T05:00:57.631005Z",
     "shell.execute_reply": "2022-11-10T05:00:57.629510Z"
    },
    "papermill": {
     "duration": 0.034372,
     "end_time": "2022-11-10T05:00:57.633510",
     "exception": false,
     "start_time": "2022-11-10T05:00:57.599138",
     "status": "completed"
    },
    "tags": []
   },
   "outputs": [
    {
     "data": {
      "text/plain": [
       "PassengerId      0\n",
       "Survived         0\n",
       "Pclass           0\n",
       "Name             0\n",
       "Sex              0\n",
       "Age            177\n",
       "SibSp            0\n",
       "Parch            0\n",
       "Ticket           0\n",
       "Fare             0\n",
       "Cabin          687\n",
       "Embarked         2\n",
       "dtype: int64"
      ]
     },
     "execution_count": 15,
     "metadata": {},
     "output_type": "execute_result"
    }
   ],
   "source": [
    "# Check missing values for train dataset\n",
    "train.isnull().sum()"
   ]
  },
  {
   "cell_type": "code",
   "execution_count": 16,
   "id": "04c7a525",
   "metadata": {
    "execution": {
     "iopub.execute_input": "2022-11-10T05:00:57.674400Z",
     "iopub.status.busy": "2022-11-10T05:00:57.673888Z",
     "iopub.status.idle": "2022-11-10T05:00:57.685140Z",
     "shell.execute_reply": "2022-11-10T05:00:57.683852Z"
    },
    "papermill": {
     "duration": 0.034548,
     "end_time": "2022-11-10T05:00:57.687591",
     "exception": false,
     "start_time": "2022-11-10T05:00:57.653043",
     "status": "completed"
    },
    "tags": []
   },
   "outputs": [
    {
     "data": {
      "text/plain": [
       "PassengerId      0\n",
       "Pclass           0\n",
       "Name             0\n",
       "Sex              0\n",
       "Age             86\n",
       "SibSp            0\n",
       "Parch            0\n",
       "Ticket           0\n",
       "Fare             1\n",
       "Cabin          327\n",
       "Embarked         0\n",
       "dtype: int64"
      ]
     },
     "execution_count": 16,
     "metadata": {},
     "output_type": "execute_result"
    }
   ],
   "source": [
    "# Check missing values for test dataset\n",
    "test.isnull().sum()"
   ]
  },
  {
   "cell_type": "markdown",
   "id": "889091a6",
   "metadata": {
    "papermill": {
     "duration": 0.018381,
     "end_time": "2022-11-10T05:00:57.724767",
     "exception": false,
     "start_time": "2022-11-10T05:00:57.706386",
     "status": "completed"
    },
    "tags": []
   },
   "source": [
    "The variable Cabin has too many missing values in both train and test datasets, so we will drop the column. For the variables Age, Embarked and Fare the missing values will be imputed."
   ]
  },
  {
   "cell_type": "markdown",
   "id": "d004cdbb",
   "metadata": {
    "papermill": {
     "duration": 0.018272,
     "end_time": "2022-11-10T05:00:57.761909",
     "exception": false,
     "start_time": "2022-11-10T05:00:57.743637",
     "status": "completed"
    },
    "tags": []
   },
   "source": [
    "### 3.1 Drop columns\n",
    "\n",
    "Besides the column Cabin, with too many missing values, the columns PassengerId, Name and Ticket are redundand so we will drop them as well."
   ]
  },
  {
   "cell_type": "code",
   "execution_count": 17,
   "id": "2d59a210",
   "metadata": {
    "execution": {
     "iopub.execute_input": "2022-11-10T05:00:57.802158Z",
     "iopub.status.busy": "2022-11-10T05:00:57.801425Z",
     "iopub.status.idle": "2022-11-10T05:00:57.811874Z",
     "shell.execute_reply": "2022-11-10T05:00:57.810321Z"
    },
    "papermill": {
     "duration": 0.034005,
     "end_time": "2022-11-10T05:00:57.814977",
     "exception": false,
     "start_time": "2022-11-10T05:00:57.780972",
     "status": "completed"
    },
    "tags": []
   },
   "outputs": [
    {
     "name": "stdout",
     "output_type": "stream",
     "text": [
      "train data columns:  \n",
      " Index(['Survived', 'Pclass', 'Sex', 'Age', 'SibSp', 'Parch', 'Fare',\n",
      "       'Embarked'],\n",
      "      dtype='object') \n",
      "\n",
      "test data columns:  \n",
      " Index(['Pclass', 'Sex', 'Age', 'SibSp', 'Parch', 'Fare', 'Embarked'], dtype='object')\n"
     ]
    }
   ],
   "source": [
    "# Drop columns\n",
    "train = train.drop([\"PassengerId\", \"Name\", \"Ticket\", \"Cabin\"], axis=1)\n",
    "test = test.drop([\"PassengerId\", \"Name\", \"Ticket\", \"Cabin\"], axis=1)\n",
    "\n",
    "print(\"train data columns: \", \"\\n\", train.columns, \"\\n\")\n",
    "print(\"test data columns: \", \"\\n\", test.columns)"
   ]
  },
  {
   "cell_type": "markdown",
   "id": "07c582d0",
   "metadata": {
    "papermill": {
     "duration": 0.018139,
     "end_time": "2022-11-10T05:00:57.852180",
     "exception": false,
     "start_time": "2022-11-10T05:00:57.834041",
     "status": "completed"
    },
    "tags": []
   },
   "source": [
    "### 3.2 Impute missing values"
   ]
  },
  {
   "cell_type": "markdown",
   "id": "f6ae1d64",
   "metadata": {
    "papermill": {
     "duration": 0.018813,
     "end_time": "2022-11-10T05:00:57.889516",
     "exception": false,
     "start_time": "2022-11-10T05:00:57.870703",
     "status": "completed"
    },
    "tags": []
   },
   "source": [
    "**Missing values in Age**\n",
    "\n",
    "As mentioned in the analysis above, the age survival rate depends on the class. We will impute the missing values in Age with the median corresponding to each class. The median is more robust to outliers, which makes it a better choice than the mean. Next it is defined a function to impute the age with median for each class."
   ]
  },
  {
   "cell_type": "code",
   "execution_count": 18,
   "id": "015087f9",
   "metadata": {
    "execution": {
     "iopub.execute_input": "2022-11-10T05:00:57.929484Z",
     "iopub.status.busy": "2022-11-10T05:00:57.929049Z",
     "iopub.status.idle": "2022-11-10T05:00:57.936769Z",
     "shell.execute_reply": "2022-11-10T05:00:57.935392Z"
    },
    "papermill": {
     "duration": 0.030854,
     "end_time": "2022-11-10T05:00:57.939519",
     "exception": false,
     "start_time": "2022-11-10T05:00:57.908665",
     "status": "completed"
    },
    "tags": []
   },
   "outputs": [],
   "source": [
    "# Define function to impute Age with median corresponding to each Pclass\n",
    "\n",
    "def impute_age(df):\n",
    "    \"\"\"Function to impute missing values in Age with median corresponding to each Pclass\"\"\"\n",
    "    # Get a list with classes in Pclass\n",
    "    pclasses = df.Pclass.unique().tolist()\n",
    "     \n",
    "    for pclass in pclasses:\n",
    "        # Get the median Age value for each class\n",
    "        median_age = df.groupby(\"Pclass\")[\"Age\"].median()[pclass]     \n",
    "        # Apply a mask and impute missing values with the median for each class\n",
    "        df.loc[(df.Age.isnull()) & (df.Pclass == pclass), \"Age\"] = median_age   \n",
    "        \n",
    "    return df"
   ]
  },
  {
   "cell_type": "markdown",
   "id": "8fcffdd6",
   "metadata": {
    "papermill": {
     "duration": 0.01889,
     "end_time": "2022-11-10T05:00:57.977421",
     "exception": false,
     "start_time": "2022-11-10T05:00:57.958531",
     "status": "completed"
    },
    "tags": []
   },
   "source": [
    "Using the function impute_age() are imputed the missing values for Age in both train and test datasets."
   ]
  },
  {
   "cell_type": "code",
   "execution_count": 19,
   "id": "ce347bd4",
   "metadata": {
    "execution": {
     "iopub.execute_input": "2022-11-10T05:00:58.017571Z",
     "iopub.status.busy": "2022-11-10T05:00:58.017151Z",
     "iopub.status.idle": "2022-11-10T05:00:58.031894Z",
     "shell.execute_reply": "2022-11-10T05:00:58.030666Z"
    },
    "papermill": {
     "duration": 0.037074,
     "end_time": "2022-11-10T05:00:58.034328",
     "exception": false,
     "start_time": "2022-11-10T05:00:57.997254",
     "status": "completed"
    },
    "tags": []
   },
   "outputs": [
    {
     "data": {
      "text/plain": [
       "0"
      ]
     },
     "execution_count": 19,
     "metadata": {},
     "output_type": "execute_result"
    }
   ],
   "source": [
    "# Impute missing values for Age in train dataset\n",
    "impute_age(train)\n",
    "# Check if the values are imputed\n",
    "train[\"Age\"].isnull().sum()"
   ]
  },
  {
   "cell_type": "code",
   "execution_count": 20,
   "id": "ee07eeab",
   "metadata": {
    "execution": {
     "iopub.execute_input": "2022-11-10T05:00:58.073315Z",
     "iopub.status.busy": "2022-11-10T05:00:58.072798Z",
     "iopub.status.idle": "2022-11-10T05:00:58.088781Z",
     "shell.execute_reply": "2022-11-10T05:00:58.087517Z"
    },
    "papermill": {
     "duration": 0.038232,
     "end_time": "2022-11-10T05:00:58.091299",
     "exception": false,
     "start_time": "2022-11-10T05:00:58.053067",
     "status": "completed"
    },
    "tags": []
   },
   "outputs": [
    {
     "data": {
      "text/plain": [
       "0"
      ]
     },
     "execution_count": 20,
     "metadata": {},
     "output_type": "execute_result"
    }
   ],
   "source": [
    "# Impute missing values for Age in test dataset\n",
    "impute_age(test)\n",
    "# Check if the values are imputed\n",
    "test[\"Age\"].isnull().sum()"
   ]
  },
  {
   "cell_type": "markdown",
   "id": "6a4e0db9",
   "metadata": {
    "papermill": {
     "duration": 0.019106,
     "end_time": "2022-11-10T05:00:58.130389",
     "exception": false,
     "start_time": "2022-11-10T05:00:58.111283",
     "status": "completed"
    },
    "tags": []
   },
   "source": [
    "**Missing values in Embarked**\n",
    "\n",
    "The train dataset has two missing values for Embarked. We will impute them with the most frequent category \"S\". The test dataset has no missing values for the Embarked variable."
   ]
  },
  {
   "cell_type": "code",
   "execution_count": 21,
   "id": "3d513318",
   "metadata": {
    "execution": {
     "iopub.execute_input": "2022-11-10T05:00:58.171459Z",
     "iopub.status.busy": "2022-11-10T05:00:58.170905Z",
     "iopub.status.idle": "2022-11-10T05:00:58.182754Z",
     "shell.execute_reply": "2022-11-10T05:00:58.181213Z"
    },
    "papermill": {
     "duration": 0.035372,
     "end_time": "2022-11-10T05:00:58.185271",
     "exception": false,
     "start_time": "2022-11-10T05:00:58.149899",
     "status": "completed"
    },
    "tags": []
   },
   "outputs": [
    {
     "data": {
      "text/plain": [
       "0"
      ]
     },
     "execution_count": 21,
     "metadata": {},
     "output_type": "execute_result"
    }
   ],
   "source": [
    "# Impute missing values with the most frequent category \"S\"\n",
    "train.loc[:, \"Embarked\"] = train.loc[:, \"Embarked\"].fillna(\"S\")\n",
    "# Check if the values are imputed\n",
    "train['Embarked'].isnull().sum()"
   ]
  },
  {
   "cell_type": "markdown",
   "id": "6bfc2156",
   "metadata": {
    "papermill": {
     "duration": 0.018511,
     "end_time": "2022-11-10T05:00:58.222798",
     "exception": false,
     "start_time": "2022-11-10T05:00:58.204287",
     "status": "completed"
    },
    "tags": []
   },
   "source": [
    "**Missing values in Fare**\n",
    "\n",
    "In the test dataset there is only one missing value for Fare. Variable Fare is of floating-point type, so we will use the median to impute the missing value."
   ]
  },
  {
   "cell_type": "code",
   "execution_count": 22,
   "id": "6f1ba37f",
   "metadata": {
    "execution": {
     "iopub.execute_input": "2022-11-10T05:00:58.261698Z",
     "iopub.status.busy": "2022-11-10T05:00:58.261183Z",
     "iopub.status.idle": "2022-11-10T05:00:58.271475Z",
     "shell.execute_reply": "2022-11-10T05:00:58.270409Z"
    },
    "papermill": {
     "duration": 0.032392,
     "end_time": "2022-11-10T05:00:58.273689",
     "exception": false,
     "start_time": "2022-11-10T05:00:58.241297",
     "status": "completed"
    },
    "tags": []
   },
   "outputs": [
    {
     "data": {
      "text/plain": [
       "0"
      ]
     },
     "execution_count": 22,
     "metadata": {},
     "output_type": "execute_result"
    }
   ],
   "source": [
    "# Replace the missing value in Fare with median\n",
    "HasNan = np.isnan(test.loc[:, \"Fare\"])\n",
    "test.loc[HasNan, \"Fare\"] = np.nanmedian(test.loc[:, \"Fare\"])\n",
    "test[\"Fare\"].isnull().sum()"
   ]
  },
  {
   "cell_type": "markdown",
   "id": "3393ce60",
   "metadata": {
    "papermill": {
     "duration": 0.018223,
     "end_time": "2022-11-10T05:00:58.310643",
     "exception": false,
     "start_time": "2022-11-10T05:00:58.292420",
     "status": "completed"
    },
    "tags": []
   },
   "source": [
    "### Replace categories with numeric\n",
    "\n",
    "The variables Sex and Embarked are of type object. We will replace the categories in these variables with numeric values."
   ]
  },
  {
   "cell_type": "code",
   "execution_count": 23,
   "id": "83ada032",
   "metadata": {
    "execution": {
     "iopub.execute_input": "2022-11-10T05:00:58.349636Z",
     "iopub.status.busy": "2022-11-10T05:00:58.349211Z",
     "iopub.status.idle": "2022-11-10T05:00:58.356503Z",
     "shell.execute_reply": "2022-11-10T05:00:58.355504Z"
    },
    "papermill": {
     "duration": 0.029477,
     "end_time": "2022-11-10T05:00:58.358518",
     "exception": false,
     "start_time": "2022-11-10T05:00:58.329041",
     "status": "completed"
    },
    "tags": []
   },
   "outputs": [
    {
     "name": "stdout",
     "output_type": "stream",
     "text": [
      "['male' 'female']\n",
      "['S' 'C' 'Q']\n"
     ]
    }
   ],
   "source": [
    "# Print unique values in Sex and Embarked columns\n",
    "print(train[\"Sex\"].unique())\n",
    "print(train[\"Embarked\"].unique())"
   ]
  },
  {
   "cell_type": "code",
   "execution_count": 24,
   "id": "5e184f08",
   "metadata": {
    "execution": {
     "iopub.execute_input": "2022-11-10T05:00:58.397858Z",
     "iopub.status.busy": "2022-11-10T05:00:58.397439Z",
     "iopub.status.idle": "2022-11-10T05:00:58.410999Z",
     "shell.execute_reply": "2022-11-10T05:00:58.409627Z"
    },
    "papermill": {
     "duration": 0.036199,
     "end_time": "2022-11-10T05:00:58.413371",
     "exception": false,
     "start_time": "2022-11-10T05:00:58.377172",
     "status": "completed"
    },
    "tags": []
   },
   "outputs": [
    {
     "name": "stdout",
     "output_type": "stream",
     "text": [
      "[0 1]\n",
      "[1 2 3]\n"
     ]
    }
   ],
   "source": [
    "# Map Sex and Embarked to numerical values in train set\n",
    "train[\"Sex\"] = train[\"Sex\"].map({\"female\": 1, \"male\": 0})\n",
    "train[\"Embarked\"] = train[\"Embarked\"].map({\"S\" : 1, \"C\" : 2, \"Q\" : 3})\n",
    "\n",
    "# Map Sex and Embarked to numerical values in test set\n",
    "test[\"Sex\"] = test[\"Sex\"].map({\"female\": 1, \"male\": 0})\n",
    "test[\"Embarked\"] = test[\"Embarked\"].map({\"S\" : 1, \"C\" : 2, \"Q\" : 3})\n",
    "\n",
    "print(train[\"Sex\"].unique())\n",
    "print(train[\"Embarked\"].unique())"
   ]
  },
  {
   "cell_type": "markdown",
   "id": "0d3d0294",
   "metadata": {
    "papermill": {
     "duration": 0.018357,
     "end_time": "2022-11-10T05:00:58.450736",
     "exception": false,
     "start_time": "2022-11-10T05:00:58.432379",
     "status": "completed"
    },
    "tags": []
   },
   "source": [
    "### Bin variable Age\n",
    "\n",
    "Next we will bin the variable Age in five bins, between 0 and 80, for both train and test datasets."
   ]
  },
  {
   "cell_type": "code",
   "execution_count": 25,
   "id": "0fe06a0e",
   "metadata": {
    "execution": {
     "iopub.execute_input": "2022-11-10T05:00:58.491070Z",
     "iopub.status.busy": "2022-11-10T05:00:58.490679Z",
     "iopub.status.idle": "2022-11-10T05:00:58.505292Z",
     "shell.execute_reply": "2022-11-10T05:00:58.504379Z"
    },
    "papermill": {
     "duration": 0.037644,
     "end_time": "2022-11-10T05:00:58.507553",
     "exception": false,
     "start_time": "2022-11-10T05:00:58.469909",
     "status": "completed"
    },
    "tags": []
   },
   "outputs": [
    {
     "data": {
      "text/plain": [
       "16_28    398\n",
       "36_62    210\n",
       "28_36    168\n",
       "0_16     100\n",
       "62_80     15\n",
       "Name: Age, dtype: int64"
      ]
     },
     "execution_count": 25,
     "metadata": {},
     "output_type": "execute_result"
    }
   ],
   "source": [
    "# Bin variable Age in train set\n",
    "\n",
    "# List with bin limits\n",
    "bins_age = [0, 16, 28, 36, 62, 80]\n",
    "# List for bin labels\n",
    "age_categ = [\"0_16\", \"16_28\", \"28_36\", \"36_62\", \"62_80\"]\n",
    "# Use pd.cut() for binning\n",
    "binAge = pd.cut(train.loc[:, \"Age\"], bins_age, labels=age_categ)\n",
    "# Add binned Age to dataset\n",
    "train[\"Age\"] = binAge\n",
    "# Add binned Age to dataset\n",
    "train[\"Age\"] = binAge\n",
    "# Check the counts\n",
    "train.loc[:, \"Age\"].value_counts()"
   ]
  },
  {
   "cell_type": "code",
   "execution_count": 26,
   "id": "5e52a391",
   "metadata": {
    "execution": {
     "iopub.execute_input": "2022-11-10T05:00:58.548332Z",
     "iopub.status.busy": "2022-11-10T05:00:58.547942Z",
     "iopub.status.idle": "2022-11-10T05:00:58.562141Z",
     "shell.execute_reply": "2022-11-10T05:00:58.560610Z"
    },
    "papermill": {
     "duration": 0.037886,
     "end_time": "2022-11-10T05:00:58.564646",
     "exception": false,
     "start_time": "2022-11-10T05:00:58.526760",
     "status": "completed"
    },
    "tags": []
   },
   "outputs": [
    {
     "data": {
      "text/plain": [
       "16_28    217\n",
       "36_62     98\n",
       "28_36     62\n",
       "0_16      34\n",
       "62_80      7\n",
       "Name: Age, dtype: int64"
      ]
     },
     "execution_count": 26,
     "metadata": {},
     "output_type": "execute_result"
    }
   ],
   "source": [
    "# Bin variable Age in test set\n",
    "\n",
    "# List with bin limits\n",
    "bins_age = [0, 16, 28, 36, 62, 80]\n",
    "# List for bin labels\n",
    "age_categ = [\"0_16\", \"16_28\", \"28_36\", \"36_62\", \"62_80\"]\n",
    "# Use pd.cut() for binning\n",
    "binAge = pd.cut(test.loc[:, \"Age\"], bins_age, labels=age_categ)\n",
    "# Add binned Age to dataset\n",
    "test[\"Age\"] = binAge\n",
    "# Check the counts\n",
    "test.loc[:, \"Age\"].value_counts()"
   ]
  },
  {
   "cell_type": "markdown",
   "id": "63b8393e",
   "metadata": {
    "papermill": {
     "duration": 0.019284,
     "end_time": "2022-11-10T05:00:58.605070",
     "exception": false,
     "start_time": "2022-11-10T05:00:58.585786",
     "status": "completed"
    },
    "tags": []
   },
   "source": [
    "### Scale data\n",
    "\n",
    "The values for Fare are much larger than the rest of variables. The values need to be scaled so they are on a similar range with the rest of features before building the models. For scaling it is used the MinMax scaler which translates the values between 0 and 1."
   ]
  },
  {
   "cell_type": "code",
   "execution_count": 27,
   "id": "97f19d9b",
   "metadata": {
    "execution": {
     "iopub.execute_input": "2022-11-10T05:00:58.647317Z",
     "iopub.status.busy": "2022-11-10T05:00:58.646889Z",
     "iopub.status.idle": "2022-11-10T05:00:58.662965Z",
     "shell.execute_reply": "2022-11-10T05:00:58.661906Z"
    },
    "papermill": {
     "duration": 0.040582,
     "end_time": "2022-11-10T05:00:58.665771",
     "exception": false,
     "start_time": "2022-11-10T05:00:58.625189",
     "status": "completed"
    },
    "tags": []
   },
   "outputs": [],
   "source": [
    "# Scale the Fare variable in train dataset\n",
    "fare = train.loc[:, [\"Fare\"]]    \n",
    "scaler = MinMaxScaler().fit(fare)        \n",
    "fare_scaled = scaler.transform(fare)        \n",
    "train.loc[:, \"Fare\"] = fare_scaled \n",
    "#train.head()\n",
    "\n",
    "# Scale Fare variable in test dataset\n",
    "fare = test.loc[:, [\"Fare\"]]\n",
    "scaler = MinMaxScaler().fit(fare)\n",
    "fare_scaled = scaler.transform(fare)\n",
    "test.loc[:, \"Fare\"] = fare_scaled\n",
    "#test.head()"
   ]
  },
  {
   "cell_type": "markdown",
   "id": "d06869bf",
   "metadata": {
    "papermill": {
     "duration": 0.021846,
     "end_time": "2022-11-10T05:00:58.709557",
     "exception": false,
     "start_time": "2022-11-10T05:00:58.687711",
     "status": "completed"
    },
    "tags": []
   },
   "source": [
    "## 4. Build models\n",
    "\n",
    "With data prepared we can start building classification models for predicting the survival on Titanic. The performance of the models is compared by assesing the accuracy score for each of them.\n",
    "\n",
    "Below are created the X and y sets for the features and the target. The dataset is split into training and testing sets using the \"train_test_split\" function from sklearn. For training the model is used 80% of the data and the rest of 20% is used for testing."
   ]
  },
  {
   "cell_type": "code",
   "execution_count": 28,
   "id": "047adc41",
   "metadata": {
    "execution": {
     "iopub.execute_input": "2022-11-10T05:00:58.755247Z",
     "iopub.status.busy": "2022-11-10T05:00:58.754489Z",
     "iopub.status.idle": "2022-11-10T05:00:58.778804Z",
     "shell.execute_reply": "2022-11-10T05:00:58.777452Z"
    },
    "papermill": {
     "duration": 0.050029,
     "end_time": "2022-11-10T05:00:58.781412",
     "exception": false,
     "start_time": "2022-11-10T05:00:58.731383",
     "status": "completed"
    },
    "tags": []
   },
   "outputs": [
    {
     "name": "stdout",
     "output_type": "stream",
     "text": [
      "(891, 11)\n"
     ]
    },
    {
     "data": {
      "text/html": [
       "<div>\n",
       "<style scoped>\n",
       "    .dataframe tbody tr th:only-of-type {\n",
       "        vertical-align: middle;\n",
       "    }\n",
       "\n",
       "    .dataframe tbody tr th {\n",
       "        vertical-align: top;\n",
       "    }\n",
       "\n",
       "    .dataframe thead th {\n",
       "        text-align: right;\n",
       "    }\n",
       "</style>\n",
       "<table border=\"1\" class=\"dataframe\">\n",
       "  <thead>\n",
       "    <tr style=\"text-align: right;\">\n",
       "      <th></th>\n",
       "      <th>Pclass</th>\n",
       "      <th>Sex</th>\n",
       "      <th>SibSp</th>\n",
       "      <th>Parch</th>\n",
       "      <th>Fare</th>\n",
       "      <th>Embarked</th>\n",
       "      <th>Age_0_16</th>\n",
       "      <th>Age_16_28</th>\n",
       "      <th>Age_28_36</th>\n",
       "      <th>Age_36_62</th>\n",
       "      <th>Age_62_80</th>\n",
       "    </tr>\n",
       "  </thead>\n",
       "  <tbody>\n",
       "    <tr>\n",
       "      <th>0</th>\n",
       "      <td>3</td>\n",
       "      <td>0</td>\n",
       "      <td>1</td>\n",
       "      <td>0</td>\n",
       "      <td>0.014151</td>\n",
       "      <td>1</td>\n",
       "      <td>0</td>\n",
       "      <td>1</td>\n",
       "      <td>0</td>\n",
       "      <td>0</td>\n",
       "      <td>0</td>\n",
       "    </tr>\n",
       "    <tr>\n",
       "      <th>1</th>\n",
       "      <td>1</td>\n",
       "      <td>1</td>\n",
       "      <td>1</td>\n",
       "      <td>0</td>\n",
       "      <td>0.139136</td>\n",
       "      <td>2</td>\n",
       "      <td>0</td>\n",
       "      <td>0</td>\n",
       "      <td>0</td>\n",
       "      <td>1</td>\n",
       "      <td>0</td>\n",
       "    </tr>\n",
       "    <tr>\n",
       "      <th>2</th>\n",
       "      <td>3</td>\n",
       "      <td>1</td>\n",
       "      <td>0</td>\n",
       "      <td>0</td>\n",
       "      <td>0.015469</td>\n",
       "      <td>1</td>\n",
       "      <td>0</td>\n",
       "      <td>1</td>\n",
       "      <td>0</td>\n",
       "      <td>0</td>\n",
       "      <td>0</td>\n",
       "    </tr>\n",
       "    <tr>\n",
       "      <th>3</th>\n",
       "      <td>1</td>\n",
       "      <td>1</td>\n",
       "      <td>1</td>\n",
       "      <td>0</td>\n",
       "      <td>0.103644</td>\n",
       "      <td>1</td>\n",
       "      <td>0</td>\n",
       "      <td>0</td>\n",
       "      <td>1</td>\n",
       "      <td>0</td>\n",
       "      <td>0</td>\n",
       "    </tr>\n",
       "    <tr>\n",
       "      <th>4</th>\n",
       "      <td>3</td>\n",
       "      <td>0</td>\n",
       "      <td>0</td>\n",
       "      <td>0</td>\n",
       "      <td>0.015713</td>\n",
       "      <td>1</td>\n",
       "      <td>0</td>\n",
       "      <td>0</td>\n",
       "      <td>1</td>\n",
       "      <td>0</td>\n",
       "      <td>0</td>\n",
       "    </tr>\n",
       "  </tbody>\n",
       "</table>\n",
       "</div>"
      ],
      "text/plain": [
       "   Pclass  Sex  SibSp  Parch      Fare  Embarked  Age_0_16  Age_16_28  \\\n",
       "0       3    0      1      0  0.014151         1         0          1   \n",
       "1       1    1      1      0  0.139136         2         0          0   \n",
       "2       3    1      0      0  0.015469         1         0          1   \n",
       "3       1    1      1      0  0.103644         1         0          0   \n",
       "4       3    0      0      0  0.015713         1         0          0   \n",
       "\n",
       "   Age_28_36  Age_36_62  Age_62_80  \n",
       "0          0          0          0  \n",
       "1          0          1          0  \n",
       "2          0          0          0  \n",
       "3          1          0          0  \n",
       "4          1          0          0  "
      ]
     },
     "execution_count": 28,
     "metadata": {},
     "output_type": "execute_result"
    }
   ],
   "source": [
    "# Create the target\n",
    "y = train[\"Survived\"]\n",
    "\n",
    "# Create the features\n",
    "# Get dummies\n",
    "features = [\"Pclass\", \"Sex\", \"Age\", \"SibSp\", \"Parch\", \"Fare\", \"Embarked\"]\n",
    "X = pd.get_dummies(train[features])\n",
    "print(X.shape)\n",
    "X.head()"
   ]
  },
  {
   "cell_type": "code",
   "execution_count": 29,
   "id": "487aff62",
   "metadata": {
    "execution": {
     "iopub.execute_input": "2022-11-10T05:00:58.826352Z",
     "iopub.status.busy": "2022-11-10T05:00:58.825484Z",
     "iopub.status.idle": "2022-11-10T05:00:58.835712Z",
     "shell.execute_reply": "2022-11-10T05:00:58.834626Z"
    },
    "papermill": {
     "duration": 0.034955,
     "end_time": "2022-11-10T05:00:58.838352",
     "exception": false,
     "start_time": "2022-11-10T05:00:58.803397",
     "status": "completed"
    },
    "tags": []
   },
   "outputs": [
    {
     "name": "stdout",
     "output_type": "stream",
     "text": [
      "(712, 11) (712,)\n",
      "(179, 11) (179,)\n"
     ]
    }
   ],
   "source": [
    "# Split data\n",
    "X_train, X_test, y_train, y_test = train_test_split(X, y, test_size = 0.2, random_state = 1)\n",
    "\n",
    "print(X_train.shape, y_train.shape)\n",
    "print(X_test.shape, y_test.shape)"
   ]
  },
  {
   "cell_type": "markdown",
   "id": "8cdb5c46",
   "metadata": {
    "papermill": {
     "duration": 0.020231,
     "end_time": "2022-11-10T05:00:58.880269",
     "exception": false,
     "start_time": "2022-11-10T05:00:58.860038",
     "status": "completed"
    },
    "tags": []
   },
   "source": [
    "The function below trains and applies multiple classification models, then calculates the testing accuracy for each of them. For each model it was applied hyperparameter tunning with the goal to improve the performance of the model."
   ]
  },
  {
   "cell_type": "code",
   "execution_count": 30,
   "id": "e1ca5a20",
   "metadata": {
    "execution": {
     "iopub.execute_input": "2022-11-10T05:00:58.923579Z",
     "iopub.status.busy": "2022-11-10T05:00:58.923148Z",
     "iopub.status.idle": "2022-11-10T05:00:58.938828Z",
     "shell.execute_reply": "2022-11-10T05:00:58.937844Z"
    },
    "papermill": {
     "duration": 0.040005,
     "end_time": "2022-11-10T05:00:58.941434",
     "exception": false,
     "start_time": "2022-11-10T05:00:58.901429",
     "status": "completed"
    },
    "tags": []
   },
   "outputs": [],
   "source": [
    "# Create a function with many ML models\n",
    "\n",
    "def models(X_train, y_train, X_test, y_test):\n",
    "    \"\"\"Function to train and apply models then calculate the accuracy score\"\"\"\n",
    "    \n",
    "    # Decision Tree\n",
    "    from sklearn.tree import DecisionTreeClassifier\n",
    "    tree = DecisionTreeClassifier(criterion = 'entropy', min_samples_leaf=4, random_state = 0)  \n",
    "    tree.fit(X_train, y_train)\n",
    "    tree_pred = tree.predict(X_test)\n",
    "    \n",
    "    # Random Forest Classifier\n",
    "    from sklearn.ensemble import RandomForestClassifier\n",
    "    forest = RandomForestClassifier(n_estimators=100, max_depth=5, min_samples_leaf=5, random_state=0)\n",
    "    forest.fit(X_train, y_train)\n",
    "    forest_pred = forest.predict(X_test)\n",
    "    \n",
    "    # Gradient Boosting Classifier\n",
    "    from sklearn.ensemble import GradientBoostingClassifier\n",
    "    grad = GradientBoostingClassifier(n_estimators=100, loss='deviance', learning_rate=0.05, max_depth=5, min_samples_leaf=5)\n",
    "    grad.fit(X_train, y_train)\n",
    "    grad_pred = grad.predict(X_test)\n",
    "    \n",
    "    # LogisticRegression\n",
    "    from sklearn.linear_model import LogisticRegression\n",
    "    log = LogisticRegression(max_iter=5000, random_state = 0)   # max_iter=1000\n",
    "    log.fit(X_train, y_train)\n",
    "    log_pred = log.predict(X_test)\n",
    "    \n",
    "    # KNeighbors\n",
    "    from sklearn.neighbors import KNeighborsClassifier\n",
    "    knn = KNeighborsClassifier(n_neighbors = 5, metric = 'minkowski', p=2)\n",
    "    knn.fit(X_train, y_train)\n",
    "    knn_pred = knn.predict(X_test)\n",
    "    \n",
    "    # SVC (linear kernel)\n",
    "    from sklearn.svm import SVC\n",
    "    svc_lin = SVC(kernel = 'linear', random_state=0)\n",
    "    svc_lin.fit(X_train, y_train)\n",
    "    svc_lin_pred = svc_lin.predict(X_test)\n",
    "    \n",
    "    # SVC (RBF kernel)\n",
    "    from sklearn.svm import SVC\n",
    "    svc_rbf = SVC(kernel = 'rbf', random_state=0)\n",
    "    svc_rbf.fit(X_train, y_train)\n",
    "    svc_rbf_pred = svc_rbf.predict(X_test)\n",
    "    \n",
    "    # GaussianNB\n",
    "    from sklearn.naive_bayes import GaussianNB\n",
    "    gauss = GaussianNB()\n",
    "    gauss.fit(X_train, y_train)\n",
    "    gauss_pred = gauss.predict(X_test)\n",
    "      \n",
    "    # Print testing accuracy for each model\n",
    "    print(\"Testing accuracy\")\n",
    "    print(\"[0] Decision Tree Testing Accuracy: {:.2%}\".format(accuracy_score(y_test, tree_pred)))\n",
    "    print(\"[1] Random Forest Testing Accuracy: {:.2%}\".format(accuracy_score(y_test, forest_pred)))\n",
    "    print(\"[2] Gradient Boosting Testing Accuracy: {:.2%}\".format(accuracy_score(y_test, grad_pred)))\n",
    "    print(\"[3] Logistic Regression Testing Accuracy : {:.2%}\".format(accuracy_score(y_test, log_pred)))\n",
    "    print(\"[4] SVC Linear Testing Accuracy: {:.2%}\".format(accuracy_score(y_test, svc_lin_pred)))\n",
    "    print(\"[5] SVC RBF TestingAccuracy: {:.2%}\".format(accuracy_score(y_test, svc_rbf_pred)))\n",
    "    print(\"[6] KNeighbors  TestingAccuracy: {:.2%}\".format(accuracy_score(y_test, knn_pred)))\n",
    "    print(\"[7] GaussianNB TestingAccuracy: {:.2%}\".format(accuracy_score(y_test, gauss_pred)))\n",
    "\n",
    "    return tree, forest, grad, log, svc_lin, svc_rbf, knn, gauss "
   ]
  },
  {
   "cell_type": "code",
   "execution_count": 31,
   "id": "9a83ec91",
   "metadata": {
    "execution": {
     "iopub.execute_input": "2022-11-10T05:00:58.982973Z",
     "iopub.status.busy": "2022-11-10T05:00:58.982298Z",
     "iopub.status.idle": "2022-11-10T05:00:59.435355Z",
     "shell.execute_reply": "2022-11-10T05:00:59.434086Z"
    },
    "papermill": {
     "duration": 0.476726,
     "end_time": "2022-11-10T05:00:59.437835",
     "exception": false,
     "start_time": "2022-11-10T05:00:58.961109",
     "status": "completed"
    },
    "tags": []
   },
   "outputs": [
    {
     "name": "stdout",
     "output_type": "stream",
     "text": [
      "Testing accuracy\n",
      "[0] Decision Tree Testing Accuracy: 79.33%\n",
      "[1] Random Forest Testing Accuracy: 79.33%\n",
      "[2] Gradient Boosting Testing Accuracy: 79.33%\n",
      "[3] Logistic Regression Testing Accuracy : 79.89%\n",
      "[4] SVC Linear Testing Accuracy: 77.65%\n",
      "[5] SVC RBF TestingAccuracy: 78.21%\n",
      "[6] KNeighbors  TestingAccuracy: 74.86%\n",
      "[7] GaussianNB TestingAccuracy: 72.63%\n"
     ]
    }
   ],
   "source": [
    "model = models(X_train, y_train, X_test, y_test)"
   ]
  },
  {
   "cell_type": "markdown",
   "id": "e221563d",
   "metadata": {
    "papermill": {
     "duration": 0.019582,
     "end_time": "2022-11-10T05:00:59.478326",
     "exception": false,
     "start_time": "2022-11-10T05:00:59.458744",
     "status": "completed"
    },
    "tags": []
   },
   "source": [
    "The Random Forest, Decision Tree, Gradient Boosting and Logistic Regression models have a high accuracy score of more than 79%. They are followed by SVC RBF and SVC Linear kernel with a score of ~ 78%. The lowest accuracy have KNeighbors and GaussianNB with 72-74%."
   ]
  },
  {
   "cell_type": "markdown",
   "id": "c53ef38e",
   "metadata": {
    "papermill": {
     "duration": 0.01977,
     "end_time": "2022-11-10T05:00:59.518164",
     "exception": false,
     "start_time": "2022-11-10T05:00:59.498394",
     "status": "completed"
    },
    "tags": []
   },
   "source": [
    "**Confusion Matrix for Random Forest model**\n",
    "\n",
    "The Random Forest model has one of the highest accuracy score. To asses its performance, we visualize below the confusion matrix."
   ]
  },
  {
   "cell_type": "code",
   "execution_count": 32,
   "id": "5bd48947",
   "metadata": {
    "execution": {
     "iopub.execute_input": "2022-11-10T05:00:59.559707Z",
     "iopub.status.busy": "2022-11-10T05:00:59.558373Z",
     "iopub.status.idle": "2022-11-10T05:00:59.586683Z",
     "shell.execute_reply": "2022-11-10T05:00:59.585401Z"
    },
    "papermill": {
     "duration": 0.051703,
     "end_time": "2022-11-10T05:00:59.589212",
     "exception": false,
     "start_time": "2022-11-10T05:00:59.537509",
     "status": "completed"
    },
    "tags": []
   },
   "outputs": [
    {
     "name": "stdout",
     "output_type": "stream",
     "text": [
      "\n",
      "Confusion Matrix for the Random Forest model:\n",
      "  [[100   6]\n",
      " [ 31  42]]\n",
      "\n",
      "TP, TN, FP, FN: 42 , 100 , 6 , 31\n"
     ]
    }
   ],
   "source": [
    "# Confusion Matrix for Random Forest model\n",
    "cm = confusion_matrix(y_test, model[1].predict(X_test))\n",
    "print ('\\nConfusion Matrix for the Random Forest model:\\n ', cm)\n",
    "tn, fp, fn, tp = cm.ravel()\n",
    "print (\"\\nTP, TN, FP, FN:\", tp, \",\", tn, \",\", fp, \",\", fn)"
   ]
  },
  {
   "cell_type": "code",
   "execution_count": 33,
   "id": "cb66ba04",
   "metadata": {
    "execution": {
     "iopub.execute_input": "2022-11-10T05:00:59.630115Z",
     "iopub.status.busy": "2022-11-10T05:00:59.629734Z",
     "iopub.status.idle": "2022-11-10T05:00:59.824706Z",
     "shell.execute_reply": "2022-11-10T05:00:59.823584Z"
    },
    "papermill": {
     "duration": 0.218471,
     "end_time": "2022-11-10T05:00:59.827184",
     "exception": false,
     "start_time": "2022-11-10T05:00:59.608713",
     "status": "completed"
    },
    "tags": []
   },
   "outputs": [
    {
     "data": {
      "image/png": "[encoded data removed]",
      "text/plain": [
       "<Figure size 432x288 with 2 Axes>"
      ]
     },
     "metadata": {},
     "output_type": "display_data"
    }
   ],
   "source": [
    "# Build the Confusion Matrix plot for the Random Forest model\n",
    "plt.figure(figsize=(6,4))\n",
    "sns.set(font_scale=1.3)            \n",
    "sns.heatmap(cm, annot=True, annot_kws={\"size\": 16}, linewidths=0.2) \n",
    "\n",
    "class_names = ['No', 'Yes']\n",
    "tick_marks = np.arange(len(class_names))\n",
    "tick_marks2 = tick_marks + 0.5\n",
    "plt.xticks(tick_marks2, class_names, rotation=0)\n",
    "plt.yticks(tick_marks2, class_names, rotation=0)\n",
    "plt.xlabel('Predicted label')\n",
    "plt.ylabel('Actual label')\n",
    "plt.title('Confusion Matrix for Random Forest Model')\n",
    "plt.show()"
   ]
  },
  {
   "cell_type": "markdown",
   "id": "00ff26c4",
   "metadata": {
    "papermill": {
     "duration": 0.021581,
     "end_time": "2022-11-10T05:00:59.871507",
     "exception": false,
     "start_time": "2022-11-10T05:00:59.849926",
     "status": "completed"
    },
    "tags": []
   },
   "source": [
    "The Confusion Matrix for the Random Forest model has high values on the main diagonal for the True Positives (42) and the True Negatives (100). This indicates a good performance for the classifier. The number of False Negatives (31), people classified as dead but who survived, is higher than the number of False Positives (6), people wrongly predicted as survived.\n",
    "\n",
    "Next are determined the evaluation metrics for the Random Forest model. These include the Error rate, Precision, Recall (Sensitivity) and F1 score."
   ]
  },
  {
   "cell_type": "code",
   "execution_count": 34,
   "id": "fc2d348f",
   "metadata": {
    "execution": {
     "iopub.execute_input": "2022-11-10T05:00:59.915647Z",
     "iopub.status.busy": "2022-11-10T05:00:59.914889Z",
     "iopub.status.idle": "2022-11-10T05:00:59.946291Z",
     "shell.execute_reply": "2022-11-10T05:00:59.944583Z"
    },
    "papermill": {
     "duration": 0.056293,
     "end_time": "2022-11-10T05:00:59.948995",
     "exception": false,
     "start_time": "2022-11-10T05:00:59.892702",
     "status": "completed"
    },
    "tags": []
   },
   "outputs": [
    {
     "name": "stdout",
     "output_type": "stream",
     "text": [
      "Accuracy rate: 0.79\n",
      "Error rate: 0.21\n",
      "Precision: 0.88\n",
      "Recall: 0.58\n",
      "F1 score: 0.69\n"
     ]
    }
   ],
   "source": [
    "predictions = model[1].predict(X_test)\n",
    "\n",
    "# Determine Accuracy rate\n",
    "AR = accuracy_score(y_test, predictions)\n",
    "print (\"Accuracy rate:\", np.round(AR, 2))\n",
    "\n",
    "# Calculate the Error rate\n",
    "ER = 1.0 - AR\n",
    "print (\"Error rate:\", np.round(ER, 2))\n",
    "\n",
    "# Determine Precision\n",
    "P = precision_score(y_test, predictions)\n",
    "print (\"Precision:\", np.round(P, 2))\n",
    "\n",
    "# Determine Recall\n",
    "R = recall_score(y_test, predictions)\n",
    "print (\"Recall:\", np.round(R, 2))\n",
    "\n",
    "# Determine F1 score\n",
    "F1 = f1_score(y_test, predictions)\n",
    "print (\"F1 score:\", np.round(F1, 2))"
   ]
  },
  {
   "cell_type": "markdown",
   "id": "a871f3e1",
   "metadata": {
    "papermill": {
     "duration": 0.019928,
     "end_time": "2022-11-10T05:00:59.989666",
     "exception": false,
     "start_time": "2022-11-10T05:00:59.969738",
     "status": "completed"
    },
    "tags": []
   },
   "source": [
    "The Accuracy rate for the random forest model is high (0.79). The Error rate, the ratio between the erroneous predictions and all predictions, is low with a value of 0.21. The F1 score, which considers both Precision and Recall has a reasonably good value of 0.69. Precision, the accuracy of a predicted positive outcome, has a high value of 0.88 and the Recall, the percent of all values of 1 correctly classified as 1, has a value of almost 0.6."
   ]
  },
  {
   "cell_type": "code",
   "execution_count": 35,
   "id": "104dcec9",
   "metadata": {
    "execution": {
     "iopub.execute_input": "2022-11-10T05:01:00.033041Z",
     "iopub.status.busy": "2022-11-10T05:01:00.032412Z",
     "iopub.status.idle": "2022-11-10T05:01:00.037034Z",
     "shell.execute_reply": "2022-11-10T05:01:00.035814Z"
    },
    "papermill": {
     "duration": 0.029386,
     "end_time": "2022-11-10T05:01:00.039619",
     "exception": false,
     "start_time": "2022-11-10T05:01:00.010233",
     "status": "completed"
    },
    "tags": []
   },
   "outputs": [],
   "source": [
    "# Save predictions\n",
    "# create a dataframe for output values\n",
    "#output = pd.DataFrame({\"PassengerId\": test.PassengerId, \n",
    "#                      \"Survived\": predictions})\n",
    "# save the df to file\n",
    "#output.to_csv(\"submission.csv\", index=False)\n",
    "#print(\"Your submission was succefully saved!\")\n",
    "\n",
    "# Submission score for Random Forest Classifier: 0.77272"
   ]
  },
  {
   "cell_type": "markdown",
   "id": "9aa840b8",
   "metadata": {
    "papermill": {
     "duration": 0.020018,
     "end_time": "2022-11-10T05:01:00.080255",
     "exception": false,
     "start_time": "2022-11-10T05:01:00.060237",
     "status": "completed"
    },
    "tags": []
   },
   "source": [
    "\n",
    "\n"
   ]
  },
  {
   "cell_type": "markdown",
   "id": "871ab712",
   "metadata": {
    "papermill": {
     "duration": 0.020859,
     "end_time": "2022-11-10T05:01:00.121489",
     "exception": false,
     "start_time": "2022-11-10T05:01:00.100630",
     "status": "completed"
    },
    "tags": []
   },
   "source": []
  },
  {
   "cell_type": "markdown",
   "id": "9d11fc1c",
   "metadata": {
    "papermill": {
     "duration": 0.020001,
     "end_time": "2022-11-10T05:01:00.161730",
     "exception": false,
     "start_time": "2022-11-10T05:01:00.141729",
     "status": "completed"
    },
    "tags": []
   },
   "source": []
  }
 ],
 "metadata": {
  "kernelspec": {
   "display_name": "Python 3.10.4 64-bit",
   "language": "python",
   "name": "python3"
  },
  "language_info": {
   "codemirror_mode": {
    "name": "ipython",
    "version": 3
   },
   "file_extension": ".py",
   "mimetype": "text/x-python",
   "name": "python",
   "nbconvert_exporter": "python",
   "pygments_lexer": "ipython3",
   "version": "3.10.4"
  },
  "papermill": {
   "default_parameters": {},
   "duration": 17.18336,
   "end_time": "2022-11-10T05:01:01.104825",
   "environment_variables": {},
   "exception": null,
   "input_path": "__notebook__.ipynb",
   "output_path": "__notebook__.ipynb",
   "parameters": {},
   "start_time": "2022-11-10T05:00:43.921465",
   "version": "2.3.4"
  },
  "vscode": {
   "interpreter": {
    "hash": "26de051ba29f2982a8de78e945f0abaf191376122a1563185a90213a26c5da77"
   }
  }
 },
 "nbformat": 4,
 "nbformat_minor": 5
}
